{
 "cells": [
  {
   "cell_type": "code",
   "execution_count": 1,
   "metadata": {},
   "outputs": [],
   "source": [
    "import pandas as pd"
   ]
  },
  {
   "cell_type": "markdown",
   "metadata": {},
   "source": [
    "I borrowed the list of report summary data types from our earlier analysis in class to bring in the 2020 report summaries csv. I'm labeling the csv's with the data of download to distinguish them. When the December reports come in Dec. 3 I'll put them in the same folders and just have to switch out the date. "
   ]
  },
  {
   "cell_type": "code",
   "execution_count": 2,
   "metadata": {},
   "outputs": [],
   "source": [
    "report_summary_data_types = {\n",
    "    \"MECID\": \"string\",\n",
    "    \"Committee Name\": \"string\",\n",
    "    \"Report\": \"string\",\n",
    "    \"Report Year\": \"Int64\",\n",
    "    \"Report Type\": \"string\",\n",
    "    \"Previous Receipts\": \"float\",\n",
    "    \"Contributions Received\": \"float\",\n",
    "    \"Loans Received\": \"float\",\n",
    "    \" Misc. Receipts\": \"float\",\n",
    "    \" Receipts Subtotal\": \"float\",\n",
    "    \"In-Kind Contributions\": \"float\",\n",
    "    \" Total Receipts This Election\": \"float\",\n",
    "    \"Previous Expenditures\": \"float\",\n",
    "    \"Cash or Check Expenditures\": \"float\",\n",
    "    \"In-Kind Expenditures\": \"float\",\n",
    "    \"Credit Expenditures\": \"float\",\n",
    "    \"Expenditure Subtotal\": \"float\",\n",
    "    \"Total Expenditures\": \"float\",\n",
    "    \"Previous Contributions\": \"float\",\n",
    "    \"Cash/Check Contributions\": \"float\",\n",
    "    \"Credit Contributions\": \"float\",\n",
    "    \"In-Kind Contributions1\": \"float\",\n",
    "    \"Contribution Subtotal\": \"float\",\n",
    "    \"Total Contributions\": \"float\",\n",
    "    \"Loan Disbursements\": \"float\",\n",
    "    \"Disbursements Payments\": \"float\",\n",
    "    \"Misc. Disbursements\": \"float\",\n",
    "    \"Total Disbursements\": \"float\",\n",
    "    \"Starting Money on Hand\": \"float\",\n",
    "    \" Monetary Receipts\": \"float\",\n",
    "    \"Check Disbursements\": \"float\",\n",
    "    \"Cash Disbursements\": \"float\",\n",
    "    \"Total Monetary Disbursements\": \"float\",\n",
    "    \"Ending Money on Hand\": \"float\",\n",
    "    \"Outstanding Indebtedness\": \"float\",\n",
    "    \"Loans Recieved\": \"float\",\n",
    "    \"New Expenditures\": \"float\",\n",
    "    \"New Contributions\": \"float\",\n",
    "    \"Payments Made on Loan\": \"float\",\n",
    "    \"Debt Forgiven on Loans\": \"float\",\n",
    "    \"Total Indebtendness\": \"float\",\n",
    "}"
   ]
  },
  {
   "cell_type": "code",
   "execution_count": 3,
   "metadata": {},
   "outputs": [],
   "source": [
    "report_summaries_2020 = pd.read_csv(\"data/report-summaries/2020/10_26_2020.csv\", dtype=report_summary_data_types)"
   ]
  },
  {
   "cell_type": "code",
   "execution_count": 4,
   "metadata": {},
   "outputs": [
    {
     "data": {
      "text/html": [
       "<div>\n",
       "<style scoped>\n",
       "    .dataframe tbody tr th:only-of-type {\n",
       "        vertical-align: middle;\n",
       "    }\n",
       "\n",
       "    .dataframe tbody tr th {\n",
       "        vertical-align: top;\n",
       "    }\n",
       "\n",
       "    .dataframe thead th {\n",
       "        text-align: right;\n",
       "    }\n",
       "</style>\n",
       "<table border=\"1\" class=\"dataframe\">\n",
       "  <thead>\n",
       "    <tr style=\"text-align: right;\">\n",
       "      <th></th>\n",
       "      <th>MECID</th>\n",
       "      <th>Committee Name</th>\n",
       "      <th>Report</th>\n",
       "      <th>Report Year</th>\n",
       "      <th>Report Type</th>\n",
       "      <th>Previous Receipts</th>\n",
       "      <th>Contributions Received</th>\n",
       "      <th>Loans Received</th>\n",
       "      <th>Misc. Receipts</th>\n",
       "      <th>Receipts Subtotal</th>\n",
       "      <th>...</th>\n",
       "      <th>Cash Disbursements</th>\n",
       "      <th>Total Monetary Disbursements</th>\n",
       "      <th>Ending Money on Hand</th>\n",
       "      <th>Outstanding Indebtedness</th>\n",
       "      <th>Loans Recieved</th>\n",
       "      <th>New Expenditures</th>\n",
       "      <th>New Contributions</th>\n",
       "      <th>Payments Made on Loan</th>\n",
       "      <th>Debt Forgiven on Loans</th>\n",
       "      <th>Total Indebtendness</th>\n",
       "    </tr>\n",
       "  </thead>\n",
       "  <tbody>\n",
       "    <tr>\n",
       "      <th>0</th>\n",
       "      <td>C041331</td>\n",
       "      <td>CITIZENS FOR AULL</td>\n",
       "      <td>January Quarterly Report</td>\n",
       "      <td>2020</td>\n",
       "      <td>Full Disclosure</td>\n",
       "      <td>0.0</td>\n",
       "      <td>0.0</td>\n",
       "      <td>0.0</td>\n",
       "      <td>0.0</td>\n",
       "      <td>0.0</td>\n",
       "      <td>...</td>\n",
       "      <td>0.0</td>\n",
       "      <td>0.0</td>\n",
       "      <td>30.34</td>\n",
       "      <td>0.0</td>\n",
       "      <td>0.0</td>\n",
       "      <td>0.0</td>\n",
       "      <td>0.0</td>\n",
       "      <td>0.0</td>\n",
       "      <td>0.0</td>\n",
       "      <td>0.0</td>\n",
       "    </tr>\n",
       "    <tr>\n",
       "      <th>1</th>\n",
       "      <td>C111113</td>\n",
       "      <td>MISSOURI PRECINCT PROJECT</td>\n",
       "      <td>January Quarterly Report</td>\n",
       "      <td>2020</td>\n",
       "      <td>Full Disclosure</td>\n",
       "      <td>0.0</td>\n",
       "      <td>0.0</td>\n",
       "      <td>0.0</td>\n",
       "      <td>0.0</td>\n",
       "      <td>0.0</td>\n",
       "      <td>...</td>\n",
       "      <td>0.0</td>\n",
       "      <td>0.0</td>\n",
       "      <td>240.48</td>\n",
       "      <td>0.0</td>\n",
       "      <td>0.0</td>\n",
       "      <td>0.0</td>\n",
       "      <td>0.0</td>\n",
       "      <td>0.0</td>\n",
       "      <td>0.0</td>\n",
       "      <td>0.0</td>\n",
       "    </tr>\n",
       "    <tr>\n",
       "      <th>2</th>\n",
       "      <td>C191041</td>\n",
       "      <td>DentaQuest PAC-TN-I</td>\n",
       "      <td>January Quarterly Report</td>\n",
       "      <td>2020</td>\n",
       "      <td>Full Disclosure</td>\n",
       "      <td>0.0</td>\n",
       "      <td>20100.0</td>\n",
       "      <td>0.0</td>\n",
       "      <td>0.0</td>\n",
       "      <td>20100.0</td>\n",
       "      <td>...</td>\n",
       "      <td>0.0</td>\n",
       "      <td>20024.8</td>\n",
       "      <td>75.20</td>\n",
       "      <td>0.0</td>\n",
       "      <td>0.0</td>\n",
       "      <td>0.0</td>\n",
       "      <td>0.0</td>\n",
       "      <td>0.0</td>\n",
       "      <td>0.0</td>\n",
       "      <td>0.0</td>\n",
       "    </tr>\n",
       "  </tbody>\n",
       "</table>\n",
       "<p>3 rows × 41 columns</p>\n",
       "</div>"
      ],
      "text/plain": [
       "     MECID             Committee Name                    Report  Report Year  \\\n",
       "0  C041331          CITIZENS FOR AULL  January Quarterly Report         2020   \n",
       "1  C111113  MISSOURI PRECINCT PROJECT  January Quarterly Report         2020   \n",
       "2  C191041        DentaQuest PAC-TN-I  January Quarterly Report         2020   \n",
       "\n",
       "       Report Type  Previous Receipts  Contributions Received  Loans Received  \\\n",
       "0  Full Disclosure                0.0                     0.0             0.0   \n",
       "1  Full Disclosure                0.0                     0.0             0.0   \n",
       "2  Full Disclosure                0.0                 20100.0             0.0   \n",
       "\n",
       "    Misc. Receipts   Receipts Subtotal  ...  Cash Disbursements  \\\n",
       "0              0.0                 0.0  ...                 0.0   \n",
       "1              0.0                 0.0  ...                 0.0   \n",
       "2              0.0             20100.0  ...                 0.0   \n",
       "\n",
       "   Total Monetary Disbursements  Ending Money on Hand  \\\n",
       "0                           0.0                 30.34   \n",
       "1                           0.0                240.48   \n",
       "2                       20024.8                 75.20   \n",
       "\n",
       "   Outstanding Indebtedness  Loans Recieved  New Expenditures  \\\n",
       "0                       0.0             0.0               0.0   \n",
       "1                       0.0             0.0               0.0   \n",
       "2                       0.0             0.0               0.0   \n",
       "\n",
       "   New Contributions  Payments Made on Loan  Debt Forgiven on Loans  \\\n",
       "0                0.0                    0.0                     0.0   \n",
       "1                0.0                    0.0                     0.0   \n",
       "2                0.0                    0.0                     0.0   \n",
       "\n",
       "   Total Indebtendness  \n",
       "0                  0.0  \n",
       "1                  0.0  \n",
       "2                  0.0  \n",
       "\n",
       "[3 rows x 41 columns]"
      ]
     },
     "execution_count": 4,
     "metadata": {},
     "output_type": "execute_result"
    }
   ],
   "source": [
    "report_summaries_2020.head(3)"
   ]
  },
  {
   "cell_type": "markdown",
   "metadata": {},
   "source": [
    "Also borrowing the code to clean up the columns..."
   ]
  },
  {
   "cell_type": "code",
   "execution_count": 5,
   "metadata": {},
   "outputs": [],
   "source": [
    "report_summaries_2020.columns = report_summaries_2020.columns \\\n",
    "    .str.strip() \\\n",
    "    .str.lower() \\\n",
    "    .str.replace(' ', '_') \\\n",
    "    .str.replace('-', '_') \\\n",
    "    .str.replace('.', '') \\\n",
    "    .str.replace('/', '_')"
   ]
  },
  {
   "cell_type": "markdown",
   "metadata": {},
   "source": [
    "Checking to make sure it worked..."
   ]
  },
  {
   "cell_type": "code",
   "execution_count": 6,
   "metadata": {},
   "outputs": [
    {
     "name": "stdout",
     "output_type": "stream",
     "text": [
      "<class 'pandas.core.frame.DataFrame'>\n",
      "RangeIndex: 14835 entries, 0 to 14834\n",
      "Data columns (total 41 columns):\n",
      " #   Column                        Non-Null Count  Dtype  \n",
      "---  ------                        --------------  -----  \n",
      " 0   mecid                         14835 non-null  string \n",
      " 1   committee_name                14835 non-null  string \n",
      " 2   report                        14835 non-null  string \n",
      " 3   report_year                   14835 non-null  Int64  \n",
      " 4   report_type                   14835 non-null  string \n",
      " 5   previous_receipts             11276 non-null  float64\n",
      " 6   contributions_received        11276 non-null  float64\n",
      " 7   loans_received                11276 non-null  float64\n",
      " 8   misc_receipts                 11276 non-null  float64\n",
      " 9   receipts_subtotal             11276 non-null  float64\n",
      " 10  in_kind_contributions         11276 non-null  float64\n",
      " 11  total_receipts_this_election  11276 non-null  float64\n",
      " 12  previous_expenditures         11276 non-null  float64\n",
      " 13  cash_or_check_expenditures    11276 non-null  float64\n",
      " 14  in_kind_expenditures          11276 non-null  float64\n",
      " 15  credit_expenditures           11276 non-null  float64\n",
      " 16  expenditure_subtotal          11276 non-null  float64\n",
      " 17  total_expenditures            11276 non-null  float64\n",
      " 18  previous_contributions        11276 non-null  float64\n",
      " 19  cash_check_contributions      11276 non-null  float64\n",
      " 20  credit_contributions          11276 non-null  float64\n",
      " 21  in_kind_contributions1        11276 non-null  float64\n",
      " 22  contribution_subtotal         11276 non-null  float64\n",
      " 23  total_contributions           11276 non-null  float64\n",
      " 24  loan_disbursements            11276 non-null  float64\n",
      " 25  disbursements_payments        11276 non-null  float64\n",
      " 26  misc_disbursements            11276 non-null  float64\n",
      " 27  total_disbursements           11276 non-null  float64\n",
      " 28  starting_money_on_hand        11276 non-null  float64\n",
      " 29  monetary_receipts             11276 non-null  float64\n",
      " 30  check_disbursements           11276 non-null  float64\n",
      " 31  cash_disbursements            11276 non-null  float64\n",
      " 32  total_monetary_disbursements  11276 non-null  float64\n",
      " 33  ending_money_on_hand          11276 non-null  float64\n",
      " 34  outstanding_indebtedness      11276 non-null  float64\n",
      " 35  loans_recieved                11276 non-null  float64\n",
      " 36  new_expenditures              11276 non-null  float64\n",
      " 37  new_contributions             11276 non-null  float64\n",
      " 38  payments_made_on_loan         11276 non-null  float64\n",
      " 39  debt_forgiven_on_loans        11276 non-null  float64\n",
      " 40  total_indebtendness           11276 non-null  float64\n",
      "dtypes: Int64(1), float64(36), string(4)\n",
      "memory usage: 4.7 MB\n"
     ]
    }
   ],
   "source": [
    "report_summaries_2020.info()"
   ]
  },
  {
   "cell_type": "markdown",
   "metadata": {},
   "source": [
    "Here I'm pulling in the list of committees that Craig Hollis from MECID provided. A lot of my analysis will involve sorting by committee type, so this will be essential. Again I'm setting the data types and cleaning up the column names. "
   ]
  },
  {
   "cell_type": "code",
   "execution_count": 7,
   "metadata": {},
   "outputs": [],
   "source": [
    "committees_data_types = {\n",
    "    'MECID' : \"string\",\n",
    "    'CommitteeName': \"string\",\n",
    "    'Comm_Type' : \"string\",\n",
    "    'Comm_Status' : \"string\",\n",
    "    'Candidate FName' : \"string\",\n",
    "    'Candidate MName' : \"string\",\n",
    "    'Candidate LName' : \"string\",\n",
    "    'ElectionDate' : \"string\",\n",
    "    'Office Sought' : \"string\",\n",
    "}"
   ]
  },
  {
   "cell_type": "code",
   "execution_count": 8,
   "metadata": {},
   "outputs": [],
   "source": [
    "committees = pd.read_excel('data/committee-list/updated.xlsx') \\\n",
    "    .astype(committees_data_types) \\\n",
    "    .fillna(\"\")"
   ]
  },
  {
   "cell_type": "code",
   "execution_count": 9,
   "metadata": {},
   "outputs": [],
   "source": [
    "committees.columns = committees.columns \\\n",
    "    .str.strip() \\\n",
    "    .str.lower() \\\n",
    "    .str.replace(' ', '_') \\\n",
    "    .str.replace('-', '_') \\\n",
    "    .str.replace('.', '') \\\n",
    "    .str.replace('/', '_')"
   ]
  },
  {
   "cell_type": "code",
   "execution_count": 10,
   "metadata": {},
   "outputs": [
    {
     "name": "stdout",
     "output_type": "stream",
     "text": [
      "<class 'pandas.core.frame.DataFrame'>\n",
      "RangeIndex: 23209 entries, 0 to 23208\n",
      "Data columns (total 9 columns):\n",
      " #   Column           Non-Null Count  Dtype \n",
      "---  ------           --------------  ----- \n",
      " 0   mecid            23209 non-null  string\n",
      " 1   committeename    23209 non-null  string\n",
      " 2   comm_type        23209 non-null  string\n",
      " 3   comm_status      23209 non-null  string\n",
      " 4   candidate_fname  23209 non-null  string\n",
      " 5   candidate_mname  23209 non-null  string\n",
      " 6   candidate_lname  23209 non-null  string\n",
      " 7   electiondate     23209 non-null  string\n",
      " 8   office_sought    23209 non-null  string\n",
      "dtypes: string(9)\n",
      "memory usage: 1.6 MB\n"
     ]
    }
   ],
   "source": [
    "committees.info()"
   ]
  },
  {
   "cell_type": "markdown",
   "metadata": {},
   "source": [
    "I check what my options for committee types are. I'm most interested in PACs so I define a version of the committee list that includes only those with \"Political Action\" as the committee type."
   ]
  },
  {
   "cell_type": "code",
   "execution_count": 11,
   "metadata": {},
   "outputs": [
    {
     "data": {
      "text/plain": [
       "['Campaign',\n",
       " 'Candidate',\n",
       " 'Debt Service',\n",
       " 'Exemption',\n",
       " 'Exploratory',\n",
       " 'Political Action',\n",
       " 'Political Party']"
      ]
     },
     "execution_count": 11,
     "metadata": {},
     "output_type": "execute_result"
    }
   ],
   "source": [
    "sorted(committees.comm_type.unique())"
   ]
  },
  {
   "cell_type": "code",
   "execution_count": 12,
   "metadata": {},
   "outputs": [],
   "source": [
    "pacs = committees[committees.comm_type == 'Political Action'].reset_index(drop=True)"
   ]
  },
  {
   "cell_type": "code",
   "execution_count": 13,
   "metadata": {},
   "outputs": [
    {
     "name": "stdout",
     "output_type": "stream",
     "text": [
      "<class 'pandas.core.frame.DataFrame'>\n",
      "RangeIndex: 2674 entries, 0 to 2673\n",
      "Data columns (total 9 columns):\n",
      " #   Column           Non-Null Count  Dtype \n",
      "---  ------           --------------  ----- \n",
      " 0   mecid            2674 non-null   string\n",
      " 1   committeename    2674 non-null   string\n",
      " 2   comm_type        2674 non-null   string\n",
      " 3   comm_status      2674 non-null   string\n",
      " 4   candidate_fname  2674 non-null   string\n",
      " 5   candidate_mname  2674 non-null   string\n",
      " 6   candidate_lname  2674 non-null   string\n",
      " 7   electiondate     2674 non-null   string\n",
      " 8   office_sought    2674 non-null   string\n",
      "dtypes: string(9)\n",
      "memory usage: 188.1 KB\n"
     ]
    }
   ],
   "source": [
    "pacs.info()"
   ]
  },
  {
   "cell_type": "markdown",
   "metadata": {},
   "source": [
    "Now I merge that committee list with the 2020 report summaries, using the unique committee identifier (mecid). However, I can't validate one-to-many. It appears the identifier might not actually be unique. I look at the csv file, which I had open in Excel, show that that's the case."
   ]
  },
  {
   "cell_type": "code",
   "execution_count": 14,
   "metadata": {},
   "outputs": [],
   "source": [
    "pacs_2020 = pacs \\\n",
    "    .merge(report_summaries_2020, on='mecid',) \\\n",
    "    .reset_index(drop=True)"
   ]
  },
  {
   "cell_type": "markdown",
   "metadata": {},
   "source": [
    "If I count how many values there are for each MECID, the length of the list should give me the total number of MECIDs, and therefore the number of unique PACs that filed reports in 2020. "
   ]
  },
  {
   "cell_type": "code",
   "execution_count": 15,
   "metadata": {},
   "outputs": [
    {
     "data": {
      "text/plain": [
       "C180445    21\n",
       "C000593    15\n",
       "C191069    14\n",
       "C180490    13\n",
       "C000327    12\n",
       "           ..\n",
       "C201401     1\n",
       "C201422     1\n",
       "C180607     1\n",
       "C071368     1\n",
       "C201464     1\n",
       "Name: mecid, Length: 1035, dtype: Int64"
      ]
     },
     "execution_count": 15,
     "metadata": {},
     "output_type": "execute_result"
    }
   ],
   "source": [
    "pacs_2020.mecid.value_counts()"
   ]
  },
  {
   "cell_type": "markdown",
   "metadata": {},
   "source": [
    "I'd like to know how the number of PACs filing reports each year has changed, so I'm just going to repeat this process over and over, pulling in the csv from each year all the way back to 2020."
   ]
  },
  {
   "cell_type": "code",
   "execution_count": 16,
   "metadata": {},
   "outputs": [],
   "source": [
    "report_summaries_2019 = pd.read_csv(\"data/report-summaries/2019/11_1_2020.csv\", dtype=report_summary_data_types)"
   ]
  },
  {
   "cell_type": "code",
   "execution_count": 17,
   "metadata": {},
   "outputs": [],
   "source": [
    "report_summaries_2019.columns = report_summaries_2019.columns \\\n",
    "    .str.strip() \\\n",
    "    .str.lower() \\\n",
    "    .str.replace(' ', '_') \\\n",
    "    .str.replace('-', '_') \\\n",
    "    .str.replace('.', '') \\\n",
    "    .str.replace('/', '_')"
   ]
  },
  {
   "cell_type": "code",
   "execution_count": 18,
   "metadata": {},
   "outputs": [],
   "source": [
    "pacs_2019 = pacs \\\n",
    "    .merge(report_summaries_2019, on='mecid',) \\\n",
    "    .reset_index(drop=True)"
   ]
  },
  {
   "cell_type": "code",
   "execution_count": 19,
   "metadata": {},
   "outputs": [
    {
     "data": {
      "text/plain": [
       "C000763    15\n",
       "C000593    15\n",
       "C000776    15\n",
       "C000742    14\n",
       "C000327    13\n",
       "           ..\n",
       "C190969     1\n",
       "C011052     1\n",
       "C190936     1\n",
       "C190914     1\n",
       "C190964     1\n",
       "Name: mecid, Length: 1006, dtype: Int64"
      ]
     },
     "execution_count": 19,
     "metadata": {},
     "output_type": "execute_result"
    }
   ],
   "source": [
    "pacs_2019.mecid.value_counts()"
   ]
  },
  {
   "cell_type": "code",
   "execution_count": 20,
   "metadata": {},
   "outputs": [],
   "source": [
    "report_summaries_2018 = pd.read_csv(\"data/report-summaries/2018/11_1_2020.csv\", dtype=report_summary_data_types)"
   ]
  },
  {
   "cell_type": "code",
   "execution_count": 21,
   "metadata": {},
   "outputs": [],
   "source": [
    "report_summaries_2018.columns = report_summaries_2018.columns \\\n",
    "    .str.strip() \\\n",
    "    .str.lower() \\\n",
    "    .str.replace(' ', '_') \\\n",
    "    .str.replace('-', '_') \\\n",
    "    .str.replace('.', '') \\\n",
    "    .str.replace('/', '_')"
   ]
  },
  {
   "cell_type": "code",
   "execution_count": 22,
   "metadata": {},
   "outputs": [],
   "source": [
    "pacs_2018 = pacs \\\n",
    "    .merge(report_summaries_2018, on='mecid',) \\\n",
    "    .reset_index(drop=True)"
   ]
  },
  {
   "cell_type": "code",
   "execution_count": 23,
   "metadata": {},
   "outputs": [
    {
     "data": {
      "text/plain": [
       "C180042    32\n",
       "C091068    27\n",
       "C180445    21\n",
       "C000628    19\n",
       "C071094    18\n",
       "           ..\n",
       "C171087     1\n",
       "C180654     1\n",
       "C180606     1\n",
       "C081070     1\n",
       "C161336     1\n",
       "Name: mecid, Length: 967, dtype: Int64"
      ]
     },
     "execution_count": 23,
     "metadata": {},
     "output_type": "execute_result"
    }
   ],
   "source": [
    "pacs_2018.mecid.value_counts()"
   ]
  },
  {
   "cell_type": "code",
   "execution_count": 24,
   "metadata": {},
   "outputs": [],
   "source": [
    "report_summaries_2017 = pd.read_csv(\"data/report-summaries/2017/11_1_2020.csv\", dtype=report_summary_data_types)"
   ]
  },
  {
   "cell_type": "code",
   "execution_count": 25,
   "metadata": {},
   "outputs": [],
   "source": [
    "report_summaries_2017.columns = report_summaries_2017.columns \\\n",
    "    .str.strip() \\\n",
    "    .str.lower() \\\n",
    "    .str.replace(' ', '_') \\\n",
    "    .str.replace('-', '_') \\\n",
    "    .str.replace('.', '') \\\n",
    "    .str.replace('/', '_')"
   ]
  },
  {
   "cell_type": "code",
   "execution_count": 26,
   "metadata": {},
   "outputs": [],
   "source": [
    "pacs_2017 = pacs \\\n",
    "    .merge(report_summaries_2017, on='mecid',) \\\n",
    "    .reset_index(drop=True)"
   ]
  },
  {
   "cell_type": "code",
   "execution_count": 27,
   "metadata": {},
   "outputs": [
    {
     "data": {
      "text/plain": [
       "C000593    18\n",
       "C031141    15\n",
       "C000773    14\n",
       "C161414    14\n",
       "C000645    13\n",
       "           ..\n",
       "C171212     1\n",
       "C171213     1\n",
       "C081339     1\n",
       "C171208     1\n",
       "C000531     1\n",
       "Name: mecid, Length: 887, dtype: Int64"
      ]
     },
     "execution_count": 27,
     "metadata": {},
     "output_type": "execute_result"
    }
   ],
   "source": [
    "pacs_2017.mecid.value_counts()"
   ]
  },
  {
   "cell_type": "code",
   "execution_count": 28,
   "metadata": {},
   "outputs": [],
   "source": [
    "report_summaries_2016 = pd.read_csv(\"data/report-summaries/2016/11_1_2020.csv\", dtype=report_summary_data_types)"
   ]
  },
  {
   "cell_type": "code",
   "execution_count": 29,
   "metadata": {},
   "outputs": [],
   "source": [
    "report_summaries_2016.columns = report_summaries_2016.columns \\\n",
    "    .str.strip() \\\n",
    "    .str.lower() \\\n",
    "    .str.replace(' ', '_') \\\n",
    "    .str.replace('-', '_') \\\n",
    "    .str.replace('.', '') \\\n",
    "    .str.replace('/', '_')"
   ]
  },
  {
   "cell_type": "code",
   "execution_count": 30,
   "metadata": {},
   "outputs": [],
   "source": [
    "pacs_2016 = pacs \\\n",
    "    .merge(report_summaries_2016, on='mecid',) \\\n",
    "    .reset_index(drop=True)"
   ]
  },
  {
   "cell_type": "code",
   "execution_count": 31,
   "metadata": {},
   "outputs": [
    {
     "data": {
      "text/plain": [
       "C000776    21\n",
       "C091068    19\n",
       "C091269    18\n",
       "C000593    18\n",
       "C000628    14\n",
       "           ..\n",
       "C091081     1\n",
       "C161298     1\n",
       "C161324     1\n",
       "C161314     1\n",
       "C161310     1\n",
       "Name: mecid, Length: 830, dtype: Int64"
      ]
     },
     "execution_count": 31,
     "metadata": {},
     "output_type": "execute_result"
    }
   ],
   "source": [
    "pacs_2016.mecid.value_counts()"
   ]
  },
  {
   "cell_type": "code",
   "execution_count": 32,
   "metadata": {},
   "outputs": [],
   "source": [
    "report_summaries_2015 = pd.read_csv(\"data/report-summaries/2015/11_1_2020.csv\", dtype=report_summary_data_types)"
   ]
  },
  {
   "cell_type": "code",
   "execution_count": 33,
   "metadata": {},
   "outputs": [],
   "source": [
    "report_summaries_2015.columns = report_summaries_2015.columns \\\n",
    "    .str.strip() \\\n",
    "    .str.lower() \\\n",
    "    .str.replace(' ', '_') \\\n",
    "    .str.replace('-', '_') \\\n",
    "    .str.replace('.', '') \\\n",
    "    .str.replace('/', '_')"
   ]
  },
  {
   "cell_type": "code",
   "execution_count": 34,
   "metadata": {},
   "outputs": [],
   "source": [
    "pacs_2015 = pacs \\\n",
    "    .merge(report_summaries_2015, on='mecid',) \\\n",
    "    .reset_index(drop=True)"
   ]
  },
  {
   "cell_type": "code",
   "execution_count": 35,
   "metadata": {},
   "outputs": [
    {
     "data": {
      "text/plain": [
       "C031141    24\n",
       "C000773    17\n",
       "C000776    16\n",
       "C000327    16\n",
       "C000674    16\n",
       "           ..\n",
       "C061080     1\n",
       "C151145     1\n",
       "C151173     1\n",
       "C141604     1\n",
       "C151092     1\n",
       "Name: mecid, Length: 817, dtype: Int64"
      ]
     },
     "execution_count": 35,
     "metadata": {},
     "output_type": "execute_result"
    }
   ],
   "source": [
    "pacs_2015.mecid.value_counts()"
   ]
  },
  {
   "cell_type": "code",
   "execution_count": 36,
   "metadata": {},
   "outputs": [],
   "source": [
    "report_summaries_2014 = pd.read_csv(\"data/report-summaries/2014/11_1_2020.csv\", dtype=report_summary_data_types)"
   ]
  },
  {
   "cell_type": "code",
   "execution_count": 37,
   "metadata": {},
   "outputs": [],
   "source": [
    "report_summaries_2014.columns = report_summaries_2014.columns \\\n",
    "    .str.strip() \\\n",
    "    .str.lower() \\\n",
    "    .str.replace(' ', '_') \\\n",
    "    .str.replace('-', '_') \\\n",
    "    .str.replace('.', '') \\\n",
    "    .str.replace('/', '_')"
   ]
  },
  {
   "cell_type": "code",
   "execution_count": 38,
   "metadata": {},
   "outputs": [],
   "source": [
    "pacs_2014 = pacs \\\n",
    "    .merge(report_summaries_2014, on='mecid',) \\\n",
    "    .reset_index(drop=True)"
   ]
  },
  {
   "cell_type": "code",
   "execution_count": 39,
   "metadata": {},
   "outputs": [
    {
     "data": {
      "text/plain": [
       "C091269    24\n",
       "C000776    19\n",
       "C000628    18\n",
       "C131051    17\n",
       "C001299    16\n",
       "           ..\n",
       "C101568     1\n",
       "C061525     1\n",
       "C000612     1\n",
       "C141523     1\n",
       "C061154     1\n",
       "Name: mecid, Length: 813, dtype: Int64"
      ]
     },
     "execution_count": 39,
     "metadata": {},
     "output_type": "execute_result"
    }
   ],
   "source": [
    "pacs_2014.mecid.value_counts()"
   ]
  },
  {
   "cell_type": "code",
   "execution_count": 40,
   "metadata": {},
   "outputs": [],
   "source": [
    "report_summaries_2013 = pd.read_csv(\"data/report-summaries/2013/11_1_2020.csv\", dtype=report_summary_data_types)"
   ]
  },
  {
   "cell_type": "code",
   "execution_count": 41,
   "metadata": {},
   "outputs": [],
   "source": [
    "report_summaries_2013.columns = report_summaries_2013.columns \\\n",
    "    .str.strip() \\\n",
    "    .str.lower() \\\n",
    "    .str.replace(' ', '_') \\\n",
    "    .str.replace('-', '_') \\\n",
    "    .str.replace('.', '') \\\n",
    "    .str.replace('/', '_')"
   ]
  },
  {
   "cell_type": "code",
   "execution_count": 42,
   "metadata": {},
   "outputs": [],
   "source": [
    "pacs_2013 = pacs \\\n",
    "    .merge(report_summaries_2013, on='mecid',) \\\n",
    "    .reset_index(drop=True)"
   ]
  },
  {
   "cell_type": "code",
   "execution_count": 43,
   "metadata": {},
   "outputs": [
    {
     "data": {
      "text/plain": [
       "C091269    18\n",
       "C000674    16\n",
       "C001299    15\n",
       "C000619    15\n",
       "C000776    13\n",
       "           ..\n",
       "C131097     1\n",
       "C131129     1\n",
       "C131094     1\n",
       "C131095     1\n",
       "C000805     1\n",
       "Name: mecid, Length: 836, dtype: Int64"
      ]
     },
     "execution_count": 43,
     "metadata": {},
     "output_type": "execute_result"
    }
   ],
   "source": [
    "pacs_2013.mecid.value_counts()"
   ]
  },
  {
   "cell_type": "code",
   "execution_count": 44,
   "metadata": {},
   "outputs": [],
   "source": [
    "report_summaries_2012 = pd.read_csv(\"data/report-summaries/2012/11_1_2020.csv\", dtype=report_summary_data_types)"
   ]
  },
  {
   "cell_type": "code",
   "execution_count": 45,
   "metadata": {},
   "outputs": [],
   "source": [
    "report_summaries_2012.columns = report_summaries_2012.columns \\\n",
    "    .str.strip() \\\n",
    "    .str.lower() \\\n",
    "    .str.replace(' ', '_') \\\n",
    "    .str.replace('-', '_') \\\n",
    "    .str.replace('.', '') \\\n",
    "    .str.replace('/', '_')"
   ]
  },
  {
   "cell_type": "code",
   "execution_count": 46,
   "metadata": {},
   "outputs": [],
   "source": [
    "pacs_2012 = pacs \\\n",
    "    .merge(report_summaries_2012, on='mecid',) \\\n",
    "    .reset_index(drop=True)"
   ]
  },
  {
   "cell_type": "code",
   "execution_count": 47,
   "metadata": {},
   "outputs": [
    {
     "data": {
      "text/plain": [
       "C000619    20\n",
       "C001299    20\n",
       "C091269    19\n",
       "C000839    18\n",
       "C000628    18\n",
       "           ..\n",
       "C121359     1\n",
       "C121424     1\n",
       "C000758     1\n",
       "C111076     1\n",
       "C121412     1\n",
       "Name: mecid, Length: 890, dtype: Int64"
      ]
     },
     "execution_count": 47,
     "metadata": {},
     "output_type": "execute_result"
    }
   ],
   "source": [
    "pacs_2012.mecid.value_counts()"
   ]
  },
  {
   "cell_type": "code",
   "execution_count": 48,
   "metadata": {},
   "outputs": [],
   "source": [
    "report_summaries_2011 = pd.read_csv(\"data/report-summaries/2011/11_1_2020.csv\", dtype=report_summary_data_types)"
   ]
  },
  {
   "cell_type": "code",
   "execution_count": 49,
   "metadata": {},
   "outputs": [],
   "source": [
    "report_summaries_2011.columns = report_summaries_2011.columns \\\n",
    "    .str.strip() \\\n",
    "    .str.lower() \\\n",
    "    .str.replace(' ', '_') \\\n",
    "    .str.replace('-', '_') \\\n",
    "    .str.replace('.', '') \\\n",
    "    .str.replace('/', '_')"
   ]
  },
  {
   "cell_type": "code",
   "execution_count": 50,
   "metadata": {},
   "outputs": [],
   "source": [
    "pacs_2011 = pacs \\\n",
    "    .merge(report_summaries_2011, on='mecid',) \\\n",
    "    .reset_index(drop=True)"
   ]
  },
  {
   "cell_type": "code",
   "execution_count": 51,
   "metadata": {},
   "outputs": [
    {
     "data": {
      "text/plain": [
       "C091269    21\n",
       "C000710    21\n",
       "C000619    19\n",
       "C001299    19\n",
       "C000807    18\n",
       "           ..\n",
       "C000346     1\n",
       "C011173     1\n",
       "C000527     1\n",
       "C081251     1\n",
       "C111137     1\n",
       "Name: mecid, Length: 927, dtype: Int64"
      ]
     },
     "execution_count": 51,
     "metadata": {},
     "output_type": "execute_result"
    }
   ],
   "source": [
    "pacs_2011.mecid.value_counts()"
   ]
  },
  {
   "cell_type": "markdown",
   "metadata": {},
   "source": [
    "Now I'd like to compare various committee types in the present day. I'm going to focus on the most recent report -- this can easily be modified when the new report comes out."
   ]
  },
  {
   "cell_type": "code",
   "execution_count": 52,
   "metadata": {},
   "outputs": [],
   "source": [
    "latest_report_2020 = report_summaries_2020[report_summaries_2020.report == '8 Day Before General Election-11/3/2020']"
   ]
  },
  {
   "cell_type": "markdown",
   "metadata": {},
   "source": [
    "I'd like to know the total that committees reported receiving in the entire election cycle. I'll do this by totaling the \"total_receipts_this_election\" column for every committee that filed a report 8 days before the general election. I should note, however, that this might be greater than the amount of money that flowed into Missouri politics overall because committees can pass money around, meaning it would be at least double counted. On the other hand, I'm likely missing some committees that didn't file this specific report but still brought in money. I'll have to figure out a way to account for or at least explain that. "
   ]
  },
  {
   "cell_type": "code",
   "execution_count": 53,
   "metadata": {},
   "outputs": [
    {
     "data": {
      "text/plain": [
       "63356593.36"
      ]
     },
     "execution_count": 53,
     "metadata": {},
     "output_type": "execute_result"
    }
   ],
   "source": [
    "latest_report_2020.total_receipts_this_election.sum()"
   ]
  },
  {
   "cell_type": "markdown",
   "metadata": {},
   "source": [
    "Merging the list of latest report summaries and then checking the total receipts this election confirms the problem with the way my merge is working. It's creating duplicates of reports that are distroting the total. That's because there are multiples of various MECIDs in the committee list. "
   ]
  },
  {
   "cell_type": "code",
   "execution_count": 54,
   "metadata": {},
   "outputs": [],
   "source": [
    "latest_committees_2020 = committees \\\n",
    "    .merge(latest_report_2020, on='mecid') \\\n",
    "    .reset_index(drop=True)"
   ]
  },
  {
   "cell_type": "code",
   "execution_count": 55,
   "metadata": {},
   "outputs": [
    {
     "data": {
      "text/plain": [
       "98545567.39"
      ]
     },
     "execution_count": 55,
     "metadata": {},
     "output_type": "execute_result"
    }
   ],
   "source": [
    "latest_committees_2020.total_receipts_this_election.sum()"
   ]
  },
  {
   "cell_type": "code",
   "execution_count": 56,
   "metadata": {},
   "outputs": [
    {
     "data": {
      "text/plain": [
       "C031191    10\n",
       "C121228    10\n",
       "C091212     9\n",
       "C091248     9\n",
       "C131143     8\n",
       "           ..\n",
       "C201412     1\n",
       "C000387     1\n",
       "C201102     1\n",
       "C180577     1\n",
       "C001025     1\n",
       "Name: mecid, Length: 554, dtype: Int64"
      ]
     },
     "execution_count": 56,
     "metadata": {},
     "output_type": "execute_result"
    }
   ],
   "source": [
    "latest_committees_2020.mecid.value_counts()"
   ]
  },
  {
   "cell_type": "markdown",
   "metadata": {},
   "source": [
    "To fix this problem, I worked with James to figure out how to group the committee list by MECID, committee name, type and status."
   ]
  },
  {
   "cell_type": "code",
   "execution_count": 57,
   "metadata": {},
   "outputs": [],
   "source": [
    "by_mecid = committees.groupby(by=['mecid', 'committeename', 'comm_type', 'comm_status']) \\\n",
    ".nunique().reset_index()"
   ]
  },
  {
   "cell_type": "markdown",
   "metadata": {},
   "source": [
    "We tested to make sure that there aren't multiple values for name, type and status with the same MECID. "
   ]
  },
  {
   "cell_type": "code",
   "execution_count": 58,
   "metadata": {},
   "outputs": [],
   "source": [
    "test_by_mecid = committees.groupby(by=['mecid']).nunique()"
   ]
  },
  {
   "cell_type": "code",
   "execution_count": 59,
   "metadata": {},
   "outputs": [
    {
     "data": {
      "text/html": [
       "<div>\n",
       "<style scoped>\n",
       "    .dataframe tbody tr th:only-of-type {\n",
       "        vertical-align: middle;\n",
       "    }\n",
       "\n",
       "    .dataframe tbody tr th {\n",
       "        vertical-align: top;\n",
       "    }\n",
       "\n",
       "    .dataframe thead th {\n",
       "        text-align: right;\n",
       "    }\n",
       "</style>\n",
       "<table border=\"1\" class=\"dataframe\">\n",
       "  <thead>\n",
       "    <tr style=\"text-align: right;\">\n",
       "      <th></th>\n",
       "      <th>committeename</th>\n",
       "      <th>comm_type</th>\n",
       "      <th>comm_status</th>\n",
       "      <th>candidate_fname</th>\n",
       "      <th>candidate_mname</th>\n",
       "      <th>candidate_lname</th>\n",
       "      <th>electiondate</th>\n",
       "      <th>office_sought</th>\n",
       "    </tr>\n",
       "    <tr>\n",
       "      <th>mecid</th>\n",
       "      <th></th>\n",
       "      <th></th>\n",
       "      <th></th>\n",
       "      <th></th>\n",
       "      <th></th>\n",
       "      <th></th>\n",
       "      <th></th>\n",
       "      <th></th>\n",
       "    </tr>\n",
       "  </thead>\n",
       "  <tbody>\n",
       "  </tbody>\n",
       "</table>\n",
       "</div>"
      ],
      "text/plain": [
       "Empty DataFrame\n",
       "Columns: [committeename, comm_type, comm_status, candidate_fname, candidate_mname, candidate_lname, electiondate, office_sought]\n",
       "Index: []"
      ]
     },
     "execution_count": 59,
     "metadata": {},
     "output_type": "execute_result"
    }
   ],
   "source": [
    "test_by_mecid[test_by_mecid['comm_status']>1]"
   ]
  },
  {
   "cell_type": "markdown",
   "metadata": {},
   "source": [
    "Now the merge works better and we're able to validate, then simply group by committee type to get the number of PACs. The result matches what I did before, which gives me confidence that my workaround was valid. But it will allow me to do a lot of analysis that my workaround wouldn't have helped with. "
   ]
  },
  {
   "cell_type": "code",
   "execution_count": 60,
   "metadata": {},
   "outputs": [],
   "source": [
    "reports_commtype_2020 = report_summaries_2020.merge(by_mecid, on='mecid', validate='many_to_one')"
   ]
  },
  {
   "cell_type": "code",
   "execution_count": 61,
   "metadata": {},
   "outputs": [
    {
     "data": {
      "text/plain": [
       "comm_type\n",
       "Campaign              76\n",
       "Candidate           1885\n",
       "Debt Service          24\n",
       "Exemption             31\n",
       "Exploratory            2\n",
       "Political Action    1035\n",
       "Political Party      226\n",
       "Name: mecid, dtype: int64"
      ]
     },
     "execution_count": 61,
     "metadata": {},
     "output_type": "execute_result"
    }
   ],
   "source": [
    "reports_commtype_2020.groupby(by=['comm_type']).mecid.nunique()"
   ]
  },
  {
   "cell_type": "markdown",
   "metadata": {},
   "source": [
    "Now I can merge by latest report document with the committee list and figure out how much each committee types has brought in this year. "
   ]
  },
  {
   "cell_type": "code",
   "execution_count": 62,
   "metadata": {},
   "outputs": [],
   "source": [
    "latest_report_by_mecid_2020 = latest_report_2020.merge(by_mecid, on='mecid', validate='many_to_one')"
   ]
  },
  {
   "cell_type": "code",
   "execution_count": 63,
   "metadata": {},
   "outputs": [
    {
     "data": {
      "text/plain": [
       "comm_type\n",
       "Campaign               83911.15\n",
       "Candidate            9748996.12\n",
       "Exemption                  0.00\n",
       "Political Action    52512246.89\n",
       "Political Party      1004969.06\n",
       "Name: total_receipts_this_election, dtype: float64"
      ]
     },
     "execution_count": 63,
     "metadata": {},
     "output_type": "execute_result"
    }
   ],
   "source": [
    "latest_report_by_mecid_2020.groupby(by=['comm_type']).total_receipts_this_election.sum()"
   ]
  },
  {
   "cell_type": "markdown",
   "metadata": {},
   "source": [
    "I'll do the same for the October reports."
   ]
  },
  {
   "cell_type": "code",
   "execution_count": 64,
   "metadata": {},
   "outputs": [],
   "source": [
    "oct_report_2020 = report_summaries_2020[report_summaries_2020.report == 'October Quarterly Report']"
   ]
  },
  {
   "cell_type": "code",
   "execution_count": 65,
   "metadata": {},
   "outputs": [],
   "source": [
    "oct_report_by_mecid_2020 = oct_report_2020.merge(by_mecid, on='mecid', validate='many_to_one')"
   ]
  },
  {
   "cell_type": "code",
   "execution_count": 66,
   "metadata": {},
   "outputs": [
    {
     "data": {
      "text/plain": [
       "comm_type\n",
       "Campaign             4259939.46\n",
       "Candidate           39143231.48\n",
       "Debt Service          944137.62\n",
       "Exemption                  0.00\n",
       "Exploratory              857.55\n",
       "Political Action    69000251.62\n",
       "Political Party      3399384.37\n",
       "Name: total_receipts_this_election, dtype: float64"
      ]
     },
     "execution_count": 66,
     "metadata": {},
     "output_type": "execute_result"
    }
   ],
   "source": [
    "oct_report_by_mecid_2020.groupby(by=['comm_type']).total_receipts_this_election.sum()"
   ]
  },
  {
   "cell_type": "code",
   "execution_count": 67,
   "metadata": {},
   "outputs": [
    {
     "data": {
      "text/plain": [
       "116747802.1"
      ]
     },
     "execution_count": 67,
     "metadata": {},
     "output_type": "execute_result"
    }
   ],
   "source": [
    "oct_report_by_mecid_2020.total_receipts_this_election.sum()"
   ]
  },
  {
   "cell_type": "markdown",
   "metadata": {},
   "source": [
    "It seems easier to compare October quarterly reports across different years rather than reports tied to a specific election, since everyone has to file them. So I'll repeat the same process for all the years back to 2011. "
   ]
  },
  {
   "cell_type": "code",
   "execution_count": 68,
   "metadata": {},
   "outputs": [],
   "source": [
    "oct_report_2019 = report_summaries_2019[report_summaries_2019.report == 'October Quarterly Report']"
   ]
  },
  {
   "cell_type": "code",
   "execution_count": 69,
   "metadata": {},
   "outputs": [],
   "source": [
    "oct_report_by_mecid_2019 = oct_report_2019.merge(by_mecid, on='mecid', validate='many_to_one')"
   ]
  },
  {
   "cell_type": "code",
   "execution_count": 70,
   "metadata": {},
   "outputs": [
    {
     "data": {
      "text/plain": [
       "comm_type\n",
       "Campaign             6990136.16\n",
       "Candidate           49158700.28\n",
       "Debt Service          403990.59\n",
       "Exemption                  0.00\n",
       "Exploratory             1178.95\n",
       "Political Action    25962960.09\n",
       "Political Party      1506486.12\n",
       "Name: total_receipts_this_election, dtype: float64"
      ]
     },
     "execution_count": 70,
     "metadata": {},
     "output_type": "execute_result"
    }
   ],
   "source": [
    "oct_report_by_mecid_2019.groupby(by=['comm_type']).total_receipts_this_election.sum()"
   ]
  },
  {
   "cell_type": "code",
   "execution_count": 71,
   "metadata": {},
   "outputs": [
    {
     "data": {
      "text/plain": [
       "84023452.19"
      ]
     },
     "execution_count": 71,
     "metadata": {},
     "output_type": "execute_result"
    }
   ],
   "source": [
    "oct_report_by_mecid_2019.total_receipts_this_election.sum()"
   ]
  },
  {
   "cell_type": "code",
   "execution_count": 72,
   "metadata": {},
   "outputs": [],
   "source": [
    "oct_report_2018 = report_summaries_2018[report_summaries_2018.report == 'October Quarterly Report']"
   ]
  },
  {
   "cell_type": "code",
   "execution_count": 73,
   "metadata": {},
   "outputs": [],
   "source": [
    "oct_report_by_mecid_2018 = oct_report_2018.merge(by_mecid, on='mecid', validate='many_to_one')"
   ]
  },
  {
   "cell_type": "code",
   "execution_count": 74,
   "metadata": {},
   "outputs": [
    {
     "data": {
      "text/plain": [
       "comm_type\n",
       "Campaign             4629676.83\n",
       "Candidate           68047396.05\n",
       "Debt Service          913453.91\n",
       "Exemption                  0.00\n",
       "Political Action    34971337.09\n",
       "Political Party      2047529.53\n",
       "Name: total_receipts_this_election, dtype: float64"
      ]
     },
     "execution_count": 74,
     "metadata": {},
     "output_type": "execute_result"
    }
   ],
   "source": [
    "oct_report_by_mecid_2018.groupby(by=['comm_type']).total_receipts_this_election.sum()"
   ]
  },
  {
   "cell_type": "code",
   "execution_count": 75,
   "metadata": {},
   "outputs": [
    {
     "data": {
      "text/plain": [
       "110609393.41"
      ]
     },
     "execution_count": 75,
     "metadata": {},
     "output_type": "execute_result"
    }
   ],
   "source": [
    "oct_report_by_mecid_2018.total_receipts_this_election.sum()"
   ]
  },
  {
   "cell_type": "code",
   "execution_count": 76,
   "metadata": {},
   "outputs": [],
   "source": [
    "oct_report_2017 = report_summaries_2017[report_summaries_2017.report == 'October Quarterly Report']"
   ]
  },
  {
   "cell_type": "code",
   "execution_count": 77,
   "metadata": {},
   "outputs": [],
   "source": [
    "oct_report_by_mecid_2017 = oct_report_2017.merge(by_mecid, on='mecid', validate='many_to_one')"
   ]
  },
  {
   "cell_type": "code",
   "execution_count": 78,
   "metadata": {},
   "outputs": [
    {
     "data": {
      "text/plain": [
       "comm_type\n",
       "Campaign             3219151.87\n",
       "Candidate           52372683.45\n",
       "Debt Service          647633.56\n",
       "Exemption                  0.00\n",
       "Political Action    19478111.30\n",
       "Political Party      1521362.35\n",
       "Name: total_receipts_this_election, dtype: float64"
      ]
     },
     "execution_count": 78,
     "metadata": {},
     "output_type": "execute_result"
    }
   ],
   "source": [
    "oct_report_by_mecid_2017.groupby(by=['comm_type']).total_receipts_this_election.sum()"
   ]
  },
  {
   "cell_type": "code",
   "execution_count": 79,
   "metadata": {},
   "outputs": [
    {
     "data": {
      "text/plain": [
       "77238942.53"
      ]
     },
     "execution_count": 79,
     "metadata": {},
     "output_type": "execute_result"
    }
   ],
   "source": [
    "oct_report_by_mecid_2017.total_receipts_this_election.sum()"
   ]
  },
  {
   "cell_type": "code",
   "execution_count": 80,
   "metadata": {},
   "outputs": [],
   "source": [
    "oct_report_2016 = report_summaries_2016[report_summaries_2016.report == 'October Quarterly Report']"
   ]
  },
  {
   "cell_type": "code",
   "execution_count": 81,
   "metadata": {},
   "outputs": [],
   "source": [
    "oct_report_by_mecid_2016 = oct_report_2016.merge(by_mecid, on='mecid', validate='many_to_one')"
   ]
  },
  {
   "cell_type": "code",
   "execution_count": 82,
   "metadata": {},
   "outputs": [
    {
     "data": {
      "text/plain": [
       "comm_type\n",
       "Campaign             8585109.04\n",
       "Candidate           77828766.54\n",
       "Debt Service         9308596.65\n",
       "Exemption                  0.00\n",
       "Political Action    40382735.33\n",
       "Political Party      3034716.21\n",
       "Name: total_receipts_this_election, dtype: float64"
      ]
     },
     "execution_count": 82,
     "metadata": {},
     "output_type": "execute_result"
    }
   ],
   "source": [
    "oct_report_by_mecid_2016.groupby(by=['comm_type']).total_receipts_this_election.sum()"
   ]
  },
  {
   "cell_type": "code",
   "execution_count": 83,
   "metadata": {},
   "outputs": [
    {
     "data": {
      "text/plain": [
       "139139923.77"
      ]
     },
     "execution_count": 83,
     "metadata": {},
     "output_type": "execute_result"
    }
   ],
   "source": [
    "oct_report_by_mecid_2016.total_receipts_this_election.sum()"
   ]
  },
  {
   "cell_type": "code",
   "execution_count": 84,
   "metadata": {},
   "outputs": [],
   "source": [
    "oct_report_2015 = report_summaries_2015[report_summaries_2015.report == 'October Quarterly Report']"
   ]
  },
  {
   "cell_type": "code",
   "execution_count": 85,
   "metadata": {},
   "outputs": [],
   "source": [
    "oct_report_by_mecid_2015 = oct_report_2015.merge(by_mecid, on='mecid', validate='many_to_one')"
   ]
  },
  {
   "cell_type": "code",
   "execution_count": 86,
   "metadata": {},
   "outputs": [
    {
     "data": {
      "text/plain": [
       "comm_type\n",
       "Campaign             1453996.56\n",
       "Candidate           27292848.45\n",
       "Debt Service         2685141.55\n",
       "Exemption                  0.00\n",
       "Political Action    13931730.45\n",
       "Political Party      1368331.91\n",
       "Name: total_receipts_this_election, dtype: float64"
      ]
     },
     "execution_count": 86,
     "metadata": {},
     "output_type": "execute_result"
    }
   ],
   "source": [
    "oct_report_by_mecid_2015.groupby(by=['comm_type']).total_receipts_this_election.sum()"
   ]
  },
  {
   "cell_type": "code",
   "execution_count": 87,
   "metadata": {},
   "outputs": [
    {
     "data": {
      "text/plain": [
       "46732048.92"
      ]
     },
     "execution_count": 87,
     "metadata": {},
     "output_type": "execute_result"
    }
   ],
   "source": [
    "oct_report_by_mecid_2015.total_receipts_this_election.sum()"
   ]
  },
  {
   "cell_type": "code",
   "execution_count": 88,
   "metadata": {},
   "outputs": [],
   "source": [
    "oct_report_2014 = report_summaries_2014[report_summaries_2014.report == 'October Quarterly Report']"
   ]
  },
  {
   "cell_type": "code",
   "execution_count": 89,
   "metadata": {},
   "outputs": [],
   "source": [
    "oct_report_by_mecid_2014 = oct_report_2014.merge(by_mecid, on='mecid', validate='many_to_one')"
   ]
  },
  {
   "cell_type": "code",
   "execution_count": 90,
   "metadata": {},
   "outputs": [
    {
     "data": {
      "text/plain": [
       "comm_type\n",
       "Campaign             2736554.10\n",
       "Candidate           28286404.82\n",
       "Debt Service         2446955.70\n",
       "Exemption                  0.00\n",
       "Political Action    27747251.97\n",
       "Political Party      2401236.89\n",
       "Name: total_receipts_this_election, dtype: float64"
      ]
     },
     "execution_count": 90,
     "metadata": {},
     "output_type": "execute_result"
    }
   ],
   "source": [
    "oct_report_by_mecid_2014.groupby(by=['comm_type']).total_receipts_this_election.sum()"
   ]
  },
  {
   "cell_type": "code",
   "execution_count": 91,
   "metadata": {},
   "outputs": [
    {
     "data": {
      "text/plain": [
       "63618403.48"
      ]
     },
     "execution_count": 91,
     "metadata": {},
     "output_type": "execute_result"
    }
   ],
   "source": [
    "oct_report_by_mecid_2014.total_receipts_this_election.sum()"
   ]
  },
  {
   "cell_type": "code",
   "execution_count": 92,
   "metadata": {},
   "outputs": [],
   "source": [
    "oct_report_2013 = report_summaries_2013[report_summaries_2013.report == 'October Quarterly Report']"
   ]
  },
  {
   "cell_type": "code",
   "execution_count": 93,
   "metadata": {},
   "outputs": [],
   "source": [
    "oct_report_by_mecid_2013 = oct_report_2013.merge(by_mecid, on='mecid', validate='many_to_one')"
   ]
  },
  {
   "cell_type": "code",
   "execution_count": 94,
   "metadata": {},
   "outputs": [
    {
     "data": {
      "text/plain": [
       "comm_type\n",
       "Campaign             1091705.87\n",
       "Candidate           15994329.67\n",
       "Debt Service         3017634.18\n",
       "Political Action    21636718.92\n",
       "Political Party      1408190.20\n",
       "Name: total_receipts_this_election, dtype: float64"
      ]
     },
     "execution_count": 94,
     "metadata": {},
     "output_type": "execute_result"
    }
   ],
   "source": [
    "oct_report_by_mecid_2013.groupby(by=['comm_type']).total_receipts_this_election.sum()"
   ]
  },
  {
   "cell_type": "code",
   "execution_count": 95,
   "metadata": {},
   "outputs": [
    {
     "data": {
      "text/plain": [
       "43148578.84"
      ]
     },
     "execution_count": 95,
     "metadata": {},
     "output_type": "execute_result"
    }
   ],
   "source": [
    "oct_report_by_mecid_2013.total_receipts_this_election.sum()"
   ]
  },
  {
   "cell_type": "code",
   "execution_count": 96,
   "metadata": {},
   "outputs": [],
   "source": [
    "oct_report_2012 = report_summaries_2012[report_summaries_2012.report == 'October Quarterly Report']"
   ]
  },
  {
   "cell_type": "code",
   "execution_count": 97,
   "metadata": {},
   "outputs": [],
   "source": [
    "oct_report_by_mecid_2012 = oct_report_2012.merge(by_mecid, on='mecid', validate='many_to_one')"
   ]
  },
  {
   "cell_type": "code",
   "execution_count": 98,
   "metadata": {},
   "outputs": [
    {
     "data": {
      "text/plain": [
       "comm_type\n",
       "Campaign             8173521.46\n",
       "Candidate           43573104.86\n",
       "Debt Service         5101178.23\n",
       "Exemption                  0.00\n",
       "Political Action    19667347.88\n",
       "Political Party      2964294.45\n",
       "Name: total_receipts_this_election, dtype: float64"
      ]
     },
     "execution_count": 98,
     "metadata": {},
     "output_type": "execute_result"
    }
   ],
   "source": [
    "oct_report_by_mecid_2012.groupby(by=['comm_type']).total_receipts_this_election.sum()"
   ]
  },
  {
   "cell_type": "code",
   "execution_count": 99,
   "metadata": {},
   "outputs": [
    {
     "data": {
      "text/plain": [
       "79479446.88"
      ]
     },
     "execution_count": 99,
     "metadata": {},
     "output_type": "execute_result"
    }
   ],
   "source": [
    "oct_report_by_mecid_2012.total_receipts_this_election.sum()"
   ]
  },
  {
   "cell_type": "code",
   "execution_count": 100,
   "metadata": {},
   "outputs": [],
   "source": [
    "oct_report_2011 = report_summaries_2011[report_summaries_2011.report == 'October Quarterly Report']"
   ]
  },
  {
   "cell_type": "code",
   "execution_count": 101,
   "metadata": {},
   "outputs": [],
   "source": [
    "oct_report_by_mecid_2011 = oct_report_2011.merge(by_mecid, on='mecid', validate='many_to_one')"
   ]
  },
  {
   "cell_type": "code",
   "execution_count": 102,
   "metadata": {},
   "outputs": [
    {
     "data": {
      "text/plain": [
       "comm_type\n",
       "Campaign              572741.35\n",
       "Candidate           26609945.81\n",
       "Debt Service         2341331.06\n",
       "Exemption                  0.00\n",
       "Exploratory            15759.28\n",
       "Political Action    12162926.50\n",
       "Political Party      1434013.85\n",
       "Name: total_receipts_this_election, dtype: float64"
      ]
     },
     "execution_count": 102,
     "metadata": {},
     "output_type": "execute_result"
    }
   ],
   "source": [
    "oct_report_by_mecid_2011.groupby(by=['comm_type']).total_receipts_this_election.sum()"
   ]
  },
  {
   "cell_type": "code",
   "execution_count": 103,
   "metadata": {},
   "outputs": [
    {
     "data": {
      "text/plain": [
       "43136717.85"
      ]
     },
     "execution_count": 103,
     "metadata": {},
     "output_type": "execute_result"
    }
   ],
   "source": [
    "oct_report_by_mecid_2011.total_receipts_this_election.sum()"
   ]
  },
  {
   "cell_type": "markdown",
   "metadata": {},
   "source": [
    "Now I want to look at specific donations. The \"contributions received\" spreadsheet gives information about specific donors/donations over a certain threshold. Once again I'll set the data types, import the csv and clean up the column names. "
   ]
  },
  {
   "cell_type": "code",
   "execution_count": 104,
   "metadata": {},
   "outputs": [],
   "source": [
    "contributions_received_data_types = {\n",
    "    \"CD1_A ID\": \"string\",\n",
    "    \"MECID\": \"string\",\n",
    "    \"Committee Name\": \"string\",\n",
    "    \"Committee\": \"string\",\n",
    "    \"Company\": \"string\",\n",
    "    \"First Name\": \"string\",\n",
    "    \"Last Name\": \"string\",\n",
    "    \"Address 1\": \"string\",\n",
    "    \"Address 2\": \"string\",\n",
    "    \"City\": \"string\",\n",
    "    \"State\": \"string\",\n",
    "    \"Zip\": \"string\",\n",
    "    \"Employer\": \"string\",\n",
    "    \"Occupation\": \"string\",\n",
    "    \"Date\": \"string\",\n",
    "    \"Amount\": \"float\",\n",
    "    \"Contribution Type\": \"string\",\n",
    "    \"Report\": \"string\",\n",
    "}\n",
    "    \n",
    "    \n",
    "    \n",
    "    \n",
    "    \n",
    "    \n",
    "    "
   ]
  },
  {
   "cell_type": "code",
   "execution_count": 105,
   "metadata": {},
   "outputs": [],
   "source": [
    "received_2020 = pd.read_csv(\"data/contributions-received/11_10_2020.csv\", dtype=contributions_received_data_types)"
   ]
  },
  {
   "cell_type": "code",
   "execution_count": 106,
   "metadata": {},
   "outputs": [],
   "source": [
    "received_2020.columns = received_2020.columns \\\n",
    "    .str.strip() \\\n",
    "    .str.lower() \\\n",
    "    .str.replace(' ', '_') \\\n",
    "    .str.replace('-', '_') \\\n",
    "    .str.replace('.', '') \\\n",
    "    .str.replace('/', '_')"
   ]
  },
  {
   "cell_type": "markdown",
   "metadata": {},
   "source": [
    "Sorting to determine the biggest individual donations..."
   ]
  },
  {
   "cell_type": "code",
   "execution_count": 107,
   "metadata": {},
   "outputs": [
    {
     "data": {
      "text/html": [
       "<div>\n",
       "<style scoped>\n",
       "    .dataframe tbody tr th:only-of-type {\n",
       "        vertical-align: middle;\n",
       "    }\n",
       "\n",
       "    .dataframe tbody tr th {\n",
       "        vertical-align: top;\n",
       "    }\n",
       "\n",
       "    .dataframe thead th {\n",
       "        text-align: right;\n",
       "    }\n",
       "</style>\n",
       "<table border=\"1\" class=\"dataframe\">\n",
       "  <thead>\n",
       "    <tr style=\"text-align: right;\">\n",
       "      <th></th>\n",
       "      <th>cd1_a_id</th>\n",
       "      <th>mecid</th>\n",
       "      <th>committee_name</th>\n",
       "      <th>committee</th>\n",
       "      <th>company</th>\n",
       "      <th>first_name</th>\n",
       "      <th>last_name</th>\n",
       "      <th>address_1</th>\n",
       "      <th>address_2</th>\n",
       "      <th>city</th>\n",
       "      <th>state</th>\n",
       "      <th>zip</th>\n",
       "      <th>employer</th>\n",
       "      <th>occupation</th>\n",
       "      <th>date</th>\n",
       "      <th>amount</th>\n",
       "      <th>contribution_type</th>\n",
       "      <th>report</th>\n",
       "    </tr>\n",
       "  </thead>\n",
       "  <tbody>\n",
       "    <tr>\n",
       "      <th>195410</th>\n",
       "      <td>1531035</td>\n",
       "      <td>C201214</td>\n",
       "      <td>Republican Governors Association - Missouri 2020</td>\n",
       "      <td>&lt;NA&gt;</td>\n",
       "      <td>Republican Governors Association</td>\n",
       "      <td>&lt;NA&gt;</td>\n",
       "      <td>&lt;NA&gt;</td>\n",
       "      <td>1747 Pennsylvania Avenue, NW</td>\n",
       "      <td>Suite 250</td>\n",
       "      <td>Washington</td>\n",
       "      <td>DC</td>\n",
       "      <td>20006</td>\n",
       "      <td>&lt;NA&gt;</td>\n",
       "      <td>&lt;NA&gt;</td>\n",
       "      <td>10/8/2020 12:00:00 AM</td>\n",
       "      <td>4000000.0</td>\n",
       "      <td>M</td>\n",
       "      <td>8 Day Before General Election-11/3/2020</td>\n",
       "    </tr>\n",
       "    <tr>\n",
       "      <th>189431</th>\n",
       "      <td>1523919</td>\n",
       "      <td>C180490</td>\n",
       "      <td>Uniting Missouri PAC</td>\n",
       "      <td>REPUBLICAN GOVERNORS ASSOCIATION - MISSOURI 2020</td>\n",
       "      <td>&lt;NA&gt;</td>\n",
       "      <td>&lt;NA&gt;</td>\n",
       "      <td>&lt;NA&gt;</td>\n",
       "      <td>1747 PENNSYLVANIA AVE NW</td>\n",
       "      <td>SUITE 250</td>\n",
       "      <td>WASHINGTON</td>\n",
       "      <td>DC</td>\n",
       "      <td>20006</td>\n",
       "      <td>&lt;NA&gt;</td>\n",
       "      <td>&lt;NA&gt;</td>\n",
       "      <td>10/9/2020 12:00:00 AM</td>\n",
       "      <td>3000000.0</td>\n",
       "      <td>M</td>\n",
       "      <td>8 Day Before General Election-11/3/2020</td>\n",
       "    </tr>\n",
       "    <tr>\n",
       "      <th>189404</th>\n",
       "      <td>1523892</td>\n",
       "      <td>C180490</td>\n",
       "      <td>Uniting Missouri PAC</td>\n",
       "      <td>REPUBLICAN GOVERNORS ASSOCIATION - MISSOURI 2020</td>\n",
       "      <td>&lt;NA&gt;</td>\n",
       "      <td>&lt;NA&gt;</td>\n",
       "      <td>&lt;NA&gt;</td>\n",
       "      <td>1747 PENNSYLVANIA AVE NW</td>\n",
       "      <td>SUITE 250</td>\n",
       "      <td>WASHINGTON</td>\n",
       "      <td>DC</td>\n",
       "      <td>20006</td>\n",
       "      <td>&lt;NA&gt;</td>\n",
       "      <td>&lt;NA&gt;</td>\n",
       "      <td>10/1/2020 12:00:00 AM</td>\n",
       "      <td>3000000.0</td>\n",
       "      <td>M</td>\n",
       "      <td>8 Day Before General Election-11/3/2020</td>\n",
       "    </tr>\n",
       "    <tr>\n",
       "      <th>156595</th>\n",
       "      <td>1488932</td>\n",
       "      <td>C201214</td>\n",
       "      <td>Republican Governors Association - Missouri 2020</td>\n",
       "      <td>&lt;NA&gt;</td>\n",
       "      <td>Republican Governors Association</td>\n",
       "      <td>&lt;NA&gt;</td>\n",
       "      <td>&lt;NA&gt;</td>\n",
       "      <td>1747 Pennsylvania Avenue, NW</td>\n",
       "      <td>Suite 250</td>\n",
       "      <td>Washington</td>\n",
       "      <td>DC</td>\n",
       "      <td>20006</td>\n",
       "      <td>&lt;NA&gt;</td>\n",
       "      <td>&lt;NA&gt;</td>\n",
       "      <td>9/30/2020 12:00:00 AM</td>\n",
       "      <td>2500000.0</td>\n",
       "      <td>M</td>\n",
       "      <td>October Quarterly Report</td>\n",
       "    </tr>\n",
       "    <tr>\n",
       "      <th>156591</th>\n",
       "      <td>1488928</td>\n",
       "      <td>C201214</td>\n",
       "      <td>Republican Governors Association - Missouri 2020</td>\n",
       "      <td>&lt;NA&gt;</td>\n",
       "      <td>Republican Governors Association</td>\n",
       "      <td>&lt;NA&gt;</td>\n",
       "      <td>&lt;NA&gt;</td>\n",
       "      <td>1747 Pennsylvania Avenue, NW</td>\n",
       "      <td>Suite 250</td>\n",
       "      <td>Washington</td>\n",
       "      <td>DC</td>\n",
       "      <td>20006</td>\n",
       "      <td>&lt;NA&gt;</td>\n",
       "      <td>&lt;NA&gt;</td>\n",
       "      <td>8/31/2020 12:00:00 AM</td>\n",
       "      <td>2500000.0</td>\n",
       "      <td>M</td>\n",
       "      <td>October Quarterly Report</td>\n",
       "    </tr>\n",
       "    <tr>\n",
       "      <th>139126</th>\n",
       "      <td>1464448</td>\n",
       "      <td>C201214</td>\n",
       "      <td>Republican Governors Association - Missouri 2020</td>\n",
       "      <td>&lt;NA&gt;</td>\n",
       "      <td>Republican Governors Association</td>\n",
       "      <td>&lt;NA&gt;</td>\n",
       "      <td>&lt;NA&gt;</td>\n",
       "      <td>1747 Pennsylvania Avenue, NW</td>\n",
       "      <td>Suite 250</td>\n",
       "      <td>Washington</td>\n",
       "      <td>DC</td>\n",
       "      <td>20006</td>\n",
       "      <td>&lt;NA&gt;</td>\n",
       "      <td>&lt;NA&gt;</td>\n",
       "      <td>8/3/2020 12:00:00 AM</td>\n",
       "      <td>2500000.0</td>\n",
       "      <td>M</td>\n",
       "      <td>30 Day After Primary Election-8/4/2020</td>\n",
       "    </tr>\n",
       "    <tr>\n",
       "      <th>174101</th>\n",
       "      <td>1508342</td>\n",
       "      <td>C180490</td>\n",
       "      <td>Uniting Missouri PAC</td>\n",
       "      <td>REPUBLICAN GOVERNORS ASSOCIATION - MISSOURI 2020</td>\n",
       "      <td>&lt;NA&gt;</td>\n",
       "      <td>&lt;NA&gt;</td>\n",
       "      <td>&lt;NA&gt;</td>\n",
       "      <td>1747 PENNSYLVANIA AVE NW</td>\n",
       "      <td>SUITE 250</td>\n",
       "      <td>WASHINGTON</td>\n",
       "      <td>DC</td>\n",
       "      <td>20006</td>\n",
       "      <td>&lt;NA&gt;</td>\n",
       "      <td>&lt;NA&gt;</td>\n",
       "      <td>9/15/2020 12:00:00 AM</td>\n",
       "      <td>2000000.0</td>\n",
       "      <td>M</td>\n",
       "      <td>October Quarterly Report</td>\n",
       "    </tr>\n",
       "    <tr>\n",
       "      <th>139028</th>\n",
       "      <td>1464167</td>\n",
       "      <td>C180490</td>\n",
       "      <td>Uniting Missouri PAC</td>\n",
       "      <td>REPUBLICAN GOVERNORS ASSOCIATION - MISSOURI 2020</td>\n",
       "      <td>&lt;NA&gt;</td>\n",
       "      <td>&lt;NA&gt;</td>\n",
       "      <td>&lt;NA&gt;</td>\n",
       "      <td>1747 PENNSYLVANIA AVE NW</td>\n",
       "      <td>SUITE 250</td>\n",
       "      <td>WASHINGTON</td>\n",
       "      <td>DC</td>\n",
       "      <td>20006</td>\n",
       "      <td>&lt;NA&gt;</td>\n",
       "      <td>&lt;NA&gt;</td>\n",
       "      <td>8/5/2020 12:00:00 AM</td>\n",
       "      <td>2000000.0</td>\n",
       "      <td>M</td>\n",
       "      <td>30 Day After Primary Election-8/4/2020</td>\n",
       "    </tr>\n",
       "    <tr>\n",
       "      <th>205616</th>\n",
       "      <td>1541565</td>\n",
       "      <td>C180490</td>\n",
       "      <td>Uniting Missouri PAC</td>\n",
       "      <td>REPUBLICAN GOVERNORS ASSOCIATION - MISSOURI 2020</td>\n",
       "      <td>&lt;NA&gt;</td>\n",
       "      <td>&lt;NA&gt;</td>\n",
       "      <td>&lt;NA&gt;</td>\n",
       "      <td>1747 PENNSYLVANIA AVE NW</td>\n",
       "      <td>SUITE 250</td>\n",
       "      <td>WASHINGTON</td>\n",
       "      <td>DC</td>\n",
       "      <td>20006</td>\n",
       "      <td>&lt;NA&gt;</td>\n",
       "      <td>&lt;NA&gt;</td>\n",
       "      <td>10/26/2020 12:00:00 AM</td>\n",
       "      <td>1700000.0</td>\n",
       "      <td>M</td>\n",
       "      <td>24 Hour Expenditure Report-11/3/2020 General</td>\n",
       "    </tr>\n",
       "    <tr>\n",
       "      <th>205718</th>\n",
       "      <td>1541677</td>\n",
       "      <td>C201214</td>\n",
       "      <td>Republican Governors Association - Missouri 2020</td>\n",
       "      <td>&lt;NA&gt;</td>\n",
       "      <td>Republican Governors Association</td>\n",
       "      <td>&lt;NA&gt;</td>\n",
       "      <td>&lt;NA&gt;</td>\n",
       "      <td>1747 Pennsylvania Avenue, NW</td>\n",
       "      <td>Suite 250</td>\n",
       "      <td>Washington</td>\n",
       "      <td>DC</td>\n",
       "      <td>20006</td>\n",
       "      <td>&lt;NA&gt;</td>\n",
       "      <td>&lt;NA&gt;</td>\n",
       "      <td>10/23/2020 12:00:00 AM</td>\n",
       "      <td>1600000.0</td>\n",
       "      <td>M</td>\n",
       "      <td>24 Hour Expenditure Report-11/3/2020 General</td>\n",
       "    </tr>\n",
       "  </tbody>\n",
       "</table>\n",
       "</div>"
      ],
      "text/plain": [
       "       cd1_a_id    mecid                                    committee_name  \\\n",
       "195410  1531035  C201214  Republican Governors Association - Missouri 2020   \n",
       "189431  1523919  C180490                              Uniting Missouri PAC   \n",
       "189404  1523892  C180490                              Uniting Missouri PAC   \n",
       "156595  1488932  C201214  Republican Governors Association - Missouri 2020   \n",
       "156591  1488928  C201214  Republican Governors Association - Missouri 2020   \n",
       "139126  1464448  C201214  Republican Governors Association - Missouri 2020   \n",
       "174101  1508342  C180490                              Uniting Missouri PAC   \n",
       "139028  1464167  C180490                              Uniting Missouri PAC   \n",
       "205616  1541565  C180490                              Uniting Missouri PAC   \n",
       "205718  1541677  C201214  Republican Governors Association - Missouri 2020   \n",
       "\n",
       "                                               committee  \\\n",
       "195410                                              <NA>   \n",
       "189431  REPUBLICAN GOVERNORS ASSOCIATION - MISSOURI 2020   \n",
       "189404  REPUBLICAN GOVERNORS ASSOCIATION - MISSOURI 2020   \n",
       "156595                                              <NA>   \n",
       "156591                                              <NA>   \n",
       "139126                                              <NA>   \n",
       "174101  REPUBLICAN GOVERNORS ASSOCIATION - MISSOURI 2020   \n",
       "139028  REPUBLICAN GOVERNORS ASSOCIATION - MISSOURI 2020   \n",
       "205616  REPUBLICAN GOVERNORS ASSOCIATION - MISSOURI 2020   \n",
       "205718                                              <NA>   \n",
       "\n",
       "                                 company first_name last_name  \\\n",
       "195410  Republican Governors Association       <NA>      <NA>   \n",
       "189431                              <NA>       <NA>      <NA>   \n",
       "189404                              <NA>       <NA>      <NA>   \n",
       "156595  Republican Governors Association       <NA>      <NA>   \n",
       "156591  Republican Governors Association       <NA>      <NA>   \n",
       "139126  Republican Governors Association       <NA>      <NA>   \n",
       "174101                              <NA>       <NA>      <NA>   \n",
       "139028                              <NA>       <NA>      <NA>   \n",
       "205616                              <NA>       <NA>      <NA>   \n",
       "205718  Republican Governors Association       <NA>      <NA>   \n",
       "\n",
       "                           address_1  address_2        city state    zip  \\\n",
       "195410  1747 Pennsylvania Avenue, NW  Suite 250  Washington    DC  20006   \n",
       "189431      1747 PENNSYLVANIA AVE NW  SUITE 250  WASHINGTON    DC  20006   \n",
       "189404      1747 PENNSYLVANIA AVE NW  SUITE 250  WASHINGTON    DC  20006   \n",
       "156595  1747 Pennsylvania Avenue, NW  Suite 250  Washington    DC  20006   \n",
       "156591  1747 Pennsylvania Avenue, NW  Suite 250  Washington    DC  20006   \n",
       "139126  1747 Pennsylvania Avenue, NW  Suite 250  Washington    DC  20006   \n",
       "174101      1747 PENNSYLVANIA AVE NW  SUITE 250  WASHINGTON    DC  20006   \n",
       "139028      1747 PENNSYLVANIA AVE NW  SUITE 250  WASHINGTON    DC  20006   \n",
       "205616      1747 PENNSYLVANIA AVE NW  SUITE 250  WASHINGTON    DC  20006   \n",
       "205718  1747 Pennsylvania Avenue, NW  Suite 250  Washington    DC  20006   \n",
       "\n",
       "       employer occupation                    date     amount  \\\n",
       "195410     <NA>       <NA>   10/8/2020 12:00:00 AM  4000000.0   \n",
       "189431     <NA>       <NA>   10/9/2020 12:00:00 AM  3000000.0   \n",
       "189404     <NA>       <NA>   10/1/2020 12:00:00 AM  3000000.0   \n",
       "156595     <NA>       <NA>   9/30/2020 12:00:00 AM  2500000.0   \n",
       "156591     <NA>       <NA>   8/31/2020 12:00:00 AM  2500000.0   \n",
       "139126     <NA>       <NA>    8/3/2020 12:00:00 AM  2500000.0   \n",
       "174101     <NA>       <NA>   9/15/2020 12:00:00 AM  2000000.0   \n",
       "139028     <NA>       <NA>    8/5/2020 12:00:00 AM  2000000.0   \n",
       "205616     <NA>       <NA>  10/26/2020 12:00:00 AM  1700000.0   \n",
       "205718     <NA>       <NA>  10/23/2020 12:00:00 AM  1600000.0   \n",
       "\n",
       "       contribution_type                                        report  \n",
       "195410                 M       8 Day Before General Election-11/3/2020  \n",
       "189431                 M       8 Day Before General Election-11/3/2020  \n",
       "189404                 M       8 Day Before General Election-11/3/2020  \n",
       "156595                 M                      October Quarterly Report  \n",
       "156591                 M                      October Quarterly Report  \n",
       "139126                 M        30 Day After Primary Election-8/4/2020  \n",
       "174101                 M                      October Quarterly Report  \n",
       "139028                 M        30 Day After Primary Election-8/4/2020  \n",
       "205616                 M  24 Hour Expenditure Report-11/3/2020 General  \n",
       "205718                 M  24 Hour Expenditure Report-11/3/2020 General  "
      ]
     },
     "execution_count": 107,
     "metadata": {},
     "output_type": "execute_result"
    }
   ],
   "source": [
    "received_2020.sort_values('amount', ascending=False).head(10)"
   ]
  },
  {
   "cell_type": "markdown",
   "metadata": {},
   "source": [
    "...and sending that data to a csv file."
   ]
  },
  {
   "cell_type": "code",
   "execution_count": 108,
   "metadata": {},
   "outputs": [],
   "source": [
    "received_2020.sort_values('amount', ascending=False).head(40).to_csv('contributions_received_2020.csv', index=False)"
   ]
  },
  {
   "cell_type": "markdown",
   "metadata": {},
   "source": [
    "I want to group donations by state to find out where most of the donations are coming from. Unfortunately, there are more than the 51 rows I expected. Making sure all the states are uppercase helps a little. There are still some fake states but I don't think any of them gave enough money to throw off my conclusions. "
   ]
  },
  {
   "cell_type": "code",
   "execution_count": 109,
   "metadata": {},
   "outputs": [],
   "source": [
    "received_2020.state = received_2020.state.str.upper()"
   ]
  },
  {
   "cell_type": "code",
   "execution_count": 110,
   "metadata": {},
   "outputs": [
    {
     "data": {
      "text/html": [
       "<div>\n",
       "<style scoped>\n",
       "    .dataframe tbody tr th:only-of-type {\n",
       "        vertical-align: middle;\n",
       "    }\n",
       "\n",
       "    .dataframe tbody tr th {\n",
       "        vertical-align: top;\n",
       "    }\n",
       "\n",
       "    .dataframe thead th {\n",
       "        text-align: right;\n",
       "    }\n",
       "</style>\n",
       "<table border=\"1\" class=\"dataframe\">\n",
       "  <thead>\n",
       "    <tr style=\"text-align: right;\">\n",
       "      <th></th>\n",
       "      <th>state</th>\n",
       "      <th>amount</th>\n",
       "    </tr>\n",
       "  </thead>\n",
       "  <tbody>\n",
       "    <tr>\n",
       "      <th>0</th>\n",
       "      <td>0</td>\n",
       "      <td>545.00</td>\n",
       "    </tr>\n",
       "    <tr>\n",
       "      <th>1</th>\n",
       "      <td>AE</td>\n",
       "      <td>940.00</td>\n",
       "    </tr>\n",
       "    <tr>\n",
       "      <th>2</th>\n",
       "      <td>AK</td>\n",
       "      <td>3888.69</td>\n",
       "    </tr>\n",
       "    <tr>\n",
       "      <th>3</th>\n",
       "      <td>AL</td>\n",
       "      <td>47073.35</td>\n",
       "    </tr>\n",
       "    <tr>\n",
       "      <th>4</th>\n",
       "      <td>AP</td>\n",
       "      <td>213.50</td>\n",
       "    </tr>\n",
       "    <tr>\n",
       "      <th>...</th>\n",
       "      <td>...</td>\n",
       "      <td>...</td>\n",
       "    </tr>\n",
       "    <tr>\n",
       "      <th>61</th>\n",
       "      <td>WA</td>\n",
       "      <td>93345.05</td>\n",
       "    </tr>\n",
       "    <tr>\n",
       "      <th>62</th>\n",
       "      <td>WI</td>\n",
       "      <td>22501.33</td>\n",
       "    </tr>\n",
       "    <tr>\n",
       "      <th>63</th>\n",
       "      <td>WV</td>\n",
       "      <td>13740.72</td>\n",
       "    </tr>\n",
       "    <tr>\n",
       "      <th>64</th>\n",
       "      <td>WY</td>\n",
       "      <td>1566.18</td>\n",
       "    </tr>\n",
       "    <tr>\n",
       "      <th>65</th>\n",
       "      <td>XX</td>\n",
       "      <td>110.00</td>\n",
       "    </tr>\n",
       "  </tbody>\n",
       "</table>\n",
       "<p>66 rows × 2 columns</p>\n",
       "</div>"
      ],
      "text/plain": [
       "   state    amount\n",
       "0      0    545.00\n",
       "1     AE    940.00\n",
       "2     AK   3888.69\n",
       "3     AL  47073.35\n",
       "4     AP    213.50\n",
       "..   ...       ...\n",
       "61    WA  93345.05\n",
       "62    WI  22501.33\n",
       "63    WV  13740.72\n",
       "64    WY   1566.18\n",
       "65    XX    110.00\n",
       "\n",
       "[66 rows x 2 columns]"
      ]
     },
     "execution_count": 110,
     "metadata": {},
     "output_type": "execute_result"
    }
   ],
   "source": [
    "received_2020.groupby(['state']).amount.sum().reset_index()"
   ]
  },
  {
   "cell_type": "markdown",
   "metadata": {},
   "source": [
    "How much of the money came from small donations vs. large? The boundary between \"small\" and \"large\" is sort of arbitrary, but can also be easily adjusted later if needed. Once I filter for donations above/below a certain size, I can sum them and find how many individual donations were in that range. "
   ]
  },
  {
   "cell_type": "code",
   "execution_count": 111,
   "metadata": {},
   "outputs": [],
   "source": [
    "received_2020_small = received_2020[received_2020.amount < 2000]"
   ]
  },
  {
   "cell_type": "code",
   "execution_count": 112,
   "metadata": {},
   "outputs": [
    {
     "data": {
      "text/plain": [
       "29321788.870000005"
      ]
     },
     "execution_count": 112,
     "metadata": {},
     "output_type": "execute_result"
    }
   ],
   "source": [
    "received_2020_small.amount.sum()"
   ]
  },
  {
   "cell_type": "code",
   "execution_count": 113,
   "metadata": {},
   "outputs": [],
   "source": [
    "received_2020_large = received_2020[received_2020.amount > 1999]"
   ]
  },
  {
   "cell_type": "code",
   "execution_count": 114,
   "metadata": {},
   "outputs": [
    {
     "data": {
      "text/plain": [
       "128911040.37"
      ]
     },
     "execution_count": 114,
     "metadata": {},
     "output_type": "execute_result"
    }
   ],
   "source": [
    "received_2020_large.amount.sum()"
   ]
  },
  {
   "cell_type": "code",
   "execution_count": 115,
   "metadata": {},
   "outputs": [
    {
     "data": {
      "text/plain": [
       "158232829.24"
      ]
     },
     "execution_count": 115,
     "metadata": {},
     "output_type": "execute_result"
    }
   ],
   "source": [
    "received_2020_small.amount.sum() + received_2020_large.amount.sum()"
   ]
  },
  {
   "cell_type": "code",
   "execution_count": 116,
   "metadata": {},
   "outputs": [
    {
     "name": "stdout",
     "output_type": "stream",
     "text": [
      "<class 'pandas.core.frame.DataFrame'>\n",
      "Int64Index: 9396 entries, 79 to 206256\n",
      "Data columns (total 18 columns):\n",
      " #   Column             Non-Null Count  Dtype  \n",
      "---  ------             --------------  -----  \n",
      " 0   cd1_a_id           9396 non-null   string \n",
      " 1   mecid              9396 non-null   object \n",
      " 2   committee_name     9396 non-null   string \n",
      " 3   committee          3067 non-null   string \n",
      " 4   company            2607 non-null   string \n",
      " 5   first_name         3722 non-null   string \n",
      " 6   last_name          3746 non-null   string \n",
      " 7   address_1          9395 non-null   string \n",
      " 8   address_2          1338 non-null   string \n",
      " 9   city               9396 non-null   string \n",
      " 10  state              9396 non-null   string \n",
      " 11  zip                9395 non-null   string \n",
      " 12  employer           3462 non-null   string \n",
      " 13  occupation         3266 non-null   string \n",
      " 14  date               9396 non-null   string \n",
      " 15  amount             9396 non-null   float64\n",
      " 16  contribution_type  9396 non-null   string \n",
      " 17  report             9396 non-null   string \n",
      "dtypes: float64(1), object(1), string(16)\n",
      "memory usage: 1.4+ MB\n"
     ]
    }
   ],
   "source": [
    "received_2020_large.info()"
   ]
  },
  {
   "cell_type": "code",
   "execution_count": 117,
   "metadata": {},
   "outputs": [
    {
     "name": "stdout",
     "output_type": "stream",
     "text": [
      "<class 'pandas.core.frame.DataFrame'>\n",
      "Int64Index: 196875 entries, 0 to 206270\n",
      "Data columns (total 18 columns):\n",
      " #   Column             Non-Null Count   Dtype  \n",
      "---  ------             --------------   -----  \n",
      " 0   cd1_a_id           196875 non-null  string \n",
      " 1   mecid              196875 non-null  object \n",
      " 2   committee_name     196875 non-null  string \n",
      " 3   committee          11518 non-null   string \n",
      " 4   company            9238 non-null    string \n",
      " 5   first_name         173763 non-null  string \n",
      " 6   last_name          176650 non-null  string \n",
      " 7   address_1          196869 non-null  string \n",
      " 8   address_2          17125 non-null   string \n",
      " 9   city               196875 non-null  string \n",
      " 10  state              196875 non-null  string \n",
      " 11  zip                196705 non-null  string \n",
      " 12  employer           168917 non-null  string \n",
      " 13  occupation         155182 non-null  string \n",
      " 14  date               196875 non-null  string \n",
      " 15  amount             196875 non-null  float64\n",
      " 16  contribution_type  196875 non-null  string \n",
      " 17  report             196875 non-null  string \n",
      "dtypes: float64(1), object(1), string(16)\n",
      "memory usage: 28.5+ MB\n"
     ]
    }
   ],
   "source": [
    "received_2020_small.info()"
   ]
  },
  {
   "cell_type": "markdown",
   "metadata": {},
   "source": [
    "I experimented with grouping by address, but it quickly became obvious that they would be too difficult to standardize. I made the capitalization uniform but that didn't solve all the issues.  "
   ]
  },
  {
   "cell_type": "code",
   "execution_count": 118,
   "metadata": {},
   "outputs": [],
   "source": [
    "by_address = received_2020.groupby(['address_1']).amount.sum().reset_index()"
   ]
  },
  {
   "cell_type": "code",
   "execution_count": 119,
   "metadata": {},
   "outputs": [],
   "source": [
    "by_address.address_1 = by_address.address_1.str.upper()"
   ]
  },
  {
   "cell_type": "code",
   "execution_count": 120,
   "metadata": {},
   "outputs": [
    {
     "data": {
      "text/html": [
       "<div>\n",
       "<style scoped>\n",
       "    .dataframe tbody tr th:only-of-type {\n",
       "        vertical-align: middle;\n",
       "    }\n",
       "\n",
       "    .dataframe tbody tr th {\n",
       "        vertical-align: top;\n",
       "    }\n",
       "\n",
       "    .dataframe thead th {\n",
       "        text-align: right;\n",
       "    }\n",
       "</style>\n",
       "<table border=\"1\" class=\"dataframe\">\n",
       "  <thead>\n",
       "    <tr style=\"text-align: right;\">\n",
       "      <th></th>\n",
       "      <th>address_1</th>\n",
       "      <th>amount</th>\n",
       "    </tr>\n",
       "  </thead>\n",
       "  <tbody>\n",
       "    <tr>\n",
       "      <th>19320</th>\n",
       "      <td>1747 PENNSYLVANIA AVE NW</td>\n",
       "      <td>14850162.96</td>\n",
       "    </tr>\n",
       "    <tr>\n",
       "      <th>19324</th>\n",
       "      <td>1747 PENNSYLVANIA AVENUE, NW</td>\n",
       "      <td>13700032.00</td>\n",
       "    </tr>\n",
       "    <tr>\n",
       "      <th>8977</th>\n",
       "      <td>1225 EYE ST NW</td>\n",
       "      <td>7107000.00</td>\n",
       "    </tr>\n",
       "    <tr>\n",
       "      <th>8979</th>\n",
       "      <td>1225 EYE ST NW, STE 1100</td>\n",
       "      <td>7080000.00</td>\n",
       "    </tr>\n",
       "    <tr>\n",
       "      <th>76100</th>\n",
       "      <td>PO BOX 60</td>\n",
       "      <td>4027897.85</td>\n",
       "    </tr>\n",
       "    <tr>\n",
       "      <th>...</th>\n",
       "      <td>...</td>\n",
       "      <td>...</td>\n",
       "    </tr>\n",
       "    <tr>\n",
       "      <th>9169</th>\n",
       "      <td>1231 GREGAN PL.</td>\n",
       "      <td>0.00</td>\n",
       "    </tr>\n",
       "    <tr>\n",
       "      <th>75698</th>\n",
       "      <td>PO BOX 302</td>\n",
       "      <td>0.00</td>\n",
       "    </tr>\n",
       "    <tr>\n",
       "      <th>43796</th>\n",
       "      <td>404 CLARK STREET</td>\n",
       "      <td>0.00</td>\n",
       "    </tr>\n",
       "    <tr>\n",
       "      <th>22080</th>\n",
       "      <td>1960 JUDITH SPRINGS ROAD</td>\n",
       "      <td>0.00</td>\n",
       "    </tr>\n",
       "    <tr>\n",
       "      <th>32300</th>\n",
       "      <td>2730 MILL ST</td>\n",
       "      <td>0.00</td>\n",
       "    </tr>\n",
       "  </tbody>\n",
       "</table>\n",
       "<p>77222 rows × 2 columns</p>\n",
       "</div>"
      ],
      "text/plain": [
       "                          address_1       amount\n",
       "19320      1747 PENNSYLVANIA AVE NW  14850162.96\n",
       "19324  1747 PENNSYLVANIA AVENUE, NW  13700032.00\n",
       "8977                 1225 EYE ST NW   7107000.00\n",
       "8979       1225 EYE ST NW, STE 1100   7080000.00\n",
       "76100                     PO BOX 60   4027897.85\n",
       "...                             ...          ...\n",
       "9169                1231 GREGAN PL.         0.00\n",
       "75698                    PO BOX 302         0.00\n",
       "43796              404 CLARK STREET         0.00\n",
       "22080      1960 JUDITH SPRINGS ROAD         0.00\n",
       "32300                  2730 MILL ST         0.00\n",
       "\n",
       "[77222 rows x 2 columns]"
      ]
     },
     "execution_count": 120,
     "metadata": {},
     "output_type": "execute_result"
    }
   ],
   "source": [
    "by_address.sort_values('amount', ascending = False)"
   ]
  },
  {
   "cell_type": "markdown",
   "metadata": {},
   "source": [
    "Instead, I merge the received spreasheet with committee types, first looking at PACs specifically."
   ]
  },
  {
   "cell_type": "code",
   "execution_count": 121,
   "metadata": {},
   "outputs": [],
   "source": [
    "received_commtype_2020 = received_2020.merge(by_mecid, on='mecid', validate='many_to_one')"
   ]
  },
  {
   "cell_type": "code",
   "execution_count": 122,
   "metadata": {},
   "outputs": [],
   "source": [
    "pacs_received_2020 = received_commtype_2020[received_commtype_2020.comm_type == \"Political Action\"]"
   ]
  },
  {
   "cell_type": "code",
   "execution_count": 123,
   "metadata": {},
   "outputs": [
    {
     "data": {
      "text/html": [
       "<div>\n",
       "<style scoped>\n",
       "    .dataframe tbody tr th:only-of-type {\n",
       "        vertical-align: middle;\n",
       "    }\n",
       "\n",
       "    .dataframe tbody tr th {\n",
       "        vertical-align: top;\n",
       "    }\n",
       "\n",
       "    .dataframe thead th {\n",
       "        text-align: right;\n",
       "    }\n",
       "</style>\n",
       "<table border=\"1\" class=\"dataframe\">\n",
       "  <thead>\n",
       "    <tr style=\"text-align: right;\">\n",
       "      <th></th>\n",
       "      <th>index</th>\n",
       "      <th>cd1_a_id</th>\n",
       "      <th>mecid</th>\n",
       "      <th>committee_name</th>\n",
       "      <th>committee</th>\n",
       "      <th>company</th>\n",
       "      <th>first_name</th>\n",
       "      <th>last_name</th>\n",
       "      <th>address_1</th>\n",
       "      <th>address_2</th>\n",
       "      <th>...</th>\n",
       "      <th>contribution_type</th>\n",
       "      <th>report</th>\n",
       "      <th>committeename</th>\n",
       "      <th>comm_type</th>\n",
       "      <th>comm_status</th>\n",
       "      <th>candidate_fname</th>\n",
       "      <th>candidate_mname</th>\n",
       "      <th>candidate_lname</th>\n",
       "      <th>electiondate</th>\n",
       "      <th>office_sought</th>\n",
       "    </tr>\n",
       "  </thead>\n",
       "  <tbody>\n",
       "    <tr>\n",
       "      <th>0</th>\n",
       "      <td>1819</td>\n",
       "      <td>1257094</td>\n",
       "      <td>C151190</td>\n",
       "      <td>Missouri Alliance PAC</td>\n",
       "      <td>&lt;NA&gt;</td>\n",
       "      <td>Kiel Center Partners LP</td>\n",
       "      <td>&lt;NA&gt;</td>\n",
       "      <td>&lt;NA&gt;</td>\n",
       "      <td>1401 Clark Ave.</td>\n",
       "      <td>13447 Land O woods Dr.</td>\n",
       "      <td>...</td>\n",
       "      <td>M</td>\n",
       "      <td>January Quarterly Report</td>\n",
       "      <td>Missouri Alliance PAC</td>\n",
       "      <td>Political Action</td>\n",
       "      <td>Active</td>\n",
       "      <td>1</td>\n",
       "      <td>1</td>\n",
       "      <td>1</td>\n",
       "      <td>1</td>\n",
       "      <td>1</td>\n",
       "    </tr>\n",
       "    <tr>\n",
       "      <th>1</th>\n",
       "      <td>1820</td>\n",
       "      <td>1257095</td>\n",
       "      <td>C151190</td>\n",
       "      <td>Missouri Alliance PAC</td>\n",
       "      <td>&lt;NA&gt;</td>\n",
       "      <td>Comcast Financial Agency Corporation</td>\n",
       "      <td>&lt;NA&gt;</td>\n",
       "      <td>&lt;NA&gt;</td>\n",
       "      <td>1701 JFK Blvd</td>\n",
       "      <td>&lt;NA&gt;</td>\n",
       "      <td>...</td>\n",
       "      <td>M</td>\n",
       "      <td>January Quarterly Report</td>\n",
       "      <td>Missouri Alliance PAC</td>\n",
       "      <td>Political Action</td>\n",
       "      <td>Active</td>\n",
       "      <td>1</td>\n",
       "      <td>1</td>\n",
       "      <td>1</td>\n",
       "      <td>1</td>\n",
       "      <td>1</td>\n",
       "    </tr>\n",
       "    <tr>\n",
       "      <th>2</th>\n",
       "      <td>1821</td>\n",
       "      <td>1369903</td>\n",
       "      <td>C151190</td>\n",
       "      <td>Missouri Alliance PAC</td>\n",
       "      <td>&lt;NA&gt;</td>\n",
       "      <td>Anesthesia Associates of Kansas City PC</td>\n",
       "      <td>&lt;NA&gt;</td>\n",
       "      <td>&lt;NA&gt;</td>\n",
       "      <td>8717 W. 110th St.</td>\n",
       "      <td>&lt;NA&gt;</td>\n",
       "      <td>...</td>\n",
       "      <td>M</td>\n",
       "      <td>April Quarterly Report</td>\n",
       "      <td>Missouri Alliance PAC</td>\n",
       "      <td>Political Action</td>\n",
       "      <td>Active</td>\n",
       "      <td>1</td>\n",
       "      <td>1</td>\n",
       "      <td>1</td>\n",
       "      <td>1</td>\n",
       "      <td>1</td>\n",
       "    </tr>\n",
       "  </tbody>\n",
       "</table>\n",
       "<p>3 rows × 27 columns</p>\n",
       "</div>"
      ],
      "text/plain": [
       "   index cd1_a_id    mecid         committee_name committee  \\\n",
       "0   1819  1257094  C151190  Missouri Alliance PAC      <NA>   \n",
       "1   1820  1257095  C151190  Missouri Alliance PAC      <NA>   \n",
       "2   1821  1369903  C151190  Missouri Alliance PAC      <NA>   \n",
       "\n",
       "                                   company first_name last_name  \\\n",
       "0                  Kiel Center Partners LP       <NA>      <NA>   \n",
       "1     Comcast Financial Agency Corporation       <NA>      <NA>   \n",
       "2  Anesthesia Associates of Kansas City PC       <NA>      <NA>   \n",
       "\n",
       "            address_1               address_2  ... contribution_type  \\\n",
       "0     1401 Clark Ave.  13447 Land O woods Dr.  ...                 M   \n",
       "1       1701 JFK Blvd                    <NA>  ...                 M   \n",
       "2  8717 W. 110th St.                     <NA>  ...                 M   \n",
       "\n",
       "                     report          committeename         comm_type  \\\n",
       "0  January Quarterly Report  Missouri Alliance PAC  Political Action   \n",
       "1  January Quarterly Report  Missouri Alliance PAC  Political Action   \n",
       "2    April Quarterly Report  Missouri Alliance PAC  Political Action   \n",
       "\n",
       "  comm_status candidate_fname  candidate_mname candidate_lname electiondate  \\\n",
       "0      Active               1                1               1            1   \n",
       "1      Active               1                1               1            1   \n",
       "2      Active               1                1               1            1   \n",
       "\n",
       "  office_sought  \n",
       "0             1  \n",
       "1             1  \n",
       "2             1  \n",
       "\n",
       "[3 rows x 27 columns]"
      ]
     },
     "execution_count": 123,
     "metadata": {},
     "output_type": "execute_result"
    }
   ],
   "source": [
    "pacs_received_2020.reset_index().head(3)"
   ]
  },
  {
   "cell_type": "markdown",
   "metadata": {},
   "source": [
    "This list isn't too different than what I had before, since PACs received the biggest donations. "
   ]
  },
  {
   "cell_type": "code",
   "execution_count": 124,
   "metadata": {},
   "outputs": [
    {
     "data": {
      "text/html": [
       "<div>\n",
       "<style scoped>\n",
       "    .dataframe tbody tr th:only-of-type {\n",
       "        vertical-align: middle;\n",
       "    }\n",
       "\n",
       "    .dataframe tbody tr th {\n",
       "        vertical-align: top;\n",
       "    }\n",
       "\n",
       "    .dataframe thead th {\n",
       "        text-align: right;\n",
       "    }\n",
       "</style>\n",
       "<table border=\"1\" class=\"dataframe\">\n",
       "  <thead>\n",
       "    <tr style=\"text-align: right;\">\n",
       "      <th></th>\n",
       "      <th>cd1_a_id</th>\n",
       "      <th>mecid</th>\n",
       "      <th>committee_name</th>\n",
       "      <th>committee</th>\n",
       "      <th>company</th>\n",
       "      <th>first_name</th>\n",
       "      <th>last_name</th>\n",
       "      <th>address_1</th>\n",
       "      <th>address_2</th>\n",
       "      <th>city</th>\n",
       "      <th>...</th>\n",
       "      <th>contribution_type</th>\n",
       "      <th>report</th>\n",
       "      <th>committeename</th>\n",
       "      <th>comm_type</th>\n",
       "      <th>comm_status</th>\n",
       "      <th>candidate_fname</th>\n",
       "      <th>candidate_mname</th>\n",
       "      <th>candidate_lname</th>\n",
       "      <th>electiondate</th>\n",
       "      <th>office_sought</th>\n",
       "    </tr>\n",
       "  </thead>\n",
       "  <tbody>\n",
       "    <tr>\n",
       "      <th>196396</th>\n",
       "      <td>1531035</td>\n",
       "      <td>C201214</td>\n",
       "      <td>Republican Governors Association - Missouri 2020</td>\n",
       "      <td>&lt;NA&gt;</td>\n",
       "      <td>Republican Governors Association</td>\n",
       "      <td>&lt;NA&gt;</td>\n",
       "      <td>&lt;NA&gt;</td>\n",
       "      <td>1747 Pennsylvania Avenue, NW</td>\n",
       "      <td>Suite 250</td>\n",
       "      <td>Washington</td>\n",
       "      <td>...</td>\n",
       "      <td>M</td>\n",
       "      <td>8 Day Before General Election-11/3/2020</td>\n",
       "      <td>Republican Governors Association - Missouri 2020</td>\n",
       "      <td>Political Action</td>\n",
       "      <td>Active</td>\n",
       "      <td>1</td>\n",
       "      <td>1</td>\n",
       "      <td>1</td>\n",
       "      <td>1</td>\n",
       "      <td>1</td>\n",
       "    </tr>\n",
       "    <tr>\n",
       "      <th>136089</th>\n",
       "      <td>1523919</td>\n",
       "      <td>C180490</td>\n",
       "      <td>Uniting Missouri PAC</td>\n",
       "      <td>REPUBLICAN GOVERNORS ASSOCIATION - MISSOURI 2020</td>\n",
       "      <td>&lt;NA&gt;</td>\n",
       "      <td>&lt;NA&gt;</td>\n",
       "      <td>&lt;NA&gt;</td>\n",
       "      <td>1747 PENNSYLVANIA AVE NW</td>\n",
       "      <td>SUITE 250</td>\n",
       "      <td>WASHINGTON</td>\n",
       "      <td>...</td>\n",
       "      <td>M</td>\n",
       "      <td>8 Day Before General Election-11/3/2020</td>\n",
       "      <td>Uniting Missouri PAC</td>\n",
       "      <td>Political Action</td>\n",
       "      <td>Active</td>\n",
       "      <td>1</td>\n",
       "      <td>1</td>\n",
       "      <td>1</td>\n",
       "      <td>1</td>\n",
       "      <td>1</td>\n",
       "    </tr>\n",
       "    <tr>\n",
       "      <th>136062</th>\n",
       "      <td>1523892</td>\n",
       "      <td>C180490</td>\n",
       "      <td>Uniting Missouri PAC</td>\n",
       "      <td>REPUBLICAN GOVERNORS ASSOCIATION - MISSOURI 2020</td>\n",
       "      <td>&lt;NA&gt;</td>\n",
       "      <td>&lt;NA&gt;</td>\n",
       "      <td>&lt;NA&gt;</td>\n",
       "      <td>1747 PENNSYLVANIA AVE NW</td>\n",
       "      <td>SUITE 250</td>\n",
       "      <td>WASHINGTON</td>\n",
       "      <td>...</td>\n",
       "      <td>M</td>\n",
       "      <td>8 Day Before General Election-11/3/2020</td>\n",
       "      <td>Uniting Missouri PAC</td>\n",
       "      <td>Political Action</td>\n",
       "      <td>Active</td>\n",
       "      <td>1</td>\n",
       "      <td>1</td>\n",
       "      <td>1</td>\n",
       "      <td>1</td>\n",
       "      <td>1</td>\n",
       "    </tr>\n",
       "    <tr>\n",
       "      <th>196392</th>\n",
       "      <td>1464448</td>\n",
       "      <td>C201214</td>\n",
       "      <td>Republican Governors Association - Missouri 2020</td>\n",
       "      <td>&lt;NA&gt;</td>\n",
       "      <td>Republican Governors Association</td>\n",
       "      <td>&lt;NA&gt;</td>\n",
       "      <td>&lt;NA&gt;</td>\n",
       "      <td>1747 Pennsylvania Avenue, NW</td>\n",
       "      <td>Suite 250</td>\n",
       "      <td>Washington</td>\n",
       "      <td>...</td>\n",
       "      <td>M</td>\n",
       "      <td>30 Day After Primary Election-8/4/2020</td>\n",
       "      <td>Republican Governors Association - Missouri 2020</td>\n",
       "      <td>Political Action</td>\n",
       "      <td>Active</td>\n",
       "      <td>1</td>\n",
       "      <td>1</td>\n",
       "      <td>1</td>\n",
       "      <td>1</td>\n",
       "      <td>1</td>\n",
       "    </tr>\n",
       "    <tr>\n",
       "      <th>196394</th>\n",
       "      <td>1488932</td>\n",
       "      <td>C201214</td>\n",
       "      <td>Republican Governors Association - Missouri 2020</td>\n",
       "      <td>&lt;NA&gt;</td>\n",
       "      <td>Republican Governors Association</td>\n",
       "      <td>&lt;NA&gt;</td>\n",
       "      <td>&lt;NA&gt;</td>\n",
       "      <td>1747 Pennsylvania Avenue, NW</td>\n",
       "      <td>Suite 250</td>\n",
       "      <td>Washington</td>\n",
       "      <td>...</td>\n",
       "      <td>M</td>\n",
       "      <td>October Quarterly Report</td>\n",
       "      <td>Republican Governors Association - Missouri 2020</td>\n",
       "      <td>Political Action</td>\n",
       "      <td>Active</td>\n",
       "      <td>1</td>\n",
       "      <td>1</td>\n",
       "      <td>1</td>\n",
       "      <td>1</td>\n",
       "      <td>1</td>\n",
       "    </tr>\n",
       "  </tbody>\n",
       "</table>\n",
       "<p>5 rows × 26 columns</p>\n",
       "</div>"
      ],
      "text/plain": [
       "       cd1_a_id    mecid                                    committee_name  \\\n",
       "196396  1531035  C201214  Republican Governors Association - Missouri 2020   \n",
       "136089  1523919  C180490                              Uniting Missouri PAC   \n",
       "136062  1523892  C180490                              Uniting Missouri PAC   \n",
       "196392  1464448  C201214  Republican Governors Association - Missouri 2020   \n",
       "196394  1488932  C201214  Republican Governors Association - Missouri 2020   \n",
       "\n",
       "                                               committee  \\\n",
       "196396                                              <NA>   \n",
       "136089  REPUBLICAN GOVERNORS ASSOCIATION - MISSOURI 2020   \n",
       "136062  REPUBLICAN GOVERNORS ASSOCIATION - MISSOURI 2020   \n",
       "196392                                              <NA>   \n",
       "196394                                              <NA>   \n",
       "\n",
       "                                 company first_name last_name  \\\n",
       "196396  Republican Governors Association       <NA>      <NA>   \n",
       "136089                              <NA>       <NA>      <NA>   \n",
       "136062                              <NA>       <NA>      <NA>   \n",
       "196392  Republican Governors Association       <NA>      <NA>   \n",
       "196394  Republican Governors Association       <NA>      <NA>   \n",
       "\n",
       "                           address_1  address_2        city  ...  \\\n",
       "196396  1747 Pennsylvania Avenue, NW  Suite 250  Washington  ...   \n",
       "136089      1747 PENNSYLVANIA AVE NW  SUITE 250  WASHINGTON  ...   \n",
       "136062      1747 PENNSYLVANIA AVE NW  SUITE 250  WASHINGTON  ...   \n",
       "196392  1747 Pennsylvania Avenue, NW  Suite 250  Washington  ...   \n",
       "196394  1747 Pennsylvania Avenue, NW  Suite 250  Washington  ...   \n",
       "\n",
       "       contribution_type                                   report  \\\n",
       "196396                 M  8 Day Before General Election-11/3/2020   \n",
       "136089                 M  8 Day Before General Election-11/3/2020   \n",
       "136062                 M  8 Day Before General Election-11/3/2020   \n",
       "196392                 M   30 Day After Primary Election-8/4/2020   \n",
       "196394                 M                 October Quarterly Report   \n",
       "\n",
       "                                           committeename         comm_type  \\\n",
       "196396  Republican Governors Association - Missouri 2020  Political Action   \n",
       "136089                              Uniting Missouri PAC  Political Action   \n",
       "136062                              Uniting Missouri PAC  Political Action   \n",
       "196392  Republican Governors Association - Missouri 2020  Political Action   \n",
       "196394  Republican Governors Association - Missouri 2020  Political Action   \n",
       "\n",
       "       comm_status  candidate_fname candidate_mname candidate_lname  \\\n",
       "196396      Active                1               1               1   \n",
       "136089      Active                1               1               1   \n",
       "136062      Active                1               1               1   \n",
       "196392      Active                1               1               1   \n",
       "196394      Active                1               1               1   \n",
       "\n",
       "       electiondate office_sought  \n",
       "196396            1             1  \n",
       "136089            1             1  \n",
       "136062            1             1  \n",
       "196392            1             1  \n",
       "196394            1             1  \n",
       "\n",
       "[5 rows x 26 columns]"
      ]
     },
     "execution_count": 124,
     "metadata": {},
     "output_type": "execute_result"
    }
   ],
   "source": [
    "pacs_received_2020.sort_values('amount', ascending=False).head(5)"
   ]
  },
  {
   "cell_type": "markdown",
   "metadata": {},
   "source": [
    "Also grouping them by state and donation size. 2,650 is the contribution limit for statewide office, which PACS don't have to follow."
   ]
  },
  {
   "cell_type": "code",
   "execution_count": 125,
   "metadata": {},
   "outputs": [
    {
     "data": {
      "text/plain": [
       "state\n",
       "0        545.00\n",
       "AK       328.29\n",
       "AL     32728.65\n",
       "AR     37655.02\n",
       "AZ    237185.82\n",
       "Name: amount, dtype: float64"
      ]
     },
     "execution_count": 125,
     "metadata": {},
     "output_type": "execute_result"
    }
   ],
   "source": [
    "pacs_received_2020.groupby(['state']).amount.sum().head()"
   ]
  },
  {
   "cell_type": "code",
   "execution_count": 126,
   "metadata": {},
   "outputs": [],
   "source": [
    "pacs_received_2020_small = pacs_received_2020[pacs_received_2020.amount < 2650]"
   ]
  },
  {
   "cell_type": "code",
   "execution_count": 127,
   "metadata": {},
   "outputs": [
    {
     "data": {
      "text/plain": [
       "8804664.44"
      ]
     },
     "execution_count": 127,
     "metadata": {},
     "output_type": "execute_result"
    }
   ],
   "source": [
    "pacs_received_2020_small.amount.sum()"
   ]
  },
  {
   "cell_type": "code",
   "execution_count": 128,
   "metadata": {},
   "outputs": [],
   "source": [
    "pacs_received_2020_large = pacs_received_2020[pacs_received_2020.amount > 2649.99]"
   ]
  },
  {
   "cell_type": "code",
   "execution_count": 129,
   "metadata": {},
   "outputs": [
    {
     "data": {
      "text/plain": [
       "100811322.01"
      ]
     },
     "execution_count": 129,
     "metadata": {},
     "output_type": "execute_result"
    }
   ],
   "source": [
    "pacs_received_2020_large.amount.sum()"
   ]
  },
  {
   "cell_type": "code",
   "execution_count": 130,
   "metadata": {},
   "outputs": [
    {
     "name": "stdout",
     "output_type": "stream",
     "text": [
      "<class 'pandas.core.frame.DataFrame'>\n",
      "Int64Index: 2612 entries, 1823 to 206242\n",
      "Data columns (total 26 columns):\n",
      " #   Column             Non-Null Count  Dtype  \n",
      "---  ------             --------------  -----  \n",
      " 0   cd1_a_id           2612 non-null   string \n",
      " 1   mecid              2612 non-null   object \n",
      " 2   committee_name     2612 non-null   string \n",
      " 3   committee          894 non-null    string \n",
      " 4   company            1373 non-null   string \n",
      " 5   first_name         346 non-null    string \n",
      " 6   last_name          356 non-null    string \n",
      " 7   address_1          2612 non-null   string \n",
      " 8   address_2          512 non-null    string \n",
      " 9   city               2612 non-null   string \n",
      " 10  state              2612 non-null   string \n",
      " 11  zip                2612 non-null   string \n",
      " 12  employer           333 non-null    string \n",
      " 13  occupation         313 non-null    string \n",
      " 14  date               2612 non-null   string \n",
      " 15  amount             2612 non-null   float64\n",
      " 16  contribution_type  2612 non-null   string \n",
      " 17  report             2612 non-null   string \n",
      " 18  committeename      2612 non-null   object \n",
      " 19  comm_type          2612 non-null   object \n",
      " 20  comm_status        2612 non-null   object \n",
      " 21  candidate_fname    2612 non-null   int64  \n",
      " 22  candidate_mname    2612 non-null   int64  \n",
      " 23  candidate_lname    2612 non-null   int64  \n",
      " 24  electiondate       2612 non-null   int64  \n",
      " 25  office_sought      2612 non-null   int64  \n",
      "dtypes: float64(1), int64(5), object(4), string(16)\n",
      "memory usage: 551.0+ KB\n"
     ]
    }
   ],
   "source": [
    "pacs_received_2020_large.info()"
   ]
  },
  {
   "cell_type": "code",
   "execution_count": 131,
   "metadata": {},
   "outputs": [
    {
     "name": "stdout",
     "output_type": "stream",
     "text": [
      "<class 'pandas.core.frame.DataFrame'>\n",
      "Int64Index: 77828 entries, 1819 to 206246\n",
      "Data columns (total 26 columns):\n",
      " #   Column             Non-Null Count  Dtype  \n",
      "---  ------             --------------  -----  \n",
      " 0   cd1_a_id           77828 non-null  string \n",
      " 1   mecid              77828 non-null  object \n",
      " 2   committee_name     77828 non-null  string \n",
      " 3   committee          1134 non-null   string \n",
      " 4   company            5593 non-null   string \n",
      " 5   first_name         68624 non-null  string \n",
      " 6   last_name          71523 non-null  string \n",
      " 7   address_1          77823 non-null  string \n",
      " 8   address_2          8156 non-null   string \n",
      " 9   city               77828 non-null  string \n",
      " 10  state              77828 non-null  string \n",
      " 11  zip                77827 non-null  string \n",
      " 12  employer           69374 non-null  string \n",
      " 13  occupation         64705 non-null  string \n",
      " 14  date               77828 non-null  string \n",
      " 15  amount             77828 non-null  float64\n",
      " 16  contribution_type  77828 non-null  string \n",
      " 17  report             77828 non-null  string \n",
      " 18  committeename      77828 non-null  object \n",
      " 19  comm_type          77828 non-null  object \n",
      " 20  comm_status        77828 non-null  object \n",
      " 21  candidate_fname    77828 non-null  int64  \n",
      " 22  candidate_mname    77828 non-null  int64  \n",
      " 23  candidate_lname    77828 non-null  int64  \n",
      " 24  electiondate       77828 non-null  int64  \n",
      " 25  office_sought      77828 non-null  int64  \n",
      "dtypes: float64(1), int64(5), object(4), string(16)\n",
      "memory usage: 16.0+ MB\n"
     ]
    }
   ],
   "source": [
    "pacs_received_2020_small.info()"
   ]
  },
  {
   "cell_type": "markdown",
   "metadata": {},
   "source": [
    "Repeating some of the same steps with everything except PACs..."
   ]
  },
  {
   "cell_type": "code",
   "execution_count": 132,
   "metadata": {},
   "outputs": [],
   "source": [
    "no_pacs_received_2020 = received_commtype_2020[received_commtype_2020.comm_type != 'Political Action']"
   ]
  },
  {
   "cell_type": "code",
   "execution_count": 133,
   "metadata": {},
   "outputs": [
    {
     "data": {
      "text/html": [
       "<div>\n",
       "<style scoped>\n",
       "    .dataframe tbody tr th:only-of-type {\n",
       "        vertical-align: middle;\n",
       "    }\n",
       "\n",
       "    .dataframe tbody tr th {\n",
       "        vertical-align: top;\n",
       "    }\n",
       "\n",
       "    .dataframe thead th {\n",
       "        text-align: right;\n",
       "    }\n",
       "</style>\n",
       "<table border=\"1\" class=\"dataframe\">\n",
       "  <thead>\n",
       "    <tr style=\"text-align: right;\">\n",
       "      <th></th>\n",
       "      <th>cd1_a_id</th>\n",
       "      <th>mecid</th>\n",
       "      <th>committee_name</th>\n",
       "      <th>committee</th>\n",
       "      <th>company</th>\n",
       "      <th>first_name</th>\n",
       "      <th>last_name</th>\n",
       "      <th>address_1</th>\n",
       "      <th>address_2</th>\n",
       "      <th>city</th>\n",
       "      <th>...</th>\n",
       "      <th>contribution_type</th>\n",
       "      <th>report</th>\n",
       "      <th>committeename</th>\n",
       "      <th>comm_type</th>\n",
       "      <th>comm_status</th>\n",
       "      <th>candidate_fname</th>\n",
       "      <th>candidate_mname</th>\n",
       "      <th>candidate_lname</th>\n",
       "      <th>electiondate</th>\n",
       "      <th>office_sought</th>\n",
       "    </tr>\n",
       "  </thead>\n",
       "  <tbody>\n",
       "    <tr>\n",
       "      <th>0</th>\n",
       "      <td>1256570</td>\n",
       "      <td>A151115</td>\n",
       "      <td>Friends Of Wesley Bell</td>\n",
       "      <td>&lt;NA&gt;</td>\n",
       "      <td>&lt;NA&gt;</td>\n",
       "      <td>Jerome</td>\n",
       "      <td>Husgen</td>\n",
       "      <td>200 Cabellero Drive</td>\n",
       "      <td>&lt;NA&gt;</td>\n",
       "      <td>Ballwin</td>\n",
       "      <td>...</td>\n",
       "      <td>M</td>\n",
       "      <td>January Quarterly Report</td>\n",
       "      <td>Friends Of Wesley Bell</td>\n",
       "      <td>Candidate</td>\n",
       "      <td>Active</td>\n",
       "      <td>1</td>\n",
       "      <td>1</td>\n",
       "      <td>1</td>\n",
       "      <td>4</td>\n",
       "      <td>2</td>\n",
       "    </tr>\n",
       "    <tr>\n",
       "      <th>1</th>\n",
       "      <td>1256571</td>\n",
       "      <td>A151115</td>\n",
       "      <td>Friends Of Wesley Bell</td>\n",
       "      <td>&lt;NA&gt;</td>\n",
       "      <td>&lt;NA&gt;</td>\n",
       "      <td>Max</td>\n",
       "      <td>Micallef</td>\n",
       "      <td>735 Anderson Hill Road</td>\n",
       "      <td>&lt;NA&gt;</td>\n",
       "      <td>Purchase</td>\n",
       "      <td>...</td>\n",
       "      <td>M</td>\n",
       "      <td>January Quarterly Report</td>\n",
       "      <td>Friends Of Wesley Bell</td>\n",
       "      <td>Candidate</td>\n",
       "      <td>Active</td>\n",
       "      <td>1</td>\n",
       "      <td>1</td>\n",
       "      <td>1</td>\n",
       "      <td>4</td>\n",
       "      <td>2</td>\n",
       "    </tr>\n",
       "    <tr>\n",
       "      <th>2</th>\n",
       "      <td>1256572</td>\n",
       "      <td>A151115</td>\n",
       "      <td>Friends Of Wesley Bell</td>\n",
       "      <td>&lt;NA&gt;</td>\n",
       "      <td>&lt;NA&gt;</td>\n",
       "      <td>Duncan</td>\n",
       "      <td>Smith</td>\n",
       "      <td>2342 Granite Way</td>\n",
       "      <td>&lt;NA&gt;</td>\n",
       "      <td>Sacramento</td>\n",
       "      <td>...</td>\n",
       "      <td>M</td>\n",
       "      <td>January Quarterly Report</td>\n",
       "      <td>Friends Of Wesley Bell</td>\n",
       "      <td>Candidate</td>\n",
       "      <td>Active</td>\n",
       "      <td>1</td>\n",
       "      <td>1</td>\n",
       "      <td>1</td>\n",
       "      <td>4</td>\n",
       "      <td>2</td>\n",
       "    </tr>\n",
       "  </tbody>\n",
       "</table>\n",
       "<p>3 rows × 26 columns</p>\n",
       "</div>"
      ],
      "text/plain": [
       "  cd1_a_id    mecid          committee_name committee company first_name  \\\n",
       "0  1256570  A151115  Friends Of Wesley Bell      <NA>    <NA>     Jerome   \n",
       "1  1256571  A151115  Friends Of Wesley Bell      <NA>    <NA>        Max   \n",
       "2  1256572  A151115  Friends Of Wesley Bell      <NA>    <NA>     Duncan   \n",
       "\n",
       "  last_name               address_1 address_2        city  ...  \\\n",
       "0    Husgen     200 Cabellero Drive      <NA>     Ballwin  ...   \n",
       "1  Micallef  735 Anderson Hill Road      <NA>    Purchase  ...   \n",
       "2     Smith        2342 Granite Way      <NA>  Sacramento  ...   \n",
       "\n",
       "  contribution_type                    report           committeename  \\\n",
       "0                 M  January Quarterly Report  Friends Of Wesley Bell   \n",
       "1                 M  January Quarterly Report  Friends Of Wesley Bell   \n",
       "2                 M  January Quarterly Report  Friends Of Wesley Bell   \n",
       "\n",
       "   comm_type comm_status  candidate_fname candidate_mname candidate_lname  \\\n",
       "0  Candidate      Active                1               1               1   \n",
       "1  Candidate      Active                1               1               1   \n",
       "2  Candidate      Active                1               1               1   \n",
       "\n",
       "  electiondate office_sought  \n",
       "0            4             2  \n",
       "1            4             2  \n",
       "2            4             2  \n",
       "\n",
       "[3 rows x 26 columns]"
      ]
     },
     "execution_count": 133,
     "metadata": {},
     "output_type": "execute_result"
    }
   ],
   "source": [
    "no_pacs_received_2020.head(3)"
   ]
  },
  {
   "cell_type": "code",
   "execution_count": 134,
   "metadata": {},
   "outputs": [
    {
     "data": {
      "text/html": [
       "<div>\n",
       "<style scoped>\n",
       "    .dataframe tbody tr th:only-of-type {\n",
       "        vertical-align: middle;\n",
       "    }\n",
       "\n",
       "    .dataframe tbody tr th {\n",
       "        vertical-align: top;\n",
       "    }\n",
       "\n",
       "    .dataframe thead th {\n",
       "        text-align: right;\n",
       "    }\n",
       "</style>\n",
       "<table border=\"1\" class=\"dataframe\">\n",
       "  <thead>\n",
       "    <tr style=\"text-align: right;\">\n",
       "      <th></th>\n",
       "      <th>cd1_a_id</th>\n",
       "      <th>mecid</th>\n",
       "      <th>committee_name</th>\n",
       "      <th>committee</th>\n",
       "      <th>company</th>\n",
       "      <th>first_name</th>\n",
       "      <th>last_name</th>\n",
       "      <th>address_1</th>\n",
       "      <th>address_2</th>\n",
       "      <th>city</th>\n",
       "      <th>...</th>\n",
       "      <th>contribution_type</th>\n",
       "      <th>report</th>\n",
       "      <th>committeename</th>\n",
       "      <th>comm_type</th>\n",
       "      <th>comm_status</th>\n",
       "      <th>candidate_fname</th>\n",
       "      <th>candidate_mname</th>\n",
       "      <th>candidate_lname</th>\n",
       "      <th>electiondate</th>\n",
       "      <th>office_sought</th>\n",
       "    </tr>\n",
       "  </thead>\n",
       "  <tbody>\n",
       "    <tr>\n",
       "      <th>36025</th>\n",
       "      <td>1440204</td>\n",
       "      <td>C190918</td>\n",
       "      <td>Missourians for Healthcare</td>\n",
       "      <td>&lt;NA&gt;</td>\n",
       "      <td>North Fund</td>\n",
       "      <td>&lt;NA&gt;</td>\n",
       "      <td>&lt;NA&gt;</td>\n",
       "      <td>1101 Connecticut Ave NW Suite 450</td>\n",
       "      <td>&lt;NA&gt;</td>\n",
       "      <td>Washington</td>\n",
       "      <td>...</td>\n",
       "      <td>M</td>\n",
       "      <td>8 Day Before Primary Election-8/4/2020</td>\n",
       "      <td>Missourians for Healthcare</td>\n",
       "      <td>Campaign</td>\n",
       "      <td>Active</td>\n",
       "      <td>1</td>\n",
       "      <td>1</td>\n",
       "      <td>1</td>\n",
       "      <td>1</td>\n",
       "      <td>1</td>\n",
       "    </tr>\n",
       "    <tr>\n",
       "      <th>35971</th>\n",
       "      <td>1402368</td>\n",
       "      <td>C190918</td>\n",
       "      <td>Missourians for Healthcare</td>\n",
       "      <td>&lt;NA&gt;</td>\n",
       "      <td>Health Forward Foundation</td>\n",
       "      <td>&lt;NA&gt;</td>\n",
       "      <td>&lt;NA&gt;</td>\n",
       "      <td>2300 Main Street Suite 304</td>\n",
       "      <td>&lt;NA&gt;</td>\n",
       "      <td>Kansas City</td>\n",
       "      <td>...</td>\n",
       "      <td>M</td>\n",
       "      <td>July Quarterly Report</td>\n",
       "      <td>Missourians for Healthcare</td>\n",
       "      <td>Campaign</td>\n",
       "      <td>Active</td>\n",
       "      <td>1</td>\n",
       "      <td>1</td>\n",
       "      <td>1</td>\n",
       "      <td>1</td>\n",
       "      <td>1</td>\n",
       "    </tr>\n",
       "    <tr>\n",
       "      <th>36032</th>\n",
       "      <td>1440211</td>\n",
       "      <td>C190918</td>\n",
       "      <td>Missourians for Healthcare</td>\n",
       "      <td>&lt;NA&gt;</td>\n",
       "      <td>Missouri Hospital Association</td>\n",
       "      <td>&lt;NA&gt;</td>\n",
       "      <td>&lt;NA&gt;</td>\n",
       "      <td>PO Box 60</td>\n",
       "      <td>&lt;NA&gt;</td>\n",
       "      <td>Jefferson City</td>\n",
       "      <td>...</td>\n",
       "      <td>M</td>\n",
       "      <td>8 Day Before Primary Election-8/4/2020</td>\n",
       "      <td>Missourians for Healthcare</td>\n",
       "      <td>Campaign</td>\n",
       "      <td>Active</td>\n",
       "      <td>1</td>\n",
       "      <td>1</td>\n",
       "      <td>1</td>\n",
       "      <td>1</td>\n",
       "      <td>1</td>\n",
       "    </tr>\n",
       "  </tbody>\n",
       "</table>\n",
       "<p>3 rows × 26 columns</p>\n",
       "</div>"
      ],
      "text/plain": [
       "      cd1_a_id    mecid              committee_name committee  \\\n",
       "36025  1440204  C190918  Missourians for Healthcare      <NA>   \n",
       "35971  1402368  C190918  Missourians for Healthcare      <NA>   \n",
       "36032  1440211  C190918  Missourians for Healthcare      <NA>   \n",
       "\n",
       "                             company first_name last_name  \\\n",
       "36025                     North Fund       <NA>      <NA>   \n",
       "35971      Health Forward Foundation       <NA>      <NA>   \n",
       "36032  Missouri Hospital Association       <NA>      <NA>   \n",
       "\n",
       "                               address_1 address_2            city  ...  \\\n",
       "36025  1101 Connecticut Ave NW Suite 450      <NA>      Washington  ...   \n",
       "35971         2300 Main Street Suite 304      <NA>     Kansas City  ...   \n",
       "36032                          PO Box 60      <NA>  Jefferson City  ...   \n",
       "\n",
       "      contribution_type                                  report  \\\n",
       "36025                 M  8 Day Before Primary Election-8/4/2020   \n",
       "35971                 M                   July Quarterly Report   \n",
       "36032                 M  8 Day Before Primary Election-8/4/2020   \n",
       "\n",
       "                    committeename comm_type comm_status  candidate_fname  \\\n",
       "36025  Missourians for Healthcare  Campaign      Active                1   \n",
       "35971  Missourians for Healthcare  Campaign      Active                1   \n",
       "36032  Missourians for Healthcare  Campaign      Active                1   \n",
       "\n",
       "      candidate_mname candidate_lname electiondate office_sought  \n",
       "36025               1               1            1             1  \n",
       "35971               1               1            1             1  \n",
       "36032               1               1            1             1  \n",
       "\n",
       "[3 rows x 26 columns]"
      ]
     },
     "execution_count": 134,
     "metadata": {},
     "output_type": "execute_result"
    }
   ],
   "source": [
    "no_pacs_received_2020.sort_values('amount', ascending=False).head(3)"
   ]
  },
  {
   "cell_type": "code",
   "execution_count": 135,
   "metadata": {},
   "outputs": [
    {
     "data": {
      "text/plain": [
       "state\n",
       "WA    50314.37\n",
       "WI     8261.78\n",
       "WV     3060.10\n",
       "WY     1427.70\n",
       "XX      110.00\n",
       "Name: amount, dtype: float64"
      ]
     },
     "execution_count": 135,
     "metadata": {},
     "output_type": "execute_result"
    }
   ],
   "source": [
    "no_pacs_received_2020.groupby(['state']).amount.sum().tail(5)"
   ]
  },
  {
   "cell_type": "markdown",
   "metadata": {},
   "source": [
    "...then with candidate committees. I'm less interested in small vs. large donations for candidates because many of them have limits anyway. "
   ]
  },
  {
   "cell_type": "code",
   "execution_count": 136,
   "metadata": {},
   "outputs": [],
   "source": [
    "candidates_received_2020 = received_commtype_2020[received_commtype_2020.comm_type == 'Candidate']"
   ]
  },
  {
   "cell_type": "code",
   "execution_count": 137,
   "metadata": {},
   "outputs": [
    {
     "data": {
      "text/html": [
       "<div>\n",
       "<style scoped>\n",
       "    .dataframe tbody tr th:only-of-type {\n",
       "        vertical-align: middle;\n",
       "    }\n",
       "\n",
       "    .dataframe tbody tr th {\n",
       "        vertical-align: top;\n",
       "    }\n",
       "\n",
       "    .dataframe thead th {\n",
       "        text-align: right;\n",
       "    }\n",
       "</style>\n",
       "<table border=\"1\" class=\"dataframe\">\n",
       "  <thead>\n",
       "    <tr style=\"text-align: right;\">\n",
       "      <th></th>\n",
       "      <th>cd1_a_id</th>\n",
       "      <th>mecid</th>\n",
       "      <th>committee_name</th>\n",
       "      <th>committee</th>\n",
       "      <th>company</th>\n",
       "      <th>first_name</th>\n",
       "      <th>last_name</th>\n",
       "      <th>address_1</th>\n",
       "      <th>address_2</th>\n",
       "      <th>city</th>\n",
       "      <th>...</th>\n",
       "      <th>contribution_type</th>\n",
       "      <th>report</th>\n",
       "      <th>committeename</th>\n",
       "      <th>comm_type</th>\n",
       "      <th>comm_status</th>\n",
       "      <th>candidate_fname</th>\n",
       "      <th>candidate_mname</th>\n",
       "      <th>candidate_lname</th>\n",
       "      <th>electiondate</th>\n",
       "      <th>office_sought</th>\n",
       "    </tr>\n",
       "  </thead>\n",
       "  <tbody>\n",
       "    <tr>\n",
       "      <th>0</th>\n",
       "      <td>1256570</td>\n",
       "      <td>A151115</td>\n",
       "      <td>Friends Of Wesley Bell</td>\n",
       "      <td>&lt;NA&gt;</td>\n",
       "      <td>&lt;NA&gt;</td>\n",
       "      <td>Jerome</td>\n",
       "      <td>Husgen</td>\n",
       "      <td>200 Cabellero Drive</td>\n",
       "      <td>&lt;NA&gt;</td>\n",
       "      <td>Ballwin</td>\n",
       "      <td>...</td>\n",
       "      <td>M</td>\n",
       "      <td>January Quarterly Report</td>\n",
       "      <td>Friends Of Wesley Bell</td>\n",
       "      <td>Candidate</td>\n",
       "      <td>Active</td>\n",
       "      <td>1</td>\n",
       "      <td>1</td>\n",
       "      <td>1</td>\n",
       "      <td>4</td>\n",
       "      <td>2</td>\n",
       "    </tr>\n",
       "    <tr>\n",
       "      <th>1</th>\n",
       "      <td>1256571</td>\n",
       "      <td>A151115</td>\n",
       "      <td>Friends Of Wesley Bell</td>\n",
       "      <td>&lt;NA&gt;</td>\n",
       "      <td>&lt;NA&gt;</td>\n",
       "      <td>Max</td>\n",
       "      <td>Micallef</td>\n",
       "      <td>735 Anderson Hill Road</td>\n",
       "      <td>&lt;NA&gt;</td>\n",
       "      <td>Purchase</td>\n",
       "      <td>...</td>\n",
       "      <td>M</td>\n",
       "      <td>January Quarterly Report</td>\n",
       "      <td>Friends Of Wesley Bell</td>\n",
       "      <td>Candidate</td>\n",
       "      <td>Active</td>\n",
       "      <td>1</td>\n",
       "      <td>1</td>\n",
       "      <td>1</td>\n",
       "      <td>4</td>\n",
       "      <td>2</td>\n",
       "    </tr>\n",
       "    <tr>\n",
       "      <th>2</th>\n",
       "      <td>1256572</td>\n",
       "      <td>A151115</td>\n",
       "      <td>Friends Of Wesley Bell</td>\n",
       "      <td>&lt;NA&gt;</td>\n",
       "      <td>&lt;NA&gt;</td>\n",
       "      <td>Duncan</td>\n",
       "      <td>Smith</td>\n",
       "      <td>2342 Granite Way</td>\n",
       "      <td>&lt;NA&gt;</td>\n",
       "      <td>Sacramento</td>\n",
       "      <td>...</td>\n",
       "      <td>M</td>\n",
       "      <td>January Quarterly Report</td>\n",
       "      <td>Friends Of Wesley Bell</td>\n",
       "      <td>Candidate</td>\n",
       "      <td>Active</td>\n",
       "      <td>1</td>\n",
       "      <td>1</td>\n",
       "      <td>1</td>\n",
       "      <td>4</td>\n",
       "      <td>2</td>\n",
       "    </tr>\n",
       "    <tr>\n",
       "      <th>3</th>\n",
       "      <td>1256573</td>\n",
       "      <td>A151115</td>\n",
       "      <td>Friends Of Wesley Bell</td>\n",
       "      <td>&lt;NA&gt;</td>\n",
       "      <td>&lt;NA&gt;</td>\n",
       "      <td>Vanita</td>\n",
       "      <td>Mishra</td>\n",
       "      <td>29 Woodlawn Drive</td>\n",
       "      <td>&lt;NA&gt;</td>\n",
       "      <td>New Ulm</td>\n",
       "      <td>...</td>\n",
       "      <td>M</td>\n",
       "      <td>January Quarterly Report</td>\n",
       "      <td>Friends Of Wesley Bell</td>\n",
       "      <td>Candidate</td>\n",
       "      <td>Active</td>\n",
       "      <td>1</td>\n",
       "      <td>1</td>\n",
       "      <td>1</td>\n",
       "      <td>4</td>\n",
       "      <td>2</td>\n",
       "    </tr>\n",
       "    <tr>\n",
       "      <th>4</th>\n",
       "      <td>1257056</td>\n",
       "      <td>A151115</td>\n",
       "      <td>Friends Of Wesley Bell</td>\n",
       "      <td>&lt;NA&gt;</td>\n",
       "      <td>&lt;NA&gt;</td>\n",
       "      <td>Christopher</td>\n",
       "      <td>Meyers</td>\n",
       "      <td>7617 Jerome Avenue</td>\n",
       "      <td>&lt;NA&gt;</td>\n",
       "      <td>Maplewood</td>\n",
       "      <td>...</td>\n",
       "      <td>M</td>\n",
       "      <td>January Quarterly Report</td>\n",
       "      <td>Friends Of Wesley Bell</td>\n",
       "      <td>Candidate</td>\n",
       "      <td>Active</td>\n",
       "      <td>1</td>\n",
       "      <td>1</td>\n",
       "      <td>1</td>\n",
       "      <td>4</td>\n",
       "      <td>2</td>\n",
       "    </tr>\n",
       "  </tbody>\n",
       "</table>\n",
       "<p>5 rows × 26 columns</p>\n",
       "</div>"
      ],
      "text/plain": [
       "  cd1_a_id    mecid          committee_name committee company   first_name  \\\n",
       "0  1256570  A151115  Friends Of Wesley Bell      <NA>    <NA>       Jerome   \n",
       "1  1256571  A151115  Friends Of Wesley Bell      <NA>    <NA>          Max   \n",
       "2  1256572  A151115  Friends Of Wesley Bell      <NA>    <NA>       Duncan   \n",
       "3  1256573  A151115  Friends Of Wesley Bell      <NA>    <NA>       Vanita   \n",
       "4  1257056  A151115  Friends Of Wesley Bell      <NA>    <NA>  Christopher   \n",
       "\n",
       "  last_name               address_1 address_2        city  ...  \\\n",
       "0    Husgen     200 Cabellero Drive      <NA>     Ballwin  ...   \n",
       "1  Micallef  735 Anderson Hill Road      <NA>    Purchase  ...   \n",
       "2     Smith        2342 Granite Way      <NA>  Sacramento  ...   \n",
       "3    Mishra       29 Woodlawn Drive      <NA>     New Ulm  ...   \n",
       "4    Meyers      7617 Jerome Avenue      <NA>   Maplewood  ...   \n",
       "\n",
       "  contribution_type                    report           committeename  \\\n",
       "0                 M  January Quarterly Report  Friends Of Wesley Bell   \n",
       "1                 M  January Quarterly Report  Friends Of Wesley Bell   \n",
       "2                 M  January Quarterly Report  Friends Of Wesley Bell   \n",
       "3                 M  January Quarterly Report  Friends Of Wesley Bell   \n",
       "4                 M  January Quarterly Report  Friends Of Wesley Bell   \n",
       "\n",
       "   comm_type comm_status  candidate_fname candidate_mname candidate_lname  \\\n",
       "0  Candidate      Active                1               1               1   \n",
       "1  Candidate      Active                1               1               1   \n",
       "2  Candidate      Active                1               1               1   \n",
       "3  Candidate      Active                1               1               1   \n",
       "4  Candidate      Active                1               1               1   \n",
       "\n",
       "  electiondate office_sought  \n",
       "0            4             2  \n",
       "1            4             2  \n",
       "2            4             2  \n",
       "3            4             2  \n",
       "4            4             2  \n",
       "\n",
       "[5 rows x 26 columns]"
      ]
     },
     "execution_count": 137,
     "metadata": {},
     "output_type": "execute_result"
    }
   ],
   "source": [
    "candidates_received_2020.head(5)"
   ]
  },
  {
   "cell_type": "code",
   "execution_count": 138,
   "metadata": {},
   "outputs": [
    {
     "data": {
      "text/html": [
       "<div>\n",
       "<style scoped>\n",
       "    .dataframe tbody tr th:only-of-type {\n",
       "        vertical-align: middle;\n",
       "    }\n",
       "\n",
       "    .dataframe tbody tr th {\n",
       "        vertical-align: top;\n",
       "    }\n",
       "\n",
       "    .dataframe thead th {\n",
       "        text-align: right;\n",
       "    }\n",
       "</style>\n",
       "<table border=\"1\" class=\"dataframe\">\n",
       "  <thead>\n",
       "    <tr style=\"text-align: right;\">\n",
       "      <th></th>\n",
       "      <th>cd1_a_id</th>\n",
       "      <th>mecid</th>\n",
       "      <th>committee_name</th>\n",
       "      <th>committee</th>\n",
       "      <th>company</th>\n",
       "      <th>first_name</th>\n",
       "      <th>last_name</th>\n",
       "      <th>address_1</th>\n",
       "      <th>address_2</th>\n",
       "      <th>city</th>\n",
       "      <th>...</th>\n",
       "      <th>contribution_type</th>\n",
       "      <th>report</th>\n",
       "      <th>committeename</th>\n",
       "      <th>comm_type</th>\n",
       "      <th>comm_status</th>\n",
       "      <th>candidate_fname</th>\n",
       "      <th>candidate_mname</th>\n",
       "      <th>candidate_lname</th>\n",
       "      <th>electiondate</th>\n",
       "      <th>office_sought</th>\n",
       "    </tr>\n",
       "  </thead>\n",
       "  <tbody>\n",
       "    <tr>\n",
       "      <th>193943</th>\n",
       "      <td>1436970</td>\n",
       "      <td>C121334</td>\n",
       "      <td>Citizens To Elect Kimberly Gardner</td>\n",
       "      <td>Missouri Justice &amp; Public Safety PAC</td>\n",
       "      <td>&lt;NA&gt;</td>\n",
       "      <td>&lt;NA&gt;</td>\n",
       "      <td>&lt;NA&gt;</td>\n",
       "      <td>700 13th St. NW Ste 800</td>\n",
       "      <td>&lt;NA&gt;</td>\n",
       "      <td>Washington</td>\n",
       "      <td>...</td>\n",
       "      <td>I</td>\n",
       "      <td>July Quarterly Report</td>\n",
       "      <td>Citizens To Elect Kimberly Gardner</td>\n",
       "      <td>Candidate</td>\n",
       "      <td>Active</td>\n",
       "      <td>1</td>\n",
       "      <td>1</td>\n",
       "      <td>1</td>\n",
       "      <td>8</td>\n",
       "      <td>2</td>\n",
       "    </tr>\n",
       "    <tr>\n",
       "      <th>27196</th>\n",
       "      <td>1450029</td>\n",
       "      <td>C191045</td>\n",
       "      <td>Terry Dotson for Cass County Sheriff</td>\n",
       "      <td>&lt;NA&gt;</td>\n",
       "      <td>&lt;NA&gt;</td>\n",
       "      <td>Robert</td>\n",
       "      <td>Cutler</td>\n",
       "      <td>10955 Granada Lane</td>\n",
       "      <td>&lt;NA&gt;</td>\n",
       "      <td>Overland Park</td>\n",
       "      <td>...</td>\n",
       "      <td>M</td>\n",
       "      <td>8 Day Before Primary Election-8/4/2020</td>\n",
       "      <td>Terry Dotson for Cass County Sheriff</td>\n",
       "      <td>Candidate</td>\n",
       "      <td>Active</td>\n",
       "      <td>1</td>\n",
       "      <td>1</td>\n",
       "      <td>1</td>\n",
       "      <td>1</td>\n",
       "      <td>1</td>\n",
       "    </tr>\n",
       "    <tr>\n",
       "      <th>185495</th>\n",
       "      <td>1524117</td>\n",
       "      <td>C191065</td>\n",
       "      <td>David Lenihan for Senate.com</td>\n",
       "      <td>&lt;NA&gt;</td>\n",
       "      <td>&lt;NA&gt;</td>\n",
       "      <td>David</td>\n",
       "      <td>Lenihan</td>\n",
       "      <td>19 Kings Crossing Ct</td>\n",
       "      <td>&lt;NA&gt;</td>\n",
       "      <td>Saint Louis</td>\n",
       "      <td>...</td>\n",
       "      <td>I</td>\n",
       "      <td>8 Day Before General Election-11/3/2020</td>\n",
       "      <td>David Lenihan for Senate.com</td>\n",
       "      <td>Candidate</td>\n",
       "      <td>Active</td>\n",
       "      <td>1</td>\n",
       "      <td>1</td>\n",
       "      <td>1</td>\n",
       "      <td>2</td>\n",
       "      <td>1</td>\n",
       "    </tr>\n",
       "    <tr>\n",
       "      <th>34736</th>\n",
       "      <td>1505113</td>\n",
       "      <td>C190913</td>\n",
       "      <td>Michelle Sherod for St. Louis</td>\n",
       "      <td>&lt;NA&gt;</td>\n",
       "      <td>&lt;NA&gt;</td>\n",
       "      <td>Michelle</td>\n",
       "      <td>Sherod</td>\n",
       "      <td>4005 McRee</td>\n",
       "      <td>4005 McRee</td>\n",
       "      <td>St Louis</td>\n",
       "      <td>...</td>\n",
       "      <td>I</td>\n",
       "      <td>Termination</td>\n",
       "      <td>Michelle Sherod for St. Louis</td>\n",
       "      <td>Candidate</td>\n",
       "      <td>Active</td>\n",
       "      <td>1</td>\n",
       "      <td>1</td>\n",
       "      <td>1</td>\n",
       "      <td>1</td>\n",
       "      <td>1</td>\n",
       "    </tr>\n",
       "    <tr>\n",
       "      <th>188677</th>\n",
       "      <td>1337747</td>\n",
       "      <td>C201147</td>\n",
       "      <td>Friends of Keen</td>\n",
       "      <td>&lt;NA&gt;</td>\n",
       "      <td>&lt;NA&gt;</td>\n",
       "      <td>Jamie</td>\n",
       "      <td>Keen</td>\n",
       "      <td>205 T-Box Drive</td>\n",
       "      <td>&lt;NA&gt;</td>\n",
       "      <td>Saint Clair</td>\n",
       "      <td>...</td>\n",
       "      <td>M</td>\n",
       "      <td>April Quarterly Report</td>\n",
       "      <td>Friends of Keen</td>\n",
       "      <td>Candidate</td>\n",
       "      <td>Terminated</td>\n",
       "      <td>1</td>\n",
       "      <td>1</td>\n",
       "      <td>1</td>\n",
       "      <td>1</td>\n",
       "      <td>1</td>\n",
       "    </tr>\n",
       "  </tbody>\n",
       "</table>\n",
       "<p>5 rows × 26 columns</p>\n",
       "</div>"
      ],
      "text/plain": [
       "       cd1_a_id    mecid                        committee_name  \\\n",
       "193943  1436970  C121334    Citizens To Elect Kimberly Gardner   \n",
       "27196   1450029  C191045  Terry Dotson for Cass County Sheriff   \n",
       "185495  1524117  C191065          David Lenihan for Senate.com   \n",
       "34736   1505113  C190913         Michelle Sherod for St. Louis   \n",
       "188677  1337747  C201147                       Friends of Keen   \n",
       "\n",
       "                                    committee company first_name last_name  \\\n",
       "193943  Missouri Justice & Public Safety PAC     <NA>       <NA>      <NA>   \n",
       "27196                                    <NA>    <NA>     Robert    Cutler   \n",
       "185495                                   <NA>    <NA>      David   Lenihan   \n",
       "34736                                    <NA>    <NA>   Michelle    Sherod   \n",
       "188677                                   <NA>    <NA>      Jamie      Keen   \n",
       "\n",
       "                      address_1   address_2           city  ...  \\\n",
       "193943  700 13th St. NW Ste 800        <NA>    Washington   ...   \n",
       "27196        10955 Granada Lane        <NA>  Overland Park  ...   \n",
       "185495     19 Kings Crossing Ct        <NA>    Saint Louis  ...   \n",
       "34736                4005 McRee  4005 McRee       St Louis  ...   \n",
       "188677          205 T-Box Drive        <NA>    Saint Clair  ...   \n",
       "\n",
       "       contribution_type                                   report  \\\n",
       "193943                 I                    July Quarterly Report   \n",
       "27196                  M   8 Day Before Primary Election-8/4/2020   \n",
       "185495                 I  8 Day Before General Election-11/3/2020   \n",
       "34736                  I                              Termination   \n",
       "188677                 M                   April Quarterly Report   \n",
       "\n",
       "                               committeename  comm_type comm_status  \\\n",
       "193943    Citizens To Elect Kimberly Gardner  Candidate      Active   \n",
       "27196   Terry Dotson for Cass County Sheriff  Candidate      Active   \n",
       "185495          David Lenihan for Senate.com  Candidate      Active   \n",
       "34736          Michelle Sherod for St. Louis  Candidate      Active   \n",
       "188677                       Friends of Keen  Candidate  Terminated   \n",
       "\n",
       "        candidate_fname candidate_mname candidate_lname electiondate  \\\n",
       "193943                1               1               1            8   \n",
       "27196                 1               1               1            1   \n",
       "185495                1               1               1            2   \n",
       "34736                 1               1               1            1   \n",
       "188677                1               1               1            1   \n",
       "\n",
       "       office_sought  \n",
       "193943             2  \n",
       "27196              1  \n",
       "185495             1  \n",
       "34736              1  \n",
       "188677             1  \n",
       "\n",
       "[5 rows x 26 columns]"
      ]
     },
     "execution_count": 138,
     "metadata": {},
     "output_type": "execute_result"
    }
   ],
   "source": [
    "candidates_received_2020.sort_values('amount', ascending=False).head(5)"
   ]
  },
  {
   "cell_type": "code",
   "execution_count": 139,
   "metadata": {},
   "outputs": [
    {
     "data": {
      "text/plain": [
       "state\n",
       "WA    46227.37\n",
       "WI     8261.78\n",
       "WV      810.10\n",
       "WY     1427.70\n",
       "XX      110.00\n",
       "Name: amount, dtype: float64"
      ]
     },
     "execution_count": 139,
     "metadata": {},
     "output_type": "execute_result"
    }
   ],
   "source": [
    "candidates_received_2020.groupby(['state']).amount.sum().tail(5)"
   ]
  },
  {
   "cell_type": "code",
   "execution_count": 140,
   "metadata": {},
   "outputs": [],
   "source": [
    "candidates_received_2020_large = candidates_received_2020[candidates_received_2020.amount > 2650]"
   ]
  },
  {
   "cell_type": "code",
   "execution_count": 141,
   "metadata": {},
   "outputs": [
    {
     "data": {
      "text/html": [
       "<div>\n",
       "<style scoped>\n",
       "    .dataframe tbody tr th:only-of-type {\n",
       "        vertical-align: middle;\n",
       "    }\n",
       "\n",
       "    .dataframe tbody tr th {\n",
       "        vertical-align: top;\n",
       "    }\n",
       "\n",
       "    .dataframe thead th {\n",
       "        text-align: right;\n",
       "    }\n",
       "</style>\n",
       "<table border=\"1\" class=\"dataframe\">\n",
       "  <thead>\n",
       "    <tr style=\"text-align: right;\">\n",
       "      <th></th>\n",
       "      <th>cd1_a_id</th>\n",
       "      <th>mecid</th>\n",
       "      <th>committee_name</th>\n",
       "      <th>committee</th>\n",
       "      <th>company</th>\n",
       "      <th>first_name</th>\n",
       "      <th>last_name</th>\n",
       "      <th>address_1</th>\n",
       "      <th>address_2</th>\n",
       "      <th>city</th>\n",
       "      <th>...</th>\n",
       "      <th>contribution_type</th>\n",
       "      <th>report</th>\n",
       "      <th>committeename</th>\n",
       "      <th>comm_type</th>\n",
       "      <th>comm_status</th>\n",
       "      <th>candidate_fname</th>\n",
       "      <th>candidate_mname</th>\n",
       "      <th>candidate_lname</th>\n",
       "      <th>electiondate</th>\n",
       "      <th>office_sought</th>\n",
       "    </tr>\n",
       "  </thead>\n",
       "  <tbody>\n",
       "    <tr>\n",
       "      <th>1484</th>\n",
       "      <td>1487826</td>\n",
       "      <td>C091155</td>\n",
       "      <td>Citizens To Elect Mike Kehoe</td>\n",
       "      <td>&lt;NA&gt;</td>\n",
       "      <td>&lt;NA&gt;</td>\n",
       "      <td>Brenda</td>\n",
       "      <td>Kolb</td>\n",
       "      <td>2227 Saddle Brook Lake Rd.</td>\n",
       "      <td>&lt;NA&gt;</td>\n",
       "      <td>Lohman</td>\n",
       "      <td>...</td>\n",
       "      <td>M</td>\n",
       "      <td>October Quarterly Report</td>\n",
       "      <td>Citizens To Elect Mike Kehoe</td>\n",
       "      <td>Candidate</td>\n",
       "      <td>Active</td>\n",
       "      <td>1</td>\n",
       "      <td>1</td>\n",
       "      <td>1</td>\n",
       "      <td>6</td>\n",
       "      <td>2</td>\n",
       "    </tr>\n",
       "    <tr>\n",
       "      <th>1485</th>\n",
       "      <td>1487828</td>\n",
       "      <td>C091155</td>\n",
       "      <td>Citizens To Elect Mike Kehoe</td>\n",
       "      <td>&lt;NA&gt;</td>\n",
       "      <td>&lt;NA&gt;</td>\n",
       "      <td>Thomas</td>\n",
       "      <td>Kolb</td>\n",
       "      <td>2227 Saddle Brook Lake Rd.</td>\n",
       "      <td>&lt;NA&gt;</td>\n",
       "      <td>Lohman</td>\n",
       "      <td>...</td>\n",
       "      <td>M</td>\n",
       "      <td>October Quarterly Report</td>\n",
       "      <td>Citizens To Elect Mike Kehoe</td>\n",
       "      <td>Candidate</td>\n",
       "      <td>Active</td>\n",
       "      <td>1</td>\n",
       "      <td>1</td>\n",
       "      <td>1</td>\n",
       "      <td>6</td>\n",
       "      <td>2</td>\n",
       "    </tr>\n",
       "    <tr>\n",
       "      <th>2371</th>\n",
       "      <td>1380573</td>\n",
       "      <td>A190799</td>\n",
       "      <td>Citizens for Sheriff Harrell</td>\n",
       "      <td>&lt;NA&gt;</td>\n",
       "      <td>&lt;NA&gt;</td>\n",
       "      <td>Deborah</td>\n",
       "      <td>Harrell</td>\n",
       "      <td>130 Kipling Court</td>\n",
       "      <td>130 Kipling Court</td>\n",
       "      <td>Troy</td>\n",
       "      <td>...</td>\n",
       "      <td>M</td>\n",
       "      <td>July Quarterly Report</td>\n",
       "      <td>Citizens for Sheriff Harrell</td>\n",
       "      <td>Candidate</td>\n",
       "      <td>Active</td>\n",
       "      <td>1</td>\n",
       "      <td>1</td>\n",
       "      <td>1</td>\n",
       "      <td>2</td>\n",
       "      <td>1</td>\n",
       "    </tr>\n",
       "    <tr>\n",
       "      <th>2471</th>\n",
       "      <td>1426258</td>\n",
       "      <td>A190799</td>\n",
       "      <td>Citizens for Sheriff Harrell</td>\n",
       "      <td>&lt;NA&gt;</td>\n",
       "      <td>BL Holdings</td>\n",
       "      <td>&lt;NA&gt;</td>\n",
       "      <td>&lt;NA&gt;</td>\n",
       "      <td>150 Locust</td>\n",
       "      <td>&lt;NA&gt;</td>\n",
       "      <td>Old Monroe</td>\n",
       "      <td>...</td>\n",
       "      <td>I</td>\n",
       "      <td>8 Day Before Primary Election-8/4/2020</td>\n",
       "      <td>Citizens for Sheriff Harrell</td>\n",
       "      <td>Candidate</td>\n",
       "      <td>Active</td>\n",
       "      <td>1</td>\n",
       "      <td>1</td>\n",
       "      <td>1</td>\n",
       "      <td>2</td>\n",
       "      <td>1</td>\n",
       "    </tr>\n",
       "    <tr>\n",
       "      <th>2474</th>\n",
       "      <td>1426268</td>\n",
       "      <td>A190799</td>\n",
       "      <td>Citizens for Sheriff Harrell</td>\n",
       "      <td>&lt;NA&gt;</td>\n",
       "      <td>BL Holdings</td>\n",
       "      <td>&lt;NA&gt;</td>\n",
       "      <td>&lt;NA&gt;</td>\n",
       "      <td>150 Locust</td>\n",
       "      <td>150 Locust</td>\n",
       "      <td>Old Monroe</td>\n",
       "      <td>...</td>\n",
       "      <td>I</td>\n",
       "      <td>8 Day Before Primary Election-8/4/2020</td>\n",
       "      <td>Citizens for Sheriff Harrell</td>\n",
       "      <td>Candidate</td>\n",
       "      <td>Active</td>\n",
       "      <td>1</td>\n",
       "      <td>1</td>\n",
       "      <td>1</td>\n",
       "      <td>2</td>\n",
       "      <td>1</td>\n",
       "    </tr>\n",
       "    <tr>\n",
       "      <th>...</th>\n",
       "      <td>...</td>\n",
       "      <td>...</td>\n",
       "      <td>...</td>\n",
       "      <td>...</td>\n",
       "      <td>...</td>\n",
       "      <td>...</td>\n",
       "      <td>...</td>\n",
       "      <td>...</td>\n",
       "      <td>...</td>\n",
       "      <td>...</td>\n",
       "      <td>...</td>\n",
       "      <td>...</td>\n",
       "      <td>...</td>\n",
       "      <td>...</td>\n",
       "      <td>...</td>\n",
       "      <td>...</td>\n",
       "      <td>...</td>\n",
       "      <td>...</td>\n",
       "      <td>...</td>\n",
       "      <td>...</td>\n",
       "      <td>...</td>\n",
       "    </tr>\n",
       "    <tr>\n",
       "      <th>205131</th>\n",
       "      <td>1490463</td>\n",
       "      <td>A201539</td>\n",
       "      <td>Committee to Re-Elect Nancy Jo Jennings</td>\n",
       "      <td>Johnson County Republican Central Committee</td>\n",
       "      <td>&lt;NA&gt;</td>\n",
       "      <td>&lt;NA&gt;</td>\n",
       "      <td>&lt;NA&gt;</td>\n",
       "      <td>1083 NE 625</td>\n",
       "      <td>&lt;NA&gt;</td>\n",
       "      <td>Knob Noster</td>\n",
       "      <td>...</td>\n",
       "      <td>M</td>\n",
       "      <td>October Quarterly Report</td>\n",
       "      <td>Committee to Re-Elect Nancy Jo Jennings</td>\n",
       "      <td>Candidate</td>\n",
       "      <td>Active</td>\n",
       "      <td>1</td>\n",
       "      <td>1</td>\n",
       "      <td>1</td>\n",
       "      <td>1</td>\n",
       "      <td>1</td>\n",
       "    </tr>\n",
       "    <tr>\n",
       "      <th>205418</th>\n",
       "      <td>1498918</td>\n",
       "      <td>A201536</td>\n",
       "      <td>Friends &amp; Supporters of Kevin Bond</td>\n",
       "      <td>Pettis County Republican Committee</td>\n",
       "      <td>&lt;NA&gt;</td>\n",
       "      <td>&lt;NA&gt;</td>\n",
       "      <td>&lt;NA&gt;</td>\n",
       "      <td>23529 Anderson School Road</td>\n",
       "      <td>&lt;NA&gt;</td>\n",
       "      <td>Sedalia</td>\n",
       "      <td>...</td>\n",
       "      <td>M</td>\n",
       "      <td>October Quarterly Report</td>\n",
       "      <td>Friends &amp; Supporters of Kevin Bond</td>\n",
       "      <td>Candidate</td>\n",
       "      <td>Active</td>\n",
       "      <td>1</td>\n",
       "      <td>1</td>\n",
       "      <td>1</td>\n",
       "      <td>1</td>\n",
       "      <td>1</td>\n",
       "    </tr>\n",
       "    <tr>\n",
       "      <th>205603</th>\n",
       "      <td>1502029</td>\n",
       "      <td>C201465</td>\n",
       "      <td>Bondon For Missouri</td>\n",
       "      <td>Bondon For Missouri</td>\n",
       "      <td>&lt;NA&gt;</td>\n",
       "      <td>&lt;NA&gt;</td>\n",
       "      <td>&lt;NA&gt;</td>\n",
       "      <td>PO Box 203</td>\n",
       "      <td>&lt;NA&gt;</td>\n",
       "      <td>Belton</td>\n",
       "      <td>...</td>\n",
       "      <td>M</td>\n",
       "      <td>October Quarterly Report</td>\n",
       "      <td>Bondon For Missouri</td>\n",
       "      <td>Candidate</td>\n",
       "      <td>Active</td>\n",
       "      <td>1</td>\n",
       "      <td>1</td>\n",
       "      <td>1</td>\n",
       "      <td>1</td>\n",
       "      <td>1</td>\n",
       "    </tr>\n",
       "    <tr>\n",
       "      <th>205706</th>\n",
       "      <td>1503205</td>\n",
       "      <td>A201564</td>\n",
       "      <td>Committee to Elect Cindy Thompson</td>\n",
       "      <td>&lt;NA&gt;</td>\n",
       "      <td>&lt;NA&gt;</td>\n",
       "      <td>Cindy</td>\n",
       "      <td>Thompson</td>\n",
       "      <td>PO BOx 114</td>\n",
       "      <td>&lt;NA&gt;</td>\n",
       "      <td>Nevada</td>\n",
       "      <td>...</td>\n",
       "      <td>M</td>\n",
       "      <td>October Quarterly Report</td>\n",
       "      <td>Committee to Elect Cindy Thompson</td>\n",
       "      <td>Candidate</td>\n",
       "      <td>Active</td>\n",
       "      <td>1</td>\n",
       "      <td>1</td>\n",
       "      <td>1</td>\n",
       "      <td>1</td>\n",
       "      <td>1</td>\n",
       "    </tr>\n",
       "    <tr>\n",
       "      <th>205997</th>\n",
       "      <td>1522970</td>\n",
       "      <td>A201529</td>\n",
       "      <td>Committee to elect Hershel Shipman Sheriff</td>\n",
       "      <td>&lt;NA&gt;</td>\n",
       "      <td>&lt;NA&gt;</td>\n",
       "      <td>Hershel</td>\n",
       "      <td>Shipman</td>\n",
       "      <td>1005 Sunrise Lane</td>\n",
       "      <td>&lt;NA&gt;</td>\n",
       "      <td>Ironton</td>\n",
       "      <td>...</td>\n",
       "      <td>M</td>\n",
       "      <td>October Quarterly Report</td>\n",
       "      <td>Committee to elect Hershel Shipman Sheriff</td>\n",
       "      <td>Candidate</td>\n",
       "      <td>Active</td>\n",
       "      <td>1</td>\n",
       "      <td>1</td>\n",
       "      <td>1</td>\n",
       "      <td>1</td>\n",
       "      <td>1</td>\n",
       "    </tr>\n",
       "  </tbody>\n",
       "</table>\n",
       "<p>278 rows × 26 columns</p>\n",
       "</div>"
      ],
      "text/plain": [
       "       cd1_a_id    mecid                              committee_name  \\\n",
       "1484    1487826  C091155                Citizens To Elect Mike Kehoe   \n",
       "1485    1487828  C091155                Citizens To Elect Mike Kehoe   \n",
       "2371    1380573  A190799                Citizens for Sheriff Harrell   \n",
       "2471    1426258  A190799                Citizens for Sheriff Harrell   \n",
       "2474    1426268  A190799                Citizens for Sheriff Harrell   \n",
       "...         ...      ...                                         ...   \n",
       "205131  1490463  A201539     Committee to Re-Elect Nancy Jo Jennings   \n",
       "205418  1498918  A201536          Friends & Supporters of Kevin Bond   \n",
       "205603  1502029  C201465                         Bondon For Missouri   \n",
       "205706  1503205  A201564           Committee to Elect Cindy Thompson   \n",
       "205997  1522970  A201529  Committee to elect Hershel Shipman Sheriff   \n",
       "\n",
       "                                          committee      company first_name  \\\n",
       "1484                                           <NA>         <NA>     Brenda   \n",
       "1485                                           <NA>         <NA>     Thomas   \n",
       "2371                                           <NA>         <NA>    Deborah   \n",
       "2471                                           <NA>  BL Holdings       <NA>   \n",
       "2474                                           <NA>  BL Holdings       <NA>   \n",
       "...                                             ...          ...        ...   \n",
       "205131  Johnson County Republican Central Committee         <NA>       <NA>   \n",
       "205418           Pettis County Republican Committee         <NA>       <NA>   \n",
       "205603                          Bondon For Missouri         <NA>       <NA>   \n",
       "205706                                         <NA>         <NA>      Cindy   \n",
       "205997                                         <NA>         <NA>   Hershel    \n",
       "\n",
       "       last_name                   address_1          address_2         city  \\\n",
       "1484        Kolb  2227 Saddle Brook Lake Rd.               <NA>       Lohman   \n",
       "1485        Kolb  2227 Saddle Brook Lake Rd.               <NA>       Lohman   \n",
       "2371     Harrell           130 Kipling Court  130 Kipling Court         Troy   \n",
       "2471        <NA>                  150 Locust               <NA>  Old Monroe    \n",
       "2474        <NA>                  150 Locust         150 Locust   Old Monroe   \n",
       "...          ...                         ...                ...          ...   \n",
       "205131      <NA>                 1083 NE 625               <NA>  Knob Noster   \n",
       "205418      <NA>  23529 Anderson School Road               <NA>      Sedalia   \n",
       "205603      <NA>                 PO Box 203                <NA>       Belton   \n",
       "205706  Thompson                  PO BOx 114               <NA>       Nevada   \n",
       "205997   Shipman           1005 Sunrise Lane               <NA>      Ironton   \n",
       "\n",
       "        ... contribution_type                                  report  \\\n",
       "1484    ...                 M                October Quarterly Report   \n",
       "1485    ...                 M                October Quarterly Report   \n",
       "2371    ...                 M                   July Quarterly Report   \n",
       "2471    ...                 I  8 Day Before Primary Election-8/4/2020   \n",
       "2474    ...                 I  8 Day Before Primary Election-8/4/2020   \n",
       "...     ...               ...                                     ...   \n",
       "205131  ...                 M                October Quarterly Report   \n",
       "205418  ...                 M                October Quarterly Report   \n",
       "205603  ...                 M                October Quarterly Report   \n",
       "205706  ...                 M                October Quarterly Report   \n",
       "205997  ...                 M                October Quarterly Report   \n",
       "\n",
       "                                     committeename  comm_type comm_status  \\\n",
       "1484                  Citizens To Elect Mike Kehoe  Candidate      Active   \n",
       "1485                  Citizens To Elect Mike Kehoe  Candidate      Active   \n",
       "2371                  Citizens for Sheriff Harrell  Candidate      Active   \n",
       "2471                  Citizens for Sheriff Harrell  Candidate      Active   \n",
       "2474                  Citizens for Sheriff Harrell  Candidate      Active   \n",
       "...                                            ...        ...         ...   \n",
       "205131     Committee to Re-Elect Nancy Jo Jennings  Candidate      Active   \n",
       "205418          Friends & Supporters of Kevin Bond  Candidate      Active   \n",
       "205603                         Bondon For Missouri  Candidate      Active   \n",
       "205706           Committee to Elect Cindy Thompson  Candidate      Active   \n",
       "205997  Committee to elect Hershel Shipman Sheriff  Candidate      Active   \n",
       "\n",
       "        candidate_fname candidate_mname candidate_lname electiondate  \\\n",
       "1484                  1               1               1            6   \n",
       "1485                  1               1               1            6   \n",
       "2371                  1               1               1            2   \n",
       "2471                  1               1               1            2   \n",
       "2474                  1               1               1            2   \n",
       "...                 ...             ...             ...          ...   \n",
       "205131                1               1               1            1   \n",
       "205418                1               1               1            1   \n",
       "205603                1               1               1            1   \n",
       "205706                1               1               1            1   \n",
       "205997                1               1               1            1   \n",
       "\n",
       "       office_sought  \n",
       "1484               2  \n",
       "1485               2  \n",
       "2371               1  \n",
       "2471               1  \n",
       "2474               1  \n",
       "...              ...  \n",
       "205131             1  \n",
       "205418             1  \n",
       "205603             1  \n",
       "205706             1  \n",
       "205997             1  \n",
       "\n",
       "[278 rows x 26 columns]"
      ]
     },
     "execution_count": 141,
     "metadata": {},
     "output_type": "execute_result"
    }
   ],
   "source": [
    "candidates_received_2020_large"
   ]
  },
  {
   "cell_type": "markdown",
   "metadata": {},
   "source": [
    "Now that I think about it, why are there candidates with contributions over 2,650? I pulled the csv to look at it more. It seems like many are running for local offices that don't have limits, though there are a couple that seem suspicious (Kejoe and committees with \"Senate\" or \"House\" in the title.)"
   ]
  },
  {
   "cell_type": "code",
   "execution_count": 142,
   "metadata": {},
   "outputs": [],
   "source": [
    "candidates_received_2020_large.to_csv(\"too_big_donations.csv\", index=False)"
   ]
  },
  {
   "cell_type": "markdown",
   "metadata": {},
   "source": [
    "What can I learn about expenditures? I have to bring in yet another csv, same steps as before. Also merging with the committee list again, comparing by committee type and filtering for PACs. "
   ]
  },
  {
   "cell_type": "code",
   "execution_count": 143,
   "metadata": {},
   "outputs": [],
   "source": [
    "expenditures_data_types = {\n",
    "    \"CD3_B ID\": \"string\",\n",
    "    \"MECID\": \"string\",\n",
    "    \"Committee Name\": \"string\",\n",
    "    \"First Name\": \"string\",\n",
    "    \"Last Name\": \"string\",\n",
    "    \"Company\": \"string\",\n",
    "    \"Address 1\": \"string\",\n",
    "    \"Address 2\": \"string\",\n",
    "    \"City\": \"string\",\n",
    "    \"State\": \"string\",\n",
    "    \"Zip\": \"string\",\n",
    "    \"Date\": \"string\",\n",
    "    \"Purpose\": \"string\",\n",
    "    \"Amount\": \"float\",\n",
    "    \"Expenditure Type\": \"string\",\n",
    "    \"Report\": \"string\",\n",
    "}\n",
    "    \n",
    "    \n",
    "    "
   ]
  },
  {
   "cell_type": "code",
   "execution_count": 144,
   "metadata": {},
   "outputs": [],
   "source": [
    "expenditures_2020 = pd.read_csv(\"data/expenditures/11_23_2020.csv\", dtype=expenditures_data_types)"
   ]
  },
  {
   "cell_type": "code",
   "execution_count": 145,
   "metadata": {},
   "outputs": [],
   "source": [
    "expenditures_2020.columns = expenditures_2020.columns \\\n",
    "    .str.strip() \\\n",
    "    .str.lower() \\\n",
    "    .str.replace(' ', '_') \\\n",
    "    .str.replace('-', '_') \\\n",
    "    .str.replace('.', '') \\\n",
    "    .str.replace('/', '_')"
   ]
  },
  {
   "cell_type": "code",
   "execution_count": 146,
   "metadata": {},
   "outputs": [
    {
     "data": {
      "text/html": [
       "<div>\n",
       "<style scoped>\n",
       "    .dataframe tbody tr th:only-of-type {\n",
       "        vertical-align: middle;\n",
       "    }\n",
       "\n",
       "    .dataframe tbody tr th {\n",
       "        vertical-align: top;\n",
       "    }\n",
       "\n",
       "    .dataframe thead th {\n",
       "        text-align: right;\n",
       "    }\n",
       "</style>\n",
       "<table border=\"1\" class=\"dataframe\">\n",
       "  <thead>\n",
       "    <tr style=\"text-align: right;\">\n",
       "      <th></th>\n",
       "      <th>cd3_b_id</th>\n",
       "      <th>mecid</th>\n",
       "      <th>committee_name</th>\n",
       "      <th>first_name</th>\n",
       "      <th>last_name</th>\n",
       "      <th>company</th>\n",
       "      <th>address_1</th>\n",
       "      <th>address_2</th>\n",
       "      <th>city</th>\n",
       "      <th>state</th>\n",
       "      <th>zip</th>\n",
       "      <th>date</th>\n",
       "      <th>purpose</th>\n",
       "      <th>amount</th>\n",
       "      <th>expenditure_type</th>\n",
       "      <th>report</th>\n",
       "    </tr>\n",
       "  </thead>\n",
       "  <tbody>\n",
       "    <tr>\n",
       "      <th>0</th>\n",
       "      <td>379044</td>\n",
       "      <td>A151115</td>\n",
       "      <td>Friends Of Wesley Bell</td>\n",
       "      <td>&lt;NA&gt;</td>\n",
       "      <td>&lt;NA&gt;</td>\n",
       "      <td>CBTU</td>\n",
       "      <td>PO BOX 5034</td>\n",
       "      <td>&lt;NA&gt;</td>\n",
       "      <td>St Louis</td>\n",
       "      <td>MO</td>\n",
       "      <td>63115</td>\n",
       "      <td>10/15/2019 12:00:00 AM</td>\n",
       "      <td>Donation</td>\n",
       "      <td>180.00</td>\n",
       "      <td>P</td>\n",
       "      <td>January Quarterly Report</td>\n",
       "    </tr>\n",
       "    <tr>\n",
       "      <th>1</th>\n",
       "      <td>379045</td>\n",
       "      <td>A151115</td>\n",
       "      <td>Friends Of Wesley Bell</td>\n",
       "      <td>&lt;NA&gt;</td>\n",
       "      <td>&lt;NA&gt;</td>\n",
       "      <td>Maconite Scholarship</td>\n",
       "      <td>PO BOX 211446</td>\n",
       "      <td>&lt;NA&gt;</td>\n",
       "      <td>St Louis</td>\n",
       "      <td>MO</td>\n",
       "      <td>63121</td>\n",
       "      <td>10/15/2019 12:00:00 AM</td>\n",
       "      <td>Donation</td>\n",
       "      <td>100.00</td>\n",
       "      <td>P</td>\n",
       "      <td>January Quarterly Report</td>\n",
       "    </tr>\n",
       "    <tr>\n",
       "      <th>2</th>\n",
       "      <td>379114</td>\n",
       "      <td>C151126</td>\n",
       "      <td>Roberts For St Louis</td>\n",
       "      <td>&lt;NA&gt;</td>\n",
       "      <td>&lt;NA&gt;</td>\n",
       "      <td>Missouri Democrat Party</td>\n",
       "      <td>4218 Roanoke Road #304</td>\n",
       "      <td>&lt;NA&gt;</td>\n",
       "      <td>Kansas City</td>\n",
       "      <td>MO</td>\n",
       "      <td>64111</td>\n",
       "      <td>10/7/2019 12:00:00 AM</td>\n",
       "      <td>VAN Access</td>\n",
       "      <td>1000.00</td>\n",
       "      <td>P</td>\n",
       "      <td>January Quarterly Report</td>\n",
       "    </tr>\n",
       "    <tr>\n",
       "      <th>3</th>\n",
       "      <td>379115</td>\n",
       "      <td>C151126</td>\n",
       "      <td>Roberts For St Louis</td>\n",
       "      <td>&lt;NA&gt;</td>\n",
       "      <td>&lt;NA&gt;</td>\n",
       "      <td>US Post Office</td>\n",
       "      <td>1720 Market</td>\n",
       "      <td>&lt;NA&gt;</td>\n",
       "      <td>St Louis</td>\n",
       "      <td>MO</td>\n",
       "      <td>63155</td>\n",
       "      <td>10/8/2019 12:00:00 AM</td>\n",
       "      <td>Postage</td>\n",
       "      <td>55.00</td>\n",
       "      <td>P</td>\n",
       "      <td>January Quarterly Report</td>\n",
       "    </tr>\n",
       "    <tr>\n",
       "      <th>4</th>\n",
       "      <td>379116</td>\n",
       "      <td>C151126</td>\n",
       "      <td>Roberts For St Louis</td>\n",
       "      <td>&lt;NA&gt;</td>\n",
       "      <td>&lt;NA&gt;</td>\n",
       "      <td>Mark's Quick Print</td>\n",
       "      <td>9567 Page Avenue</td>\n",
       "      <td>&lt;NA&gt;</td>\n",
       "      <td>St Louis</td>\n",
       "      <td>MO</td>\n",
       "      <td>63132</td>\n",
       "      <td>10/18/2019 12:00:00 AM</td>\n",
       "      <td>Printing</td>\n",
       "      <td>102.29</td>\n",
       "      <td>P</td>\n",
       "      <td>January Quarterly Report</td>\n",
       "    </tr>\n",
       "    <tr>\n",
       "      <th>...</th>\n",
       "      <td>...</td>\n",
       "      <td>...</td>\n",
       "      <td>...</td>\n",
       "      <td>...</td>\n",
       "      <td>...</td>\n",
       "      <td>...</td>\n",
       "      <td>...</td>\n",
       "      <td>...</td>\n",
       "      <td>...</td>\n",
       "      <td>...</td>\n",
       "      <td>...</td>\n",
       "      <td>...</td>\n",
       "      <td>...</td>\n",
       "      <td>...</td>\n",
       "      <td>...</td>\n",
       "      <td>...</td>\n",
       "    </tr>\n",
       "    <tr>\n",
       "      <th>35328</th>\n",
       "      <td>422970</td>\n",
       "      <td>A201368</td>\n",
       "      <td>Kater For Commissioner 2020</td>\n",
       "      <td>&lt;NA&gt;</td>\n",
       "      <td>R GILLIAM REAL ESTATE LLC</td>\n",
       "      <td>Richard Black, CPA, PC</td>\n",
       "      <td>PO Box 211</td>\n",
       "      <td>&lt;NA&gt;</td>\n",
       "      <td>Farmington</td>\n",
       "      <td>MO</td>\n",
       "      <td>63640</td>\n",
       "      <td>11/13/2020 12:00:00 AM</td>\n",
       "      <td>Accounting</td>\n",
       "      <td>434.78</td>\n",
       "      <td>P</td>\n",
       "      <td>30 Day After General Election-11/3/2020</td>\n",
       "    </tr>\n",
       "    <tr>\n",
       "      <th>35329</th>\n",
       "      <td>422971</td>\n",
       "      <td>A201368</td>\n",
       "      <td>Kater For Commissioner 2020</td>\n",
       "      <td>&lt;NA&gt;</td>\n",
       "      <td>&lt;NA&gt;</td>\n",
       "      <td>KFMO-B104</td>\n",
       "      <td>804 St Joe Drive</td>\n",
       "      <td>804 St Joe Drive</td>\n",
       "      <td>Park Hills</td>\n",
       "      <td>MO</td>\n",
       "      <td>63601</td>\n",
       "      <td>10/31/2020 12:00:00 AM</td>\n",
       "      <td>Advertising</td>\n",
       "      <td>390.00</td>\n",
       "      <td>P</td>\n",
       "      <td>30 Day After General Election-11/3/2020</td>\n",
       "    </tr>\n",
       "    <tr>\n",
       "      <th>35330</th>\n",
       "      <td>422982</td>\n",
       "      <td>A201587</td>\n",
       "      <td>Committee to Elect Steve Atkinson</td>\n",
       "      <td>&lt;NA&gt;</td>\n",
       "      <td>&lt;NA&gt;</td>\n",
       "      <td>sams club</td>\n",
       "      <td>101 conley rd</td>\n",
       "      <td>&lt;NA&gt;</td>\n",
       "      <td>columbia</td>\n",
       "      <td>MO</td>\n",
       "      <td>65201</td>\n",
       "      <td>10/28/2020 12:00:00 AM</td>\n",
       "      <td>candy for parade</td>\n",
       "      <td>197.65</td>\n",
       "      <td>P</td>\n",
       "      <td>Termination</td>\n",
       "    </tr>\n",
       "    <tr>\n",
       "      <th>35331</th>\n",
       "      <td>422983</td>\n",
       "      <td>A201587</td>\n",
       "      <td>Committee to Elect Steve Atkinson</td>\n",
       "      <td>&lt;NA&gt;</td>\n",
       "      <td>&lt;NA&gt;</td>\n",
       "      <td>party city</td>\n",
       "      <td>broadway</td>\n",
       "      <td>&lt;NA&gt;</td>\n",
       "      <td>columbia</td>\n",
       "      <td>MO</td>\n",
       "      <td>65201</td>\n",
       "      <td>10/28/2020 12:00:00 AM</td>\n",
       "      <td>candy decorations</td>\n",
       "      <td>106.60</td>\n",
       "      <td>P</td>\n",
       "      <td>Termination</td>\n",
       "    </tr>\n",
       "    <tr>\n",
       "      <th>35332</th>\n",
       "      <td>422984</td>\n",
       "      <td>A201587</td>\n",
       "      <td>Committee to Elect Steve Atkinson</td>\n",
       "      <td>&lt;NA&gt;</td>\n",
       "      <td>&lt;NA&gt;</td>\n",
       "      <td>Pizza Tree</td>\n",
       "      <td>909 cherry st</td>\n",
       "      <td>&lt;NA&gt;</td>\n",
       "      <td>columbia</td>\n",
       "      <td>MO</td>\n",
       "      <td>65201</td>\n",
       "      <td>10/31/2020 12:00:00 AM</td>\n",
       "      <td>feed helpers</td>\n",
       "      <td>106.52</td>\n",
       "      <td>P</td>\n",
       "      <td>Termination</td>\n",
       "    </tr>\n",
       "  </tbody>\n",
       "</table>\n",
       "<p>35333 rows × 16 columns</p>\n",
       "</div>"
      ],
      "text/plain": [
       "      cd3_b_id    mecid                     committee_name first_name  \\\n",
       "0       379044  A151115             Friends Of Wesley Bell       <NA>   \n",
       "1       379045  A151115             Friends Of Wesley Bell       <NA>   \n",
       "2       379114  C151126               Roberts For St Louis       <NA>   \n",
       "3       379115  C151126               Roberts For St Louis       <NA>   \n",
       "4       379116  C151126               Roberts For St Louis       <NA>   \n",
       "...        ...      ...                                ...        ...   \n",
       "35328   422970  A201368        Kater For Commissioner 2020       <NA>   \n",
       "35329   422971  A201368        Kater For Commissioner 2020       <NA>   \n",
       "35330   422982  A201587  Committee to Elect Steve Atkinson       <NA>   \n",
       "35331   422983  A201587  Committee to Elect Steve Atkinson       <NA>   \n",
       "35332   422984  A201587  Committee to Elect Steve Atkinson       <NA>   \n",
       "\n",
       "                       last_name                  company  \\\n",
       "0                           <NA>                     CBTU   \n",
       "1                           <NA>     Maconite Scholarship   \n",
       "2                           <NA>  Missouri Democrat Party   \n",
       "3                           <NA>           US Post Office   \n",
       "4                           <NA>       Mark's Quick Print   \n",
       "...                          ...                      ...   \n",
       "35328  R GILLIAM REAL ESTATE LLC   Richard Black, CPA, PC   \n",
       "35329                       <NA>                KFMO-B104   \n",
       "35330                       <NA>                sams club   \n",
       "35331                       <NA>               party city   \n",
       "35332                       <NA>               Pizza Tree   \n",
       "\n",
       "                    address_1         address_2         city state    zip  \\\n",
       "0                 PO BOX 5034              <NA>     St Louis    MO  63115   \n",
       "1               PO BOX 211446              <NA>     St Louis    MO  63121   \n",
       "2      4218 Roanoke Road #304              <NA>  Kansas City    MO  64111   \n",
       "3                 1720 Market              <NA>     St Louis    MO  63155   \n",
       "4            9567 Page Avenue              <NA>     St Louis    MO  63132   \n",
       "...                       ...               ...          ...   ...    ...   \n",
       "35328              PO Box 211              <NA>   Farmington    MO  63640   \n",
       "35329        804 St Joe Drive  804 St Joe Drive   Park Hills    MO  63601   \n",
       "35330           101 conley rd              <NA>     columbia    MO  65201   \n",
       "35331                broadway              <NA>     columbia    MO  65201   \n",
       "35332           909 cherry st              <NA>     columbia    MO  65201   \n",
       "\n",
       "                         date             purpose   amount expenditure_type  \\\n",
       "0      10/15/2019 12:00:00 AM            Donation   180.00                P   \n",
       "1      10/15/2019 12:00:00 AM            Donation   100.00                P   \n",
       "2       10/7/2019 12:00:00 AM          VAN Access  1000.00                P   \n",
       "3       10/8/2019 12:00:00 AM             Postage    55.00                P   \n",
       "4      10/18/2019 12:00:00 AM            Printing   102.29                P   \n",
       "...                       ...                 ...      ...              ...   \n",
       "35328  11/13/2020 12:00:00 AM          Accounting   434.78                P   \n",
       "35329  10/31/2020 12:00:00 AM         Advertising   390.00                P   \n",
       "35330  10/28/2020 12:00:00 AM    candy for parade   197.65                P   \n",
       "35331  10/28/2020 12:00:00 AM  candy decorations    106.60                P   \n",
       "35332  10/31/2020 12:00:00 AM        feed helpers   106.52                P   \n",
       "\n",
       "                                        report  \n",
       "0                     January Quarterly Report  \n",
       "1                     January Quarterly Report  \n",
       "2                     January Quarterly Report  \n",
       "3                     January Quarterly Report  \n",
       "4                     January Quarterly Report  \n",
       "...                                        ...  \n",
       "35328  30 Day After General Election-11/3/2020  \n",
       "35329  30 Day After General Election-11/3/2020  \n",
       "35330                              Termination  \n",
       "35331                              Termination  \n",
       "35332                              Termination  \n",
       "\n",
       "[35333 rows x 16 columns]"
      ]
     },
     "execution_count": 146,
     "metadata": {},
     "output_type": "execute_result"
    }
   ],
   "source": [
    "expenditures_2020"
   ]
  },
  {
   "cell_type": "code",
   "execution_count": 147,
   "metadata": {},
   "outputs": [],
   "source": [
    "expenditures_commtype_2020 = expenditures_2020.merge(by_mecid, on='mecid', validate='many_to_one')"
   ]
  },
  {
   "cell_type": "code",
   "execution_count": 148,
   "metadata": {},
   "outputs": [],
   "source": [
    "expenditures_commtype_2020.purpose = expenditures_commtype_2020.purpose.str.lower()"
   ]
  },
  {
   "cell_type": "code",
   "execution_count": 149,
   "metadata": {},
   "outputs": [
    {
     "data": {
      "text/plain": [
       "comm_type\n",
       "Campaign             9926209.80\n",
       "Candidate           38013182.25\n",
       "Debt Service          947978.82\n",
       "Political Action    66312029.66\n",
       "Political Party      2505314.68\n",
       "Name: amount, dtype: float64"
      ]
     },
     "execution_count": 149,
     "metadata": {},
     "output_type": "execute_result"
    }
   ],
   "source": [
    "expenditures_commtype_2020.groupby(by=['comm_type']).amount.sum()"
   ]
  },
  {
   "cell_type": "code",
   "execution_count": 150,
   "metadata": {},
   "outputs": [],
   "source": [
    "pacs_expenditures_2020 = expenditures_commtype_2020[expenditures_commtype_2020.comm_type == \"Political Action\"]"
   ]
  },
  {
   "cell_type": "code",
   "execution_count": 151,
   "metadata": {},
   "outputs": [
    {
     "data": {
      "text/html": [
       "<div>\n",
       "<style scoped>\n",
       "    .dataframe tbody tr th:only-of-type {\n",
       "        vertical-align: middle;\n",
       "    }\n",
       "\n",
       "    .dataframe tbody tr th {\n",
       "        vertical-align: top;\n",
       "    }\n",
       "\n",
       "    .dataframe thead th {\n",
       "        text-align: right;\n",
       "    }\n",
       "</style>\n",
       "<table border=\"1\" class=\"dataframe\">\n",
       "  <thead>\n",
       "    <tr style=\"text-align: right;\">\n",
       "      <th></th>\n",
       "      <th>index</th>\n",
       "      <th>cd3_b_id</th>\n",
       "      <th>mecid</th>\n",
       "      <th>committee_name</th>\n",
       "      <th>first_name</th>\n",
       "      <th>last_name</th>\n",
       "      <th>company</th>\n",
       "      <th>address_1</th>\n",
       "      <th>address_2</th>\n",
       "      <th>city</th>\n",
       "      <th>...</th>\n",
       "      <th>expenditure_type</th>\n",
       "      <th>report</th>\n",
       "      <th>committeename</th>\n",
       "      <th>comm_type</th>\n",
       "      <th>comm_status</th>\n",
       "      <th>candidate_fname</th>\n",
       "      <th>candidate_mname</th>\n",
       "      <th>candidate_lname</th>\n",
       "      <th>electiondate</th>\n",
       "      <th>office_sought</th>\n",
       "    </tr>\n",
       "  </thead>\n",
       "  <tbody>\n",
       "    <tr>\n",
       "      <th>0</th>\n",
       "      <td>871</td>\n",
       "      <td>379800</td>\n",
       "      <td>C101515</td>\n",
       "      <td>Lincoln County Democrat Club</td>\n",
       "      <td>&lt;NA&gt;</td>\n",
       "      <td>&lt;NA&gt;</td>\n",
       "      <td>Lincoln County Fairgrounds</td>\n",
       "      <td>#1 Fairgrounds Circle</td>\n",
       "      <td>&lt;NA&gt;</td>\n",
       "      <td>Troy</td>\n",
       "      <td>...</td>\n",
       "      <td>P</td>\n",
       "      <td>January Quarterly Report</td>\n",
       "      <td>Lincoln County Democrat Club</td>\n",
       "      <td>Political Action</td>\n",
       "      <td>Active</td>\n",
       "      <td>1</td>\n",
       "      <td>1</td>\n",
       "      <td>1</td>\n",
       "      <td>1</td>\n",
       "      <td>1</td>\n",
       "    </tr>\n",
       "    <tr>\n",
       "      <th>1</th>\n",
       "      <td>872</td>\n",
       "      <td>379801</td>\n",
       "      <td>C101515</td>\n",
       "      <td>Lincoln County Democrat Club</td>\n",
       "      <td>&lt;NA&gt;</td>\n",
       "      <td>&lt;NA&gt;</td>\n",
       "      <td>Elsberry FFA</td>\n",
       "      <td>138</td>\n",
       "      <td>Tomahawk Dr</td>\n",
       "      <td>Elsberry</td>\n",
       "      <td>...</td>\n",
       "      <td>P</td>\n",
       "      <td>January Quarterly Report</td>\n",
       "      <td>Lincoln County Democrat Club</td>\n",
       "      <td>Political Action</td>\n",
       "      <td>Active</td>\n",
       "      <td>1</td>\n",
       "      <td>1</td>\n",
       "      <td>1</td>\n",
       "      <td>1</td>\n",
       "      <td>1</td>\n",
       "    </tr>\n",
       "    <tr>\n",
       "      <th>2</th>\n",
       "      <td>873</td>\n",
       "      <td>379802</td>\n",
       "      <td>C101515</td>\n",
       "      <td>Lincoln County Democrat Club</td>\n",
       "      <td>&lt;NA&gt;</td>\n",
       "      <td>&lt;NA&gt;</td>\n",
       "      <td>Buzzy Liquor</td>\n",
       "      <td>208 North Lincon Dr</td>\n",
       "      <td>&lt;NA&gt;</td>\n",
       "      <td>Troy</td>\n",
       "      <td>...</td>\n",
       "      <td>P</td>\n",
       "      <td>January Quarterly Report</td>\n",
       "      <td>Lincoln County Democrat Club</td>\n",
       "      <td>Political Action</td>\n",
       "      <td>Active</td>\n",
       "      <td>1</td>\n",
       "      <td>1</td>\n",
       "      <td>1</td>\n",
       "      <td>1</td>\n",
       "      <td>1</td>\n",
       "    </tr>\n",
       "    <tr>\n",
       "      <th>3</th>\n",
       "      <td>874</td>\n",
       "      <td>379803</td>\n",
       "      <td>C101515</td>\n",
       "      <td>Lincoln County Democrat Club</td>\n",
       "      <td>&lt;NA&gt;</td>\n",
       "      <td>&lt;NA&gt;</td>\n",
       "      <td>One Call Now</td>\n",
       "      <td>6450</td>\n",
       "      <td>POE Avenue Suite 500</td>\n",
       "      <td>Dayton</td>\n",
       "      <td>...</td>\n",
       "      <td>P</td>\n",
       "      <td>January Quarterly Report</td>\n",
       "      <td>Lincoln County Democrat Club</td>\n",
       "      <td>Political Action</td>\n",
       "      <td>Active</td>\n",
       "      <td>1</td>\n",
       "      <td>1</td>\n",
       "      <td>1</td>\n",
       "      <td>1</td>\n",
       "      <td>1</td>\n",
       "    </tr>\n",
       "    <tr>\n",
       "      <th>4</th>\n",
       "      <td>875</td>\n",
       "      <td>379887</td>\n",
       "      <td>C101515</td>\n",
       "      <td>Lincoln County Democrat Club</td>\n",
       "      <td>&lt;NA&gt;</td>\n",
       "      <td>&lt;NA&gt;</td>\n",
       "      <td>Lincoln County Fairgrounds</td>\n",
       "      <td>#1 Fairgrounds Circle</td>\n",
       "      <td>&lt;NA&gt;</td>\n",
       "      <td>Troy</td>\n",
       "      <td>...</td>\n",
       "      <td>P</td>\n",
       "      <td>January Quarterly Report</td>\n",
       "      <td>Lincoln County Democrat Club</td>\n",
       "      <td>Political Action</td>\n",
       "      <td>Active</td>\n",
       "      <td>1</td>\n",
       "      <td>1</td>\n",
       "      <td>1</td>\n",
       "      <td>1</td>\n",
       "      <td>1</td>\n",
       "    </tr>\n",
       "    <tr>\n",
       "      <th>...</th>\n",
       "      <td>...</td>\n",
       "      <td>...</td>\n",
       "      <td>...</td>\n",
       "      <td>...</td>\n",
       "      <td>...</td>\n",
       "      <td>...</td>\n",
       "      <td>...</td>\n",
       "      <td>...</td>\n",
       "      <td>...</td>\n",
       "      <td>...</td>\n",
       "      <td>...</td>\n",
       "      <td>...</td>\n",
       "      <td>...</td>\n",
       "      <td>...</td>\n",
       "      <td>...</td>\n",
       "      <td>...</td>\n",
       "      <td>...</td>\n",
       "      <td>...</td>\n",
       "      <td>...</td>\n",
       "      <td>...</td>\n",
       "      <td>...</td>\n",
       "    </tr>\n",
       "    <tr>\n",
       "      <th>6007</th>\n",
       "      <td>35297</td>\n",
       "      <td>421951</td>\n",
       "      <td>C201410</td>\n",
       "      <td>Northwest Missouri Leadership PAC</td>\n",
       "      <td>&lt;NA&gt;</td>\n",
       "      <td>&lt;NA&gt;</td>\n",
       "      <td>MO-PAC Compliance</td>\n",
       "      <td>PO Box 52</td>\n",
       "      <td>&lt;NA&gt;</td>\n",
       "      <td>Jefferson City</td>\n",
       "      <td>...</td>\n",
       "      <td>P</td>\n",
       "      <td>8 Day Before General Election-11/3/2020</td>\n",
       "      <td>Northwest Missouri Leadership PAC</td>\n",
       "      <td>Political Action</td>\n",
       "      <td>Active</td>\n",
       "      <td>1</td>\n",
       "      <td>1</td>\n",
       "      <td>1</td>\n",
       "      <td>1</td>\n",
       "      <td>1</td>\n",
       "    </tr>\n",
       "    <tr>\n",
       "      <th>6008</th>\n",
       "      <td>35303</td>\n",
       "      <td>422330</td>\n",
       "      <td>C171160</td>\n",
       "      <td>JCDC Truman PAC</td>\n",
       "      <td>Patrick</td>\n",
       "      <td>Shami</td>\n",
       "      <td>TJP Strategies</td>\n",
       "      <td>1124 NE Contry Ln</td>\n",
       "      <td>&lt;NA&gt;</td>\n",
       "      <td>Lees Summit</td>\n",
       "      <td>...</td>\n",
       "      <td>I</td>\n",
       "      <td>24 Hour Expenditure Report-11/3/2020 General</td>\n",
       "      <td>JCDC Truman PAC</td>\n",
       "      <td>Political Action</td>\n",
       "      <td>Active</td>\n",
       "      <td>1</td>\n",
       "      <td>1</td>\n",
       "      <td>1</td>\n",
       "      <td>1</td>\n",
       "      <td>1</td>\n",
       "    </tr>\n",
       "    <tr>\n",
       "      <th>6009</th>\n",
       "      <td>35306</td>\n",
       "      <td>422372</td>\n",
       "      <td>C201476</td>\n",
       "      <td>Missourians for Fair Courts</td>\n",
       "      <td>&lt;NA&gt;</td>\n",
       "      <td>&lt;NA&gt;</td>\n",
       "      <td>Milman Research &amp; Consulting LLC</td>\n",
       "      <td>14716 Top Sergeant Lane</td>\n",
       "      <td>&lt;NA&gt;</td>\n",
       "      <td>Centreville</td>\n",
       "      <td>...</td>\n",
       "      <td>P</td>\n",
       "      <td>24 Hour Expenditure Report-11/3/2020 General</td>\n",
       "      <td>Missourians for Fair Courts</td>\n",
       "      <td>Political Action</td>\n",
       "      <td>Active</td>\n",
       "      <td>1</td>\n",
       "      <td>1</td>\n",
       "      <td>1</td>\n",
       "      <td>1</td>\n",
       "      <td>1</td>\n",
       "    </tr>\n",
       "    <tr>\n",
       "      <th>6010</th>\n",
       "      <td>35309</td>\n",
       "      <td>422381</td>\n",
       "      <td>C010081</td>\n",
       "      <td>MO CHAMBER PAC</td>\n",
       "      <td>&lt;NA&gt;</td>\n",
       "      <td>&lt;NA&gt;</td>\n",
       "      <td>DDI</td>\n",
       "      <td>8315 Drury Industrial Parkway</td>\n",
       "      <td>&lt;NA&gt;</td>\n",
       "      <td>St Louis</td>\n",
       "      <td>...</td>\n",
       "      <td>P</td>\n",
       "      <td>24 Hour Expenditure Report-11/3/2020 General</td>\n",
       "      <td>MO Chamber PAC</td>\n",
       "      <td>Political Action</td>\n",
       "      <td>Active</td>\n",
       "      <td>1</td>\n",
       "      <td>1</td>\n",
       "      <td>1</td>\n",
       "      <td>1</td>\n",
       "      <td>1</td>\n",
       "    </tr>\n",
       "    <tr>\n",
       "      <th>6011</th>\n",
       "      <td>35314</td>\n",
       "      <td>422468</td>\n",
       "      <td>C180642</td>\n",
       "      <td>International Union of Painters &amp; Allied Trade...</td>\n",
       "      <td>&lt;NA&gt;</td>\n",
       "      <td>&lt;NA&gt;</td>\n",
       "      <td>Missouri AFL-CIO</td>\n",
       "      <td>227 Jefferson Street</td>\n",
       "      <td>&lt;NA&gt;</td>\n",
       "      <td>Jefferson City</td>\n",
       "      <td>...</td>\n",
       "      <td>P</td>\n",
       "      <td>24 Hour Expenditure Report-11/3/2020 General</td>\n",
       "      <td>International Union of Painters &amp; Allied Trade...</td>\n",
       "      <td>Political Action</td>\n",
       "      <td>Active</td>\n",
       "      <td>1</td>\n",
       "      <td>1</td>\n",
       "      <td>1</td>\n",
       "      <td>1</td>\n",
       "      <td>1</td>\n",
       "    </tr>\n",
       "  </tbody>\n",
       "</table>\n",
       "<p>6012 rows × 25 columns</p>\n",
       "</div>"
      ],
      "text/plain": [
       "      index cd3_b_id    mecid  \\\n",
       "0       871   379800  C101515   \n",
       "1       872   379801  C101515   \n",
       "2       873   379802  C101515   \n",
       "3       874   379803  C101515   \n",
       "4       875   379887  C101515   \n",
       "...     ...      ...      ...   \n",
       "6007  35297   421951  C201410   \n",
       "6008  35303   422330  C171160   \n",
       "6009  35306   422372  C201476   \n",
       "6010  35309   422381  C010081   \n",
       "6011  35314   422468  C180642   \n",
       "\n",
       "                                         committee_name first_name last_name  \\\n",
       "0                          Lincoln County Democrat Club       <NA>      <NA>   \n",
       "1                          Lincoln County Democrat Club       <NA>      <NA>   \n",
       "2                          Lincoln County Democrat Club       <NA>      <NA>   \n",
       "3                          Lincoln County Democrat Club       <NA>      <NA>   \n",
       "4                          Lincoln County Democrat Club       <NA>      <NA>   \n",
       "...                                                 ...        ...       ...   \n",
       "6007                  Northwest Missouri Leadership PAC       <NA>      <NA>   \n",
       "6008                                    JCDC Truman PAC    Patrick     Shami   \n",
       "6009                        Missourians for Fair Courts       <NA>      <NA>   \n",
       "6010                                     MO CHAMBER PAC       <NA>      <NA>   \n",
       "6011  International Union of Painters & Allied Trade...       <NA>      <NA>   \n",
       "\n",
       "                               company                      address_1  \\\n",
       "0           Lincoln County Fairgrounds          #1 Fairgrounds Circle   \n",
       "1                         Elsberry FFA                            138   \n",
       "2                         Buzzy Liquor            208 North Lincon Dr   \n",
       "3                         One Call Now                           6450   \n",
       "4           Lincoln County Fairgrounds          #1 Fairgrounds Circle   \n",
       "...                                ...                            ...   \n",
       "6007                 MO-PAC Compliance                      PO Box 52   \n",
       "6008                    TJP Strategies              1124 NE Contry Ln   \n",
       "6009  Milman Research & Consulting LLC        14716 Top Sergeant Lane   \n",
       "6010                               DDI  8315 Drury Industrial Parkway   \n",
       "6011                  Missouri AFL-CIO           227 Jefferson Street   \n",
       "\n",
       "                 address_2            city  ... expenditure_type  \\\n",
       "0                     <NA>            Troy  ...                P   \n",
       "1              Tomahawk Dr        Elsberry  ...                P   \n",
       "2                     <NA>            Troy  ...                P   \n",
       "3     POE Avenue Suite 500          Dayton  ...                P   \n",
       "4                     <NA>            Troy  ...                P   \n",
       "...                    ...             ...  ...              ...   \n",
       "6007                  <NA>  Jefferson City  ...                P   \n",
       "6008                  <NA>     Lees Summit  ...                I   \n",
       "6009                  <NA>     Centreville  ...                P   \n",
       "6010                  <NA>        St Louis  ...                P   \n",
       "6011                  <NA>  Jefferson City  ...                P   \n",
       "\n",
       "                                            report  \\\n",
       "0                         January Quarterly Report   \n",
       "1                         January Quarterly Report   \n",
       "2                         January Quarterly Report   \n",
       "3                         January Quarterly Report   \n",
       "4                         January Quarterly Report   \n",
       "...                                            ...   \n",
       "6007       8 Day Before General Election-11/3/2020   \n",
       "6008  24 Hour Expenditure Report-11/3/2020 General   \n",
       "6009  24 Hour Expenditure Report-11/3/2020 General   \n",
       "6010  24 Hour Expenditure Report-11/3/2020 General   \n",
       "6011  24 Hour Expenditure Report-11/3/2020 General   \n",
       "\n",
       "                                          committeename         comm_type  \\\n",
       "0                          Lincoln County Democrat Club  Political Action   \n",
       "1                          Lincoln County Democrat Club  Political Action   \n",
       "2                          Lincoln County Democrat Club  Political Action   \n",
       "3                          Lincoln County Democrat Club  Political Action   \n",
       "4                          Lincoln County Democrat Club  Political Action   \n",
       "...                                                 ...               ...   \n",
       "6007                  Northwest Missouri Leadership PAC  Political Action   \n",
       "6008                                    JCDC Truman PAC  Political Action   \n",
       "6009                        Missourians for Fair Courts  Political Action   \n",
       "6010                                     MO Chamber PAC  Political Action   \n",
       "6011  International Union of Painters & Allied Trade...  Political Action   \n",
       "\n",
       "      comm_status candidate_fname candidate_mname candidate_lname  \\\n",
       "0          Active               1               1               1   \n",
       "1          Active               1               1               1   \n",
       "2          Active               1               1               1   \n",
       "3          Active               1               1               1   \n",
       "4          Active               1               1               1   \n",
       "...           ...             ...             ...             ...   \n",
       "6007       Active               1               1               1   \n",
       "6008       Active               1               1               1   \n",
       "6009       Active               1               1               1   \n",
       "6010       Active               1               1               1   \n",
       "6011       Active               1               1               1   \n",
       "\n",
       "     electiondate office_sought  \n",
       "0               1             1  \n",
       "1               1             1  \n",
       "2               1             1  \n",
       "3               1             1  \n",
       "4               1             1  \n",
       "...           ...           ...  \n",
       "6007            1             1  \n",
       "6008            1             1  \n",
       "6009            1             1  \n",
       "6010            1             1  \n",
       "6011            1             1  \n",
       "\n",
       "[6012 rows x 25 columns]"
      ]
     },
     "execution_count": 151,
     "metadata": {},
     "output_type": "execute_result"
    }
   ],
   "source": [
    "pacs_expenditures_2020.reset_index()"
   ]
  },
  {
   "cell_type": "markdown",
   "metadata": {},
   "source": [
    "These seem the hardest to analyze in a meaningful way. Grouping by purpose, there are 1739 different purposes listed for spending by PACs. "
   ]
  },
  {
   "cell_type": "code",
   "execution_count": 152,
   "metadata": {},
   "outputs": [
    {
     "data": {
      "text/plain": [
       "campaign worker         443\n",
       "accounting fees         132\n",
       "advertising             132\n",
       "consulting              107\n",
       "printing                100\n",
       "                       ... \n",
       "campaign worke            1\n",
       "direct mail campaign      1\n",
       "speaker travel            1\n",
       "vip dinner                1\n",
       "paid phones               1\n",
       "Name: purpose, Length: 1739, dtype: Int64"
      ]
     },
     "execution_count": 152,
     "metadata": {},
     "output_type": "execute_result"
    }
   ],
   "source": [
    "pacs_expenditures_2020.purpose.value_counts()"
   ]
  },
  {
   "cell_type": "code",
   "execution_count": 153,
   "metadata": {},
   "outputs": [],
   "source": [
    "pacs_expenditures_2020.purpose.value_counts().to_csv(\"pac.csv\", index=False)"
   ]
  },
  {
   "cell_type": "code",
   "execution_count": 154,
   "metadata": {},
   "outputs": [
    {
     "data": {
      "text/plain": [
       "66312029.66"
      ]
     },
     "execution_count": 154,
     "metadata": {},
     "output_type": "execute_result"
    }
   ],
   "source": [
    "pacs_expenditures_2020.amount.sum()"
   ]
  },
  {
   "cell_type": "code",
   "execution_count": 155,
   "metadata": {},
   "outputs": [
    {
     "ename": "SyntaxError",
     "evalue": "invalid syntax (<ipython-input-155-5fdb0e282797>, line 1)",
     "output_type": "error",
     "traceback": [
      "\u001b[0;36m  File \u001b[0;32m\"<ipython-input-155-5fdb0e282797>\"\u001b[0;36m, line \u001b[0;32m1\u001b[0m\n\u001b[0;31m    These are the PACs that spent the most money.\u001b[0m\n\u001b[0m          ^\u001b[0m\n\u001b[0;31mSyntaxError\u001b[0m\u001b[0;31m:\u001b[0m invalid syntax\n"
     ]
    }
   ],
   "source": [
    "These are the PACs that spent the most money. "
   ]
  },
  {
   "cell_type": "code",
   "execution_count": null,
   "metadata": {},
   "outputs": [],
   "source": [
    "biggest_pac_spenders = pacs_expenditures_2020.groupby(by=['committee_name']).amount.sum().reset_index()"
   ]
  },
  {
   "cell_type": "code",
   "execution_count": null,
   "metadata": {},
   "outputs": [],
   "source": [
    "biggest_pac_spenders.sort_values('amount', ascending=False).head(10)"
   ]
  },
  {
   "cell_type": "markdown",
   "metadata": {},
   "source": [
    "Where do PACs spend their money?"
   ]
  },
  {
   "cell_type": "code",
   "execution_count": null,
   "metadata": {},
   "outputs": [],
   "source": [
    "pac_spending_by_state = pacs_expenditures_2020.groupby(by=['state']).amount.sum().reset_index()"
   ]
  },
  {
   "cell_type": "code",
   "execution_count": null,
   "metadata": {},
   "outputs": [],
   "source": [
    "pac_spending_by_state.sort_values('amount', ascending=False)"
   ]
  },
  {
   "cell_type": "code",
   "execution_count": null,
   "metadata": {},
   "outputs": [],
   "source": []
  }
 ],
 "metadata": {
  "kernelspec": {
   "display_name": "Python 3",
   "language": "python",
   "name": "python3"
  },
  "language_info": {
   "codemirror_mode": {
    "name": "ipython",
    "version": 3
   },
   "file_extension": ".py",
   "mimetype": "text/x-python",
   "name": "python",
   "nbconvert_exporter": "python",
   "pygments_lexer": "ipython3",
   "version": "3.8.5"
  }
 },
 "nbformat": 4,
 "nbformat_minor": 4
}
