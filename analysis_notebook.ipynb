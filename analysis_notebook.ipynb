{
 "cells": [
  {
   "cell_type": "code",
   "execution_count": 2,
   "metadata": {},
   "outputs": [],
   "source": [
    "import pandas as pd"
   ]
  },
  {
   "cell_type": "code",
   "execution_count": 3,
   "metadata": {},
   "outputs": [],
   "source": [
    "import altair as alt"
   ]
  },
  {
   "cell_type": "markdown",
   "metadata": {},
   "source": [
    "PACs in Missouri politics: An analysis of campaign finance data from the Missouri Ethics Commission"
   ]
  },
  {
   "cell_type": "markdown",
   "metadata": {},
   "source": [
    "Missouri voters have opted to reduce political campaign contribution limits several times in recent years. Yet one type of campaign finance committee, political action committees, has remained comparatively unrestricted. While donations from any single individual or committee are capped at 2,600 or lower for candidates for statewide office or the Missouri legislature, PACs can, and do, accept six- and seven-figure donations from individuals and other PACs. I analyzed data from the Missouri Ethics Commission, which requires all campaign finance committees to file reports on contributions received and expenditures made. My focus was on PACs, with particular interest in whether changing campaign finance law, while aimed at keeping money out of politics, has actually encouraged their growth."
   ]
  },
  {
   "cell_type": "markdown",
   "metadata": {},
   "source": [
    "Campaign finance limits in Missouri were removed in 2008. The MEC data I obtained doesn't go back that far. But the earliest years of data show the number of PACs that filed at least one report each year dropping by more than 100 from 2011 to 2014. Numbers increased only slightly from 2014 to 2016. But when campaign finance limits were reinstated in 2016, the numbers began a steeper increase. 205 more PACs filed reports in 2020 than in 2016. "
   ]
  },
  {
   "cell_type": "code",
   "execution_count": 4,
   "metadata": {},
   "outputs": [],
   "source": [
    "pac_numbers = pd.read_csv(\"data/analysis/PAC_numbers.csv\")"
   ]
  },
  {
   "cell_type": "code",
   "execution_count": 5,
   "metadata": {},
   "outputs": [
    {
     "data": {
      "text/html": [
       "\n",
       "<div id=\"altair-viz-3178aec9972b460cbf2646df29ef99a0\"></div>\n",
       "<script type=\"text/javascript\">\n",
       "  (function(spec, embedOpt){\n",
       "    let outputDiv = document.currentScript.previousElementSibling;\n",
       "    if (outputDiv.id !== \"altair-viz-3178aec9972b460cbf2646df29ef99a0\") {\n",
       "      outputDiv = document.getElementById(\"altair-viz-3178aec9972b460cbf2646df29ef99a0\");\n",
       "    }\n",
       "    const paths = {\n",
       "      \"vega\": \"https://cdn.jsdelivr.net/npm//vega@5?noext\",\n",
       "      \"vega-lib\": \"https://cdn.jsdelivr.net/npm//vega-lib?noext\",\n",
       "      \"vega-lite\": \"https://cdn.jsdelivr.net/npm//vega-lite@4.8.1?noext\",\n",
       "      \"vega-embed\": \"https://cdn.jsdelivr.net/npm//vega-embed@6?noext\",\n",
       "    };\n",
       "\n",
       "    function loadScript(lib) {\n",
       "      return new Promise(function(resolve, reject) {\n",
       "        var s = document.createElement('script');\n",
       "        s.src = paths[lib];\n",
       "        s.async = true;\n",
       "        s.onload = () => resolve(paths[lib]);\n",
       "        s.onerror = () => reject(`Error loading script: ${paths[lib]}`);\n",
       "        document.getElementsByTagName(\"head\")[0].appendChild(s);\n",
       "      });\n",
       "    }\n",
       "\n",
       "    function showError(err) {\n",
       "      outputDiv.innerHTML = `<div class=\"error\" style=\"color:red;\">${err}</div>`;\n",
       "      throw err;\n",
       "    }\n",
       "\n",
       "    function displayChart(vegaEmbed) {\n",
       "      vegaEmbed(outputDiv, spec, embedOpt)\n",
       "        .catch(err => showError(`Javascript Error: ${err.message}<br>This usually means there's a typo in your chart specification. See the javascript console for the full traceback.`));\n",
       "    }\n",
       "\n",
       "    if(typeof define === \"function\" && define.amd) {\n",
       "      requirejs.config({paths});\n",
       "      require([\"vega-embed\"], displayChart, err => showError(`Error loading script: ${err.message}`));\n",
       "    } else if (typeof vegaEmbed === \"function\") {\n",
       "      displayChart(vegaEmbed);\n",
       "    } else {\n",
       "      loadScript(\"vega\")\n",
       "        .then(() => loadScript(\"vega-lite\"))\n",
       "        .then(() => loadScript(\"vega-embed\"))\n",
       "        .catch(showError)\n",
       "        .then(() => displayChart(vegaEmbed));\n",
       "    }\n",
       "  })({\"config\": {\"view\": {\"continuousWidth\": 400, \"continuousHeight\": 300}}, \"data\": {\"name\": \"data-e7f5df00f759adff0d99295bbca39e2c\"}, \"mark\": \"line\", \"encoding\": {\"x\": {\"type\": \"quantitative\", \"field\": \"Year\"}, \"y\": {\"type\": \"quantitative\", \"field\": \"# of PACs\"}}, \"$schema\": \"https://vega.github.io/schema/vega-lite/v4.8.1.json\", \"datasets\": {\"data-e7f5df00f759adff0d99295bbca39e2c\": [{\"Year\": 2011, \"# of PACs\": 927}, {\"Year\": 2012, \"# of PACs\": 890}, {\"Year\": 2013, \"# of PACs\": 836}, {\"Year\": 2014, \"# of PACs\": 813}, {\"Year\": 2015, \"# of PACs\": 817}, {\"Year\": 2016, \"# of PACs\": 830}, {\"Year\": 2017, \"# of PACs\": 887}, {\"Year\": 2018, \"# of PACs\": 967}, {\"Year\": 2019, \"# of PACs\": 1006}, {\"Year\": 2020, \"# of PACs\": 1035}]}}, {\"mode\": \"vega-lite\"});\n",
       "</script>"
      ],
      "text/plain": [
       "alt.Chart(...)"
      ]
     },
     "execution_count": 5,
     "metadata": {},
     "output_type": "execute_result"
    }
   ],
   "source": [
    "alt.Chart(pac_numbers).mark_line().encode(x=\"Year\", y=\"# of PACs\")"
   ]
  },
  {
   "cell_type": "code",
   "execution_count": 6,
   "metadata": {},
   "outputs": [],
   "source": [
    "committee_data_types = { \"Year\": \"Int64\",\n",
    "    \"Committee Type\": \"string\",\n",
    "    \"Amount\": \"float\",\n",
    "                       }"
   ]
  },
  {
   "cell_type": "markdown",
   "metadata": {},
   "source": [
    "When looking at money received by various committee types, candidates and PACs stand out as those receiving the most money (other types include political parties, campaign committees, exploratory, debt service and exemption.) It was easiest to compare October quarterly reports from 2011-2020, since those reports are available every year and not tied to specific election dates. I used the line on the reports where committees disclose the total amount they have received for the whole year or election cycle so far. With the exception of 2013 and 2020, candidates reported more money than PACs each year. In 2013, PACs were only ahead by 5.6 million and 13 percentage points. In 2020, they were ahead by 29.1 million and 25 percentage points. "
   ]
  },
  {
   "cell_type": "code",
   "execution_count": 7,
   "metadata": {},
   "outputs": [],
   "source": [
    "committee_types = pd.read_csv(\"data/analysis/pac_percentage.csv\", dtype = committee_data_types)"
   ]
  },
  {
   "cell_type": "code",
   "execution_count": 8,
   "metadata": {},
   "outputs": [
    {
     "data": {
      "text/html": [
       "\n",
       "<div id=\"altair-viz-bcc3cc300b1649f68eda69e76e4df9c3\"></div>\n",
       "<script type=\"text/javascript\">\n",
       "  (function(spec, embedOpt){\n",
       "    let outputDiv = document.currentScript.previousElementSibling;\n",
       "    if (outputDiv.id !== \"altair-viz-bcc3cc300b1649f68eda69e76e4df9c3\") {\n",
       "      outputDiv = document.getElementById(\"altair-viz-bcc3cc300b1649f68eda69e76e4df9c3\");\n",
       "    }\n",
       "    const paths = {\n",
       "      \"vega\": \"https://cdn.jsdelivr.net/npm//vega@5?noext\",\n",
       "      \"vega-lib\": \"https://cdn.jsdelivr.net/npm//vega-lib?noext\",\n",
       "      \"vega-lite\": \"https://cdn.jsdelivr.net/npm//vega-lite@4.8.1?noext\",\n",
       "      \"vega-embed\": \"https://cdn.jsdelivr.net/npm//vega-embed@6?noext\",\n",
       "    };\n",
       "\n",
       "    function loadScript(lib) {\n",
       "      return new Promise(function(resolve, reject) {\n",
       "        var s = document.createElement('script');\n",
       "        s.src = paths[lib];\n",
       "        s.async = true;\n",
       "        s.onload = () => resolve(paths[lib]);\n",
       "        s.onerror = () => reject(`Error loading script: ${paths[lib]}`);\n",
       "        document.getElementsByTagName(\"head\")[0].appendChild(s);\n",
       "      });\n",
       "    }\n",
       "\n",
       "    function showError(err) {\n",
       "      outputDiv.innerHTML = `<div class=\"error\" style=\"color:red;\">${err}</div>`;\n",
       "      throw err;\n",
       "    }\n",
       "\n",
       "    function displayChart(vegaEmbed) {\n",
       "      vegaEmbed(outputDiv, spec, embedOpt)\n",
       "        .catch(err => showError(`Javascript Error: ${err.message}<br>This usually means there's a typo in your chart specification. See the javascript console for the full traceback.`));\n",
       "    }\n",
       "\n",
       "    if(typeof define === \"function\" && define.amd) {\n",
       "      requirejs.config({paths});\n",
       "      require([\"vega-embed\"], displayChart, err => showError(`Error loading script: ${err.message}`));\n",
       "    } else if (typeof vegaEmbed === \"function\") {\n",
       "      displayChart(vegaEmbed);\n",
       "    } else {\n",
       "      loadScript(\"vega\")\n",
       "        .then(() => loadScript(\"vega-lite\"))\n",
       "        .then(() => loadScript(\"vega-embed\"))\n",
       "        .catch(showError)\n",
       "        .then(() => displayChart(vegaEmbed));\n",
       "    }\n",
       "  })({\"config\": {\"view\": {\"continuousWidth\": 400, \"continuousHeight\": 300}}, \"data\": {\"name\": \"data-ba3ea6dafa8367b1ad9d737acff034a6\"}, \"mark\": \"line\", \"encoding\": {\"color\": {\"type\": \"nominal\", \"field\": \"Committee Type\"}, \"x\": {\"type\": \"quantitative\", \"field\": \"Year\"}, \"y\": {\"type\": \"quantitative\", \"field\": \"Amount\"}}, \"$schema\": \"https://vega.github.io/schema/vega-lite/v4.8.1.json\", \"datasets\": {\"data-ba3ea6dafa8367b1ad9d737acff034a6\": [{\"Year\": 2011, \"Committee Type\": \"Campaign\", \"Amount\": 572741.35, \"Unnamed: 3\": null, \"Unnamed: 4\": null, \"Unnamed: 5\": null, \"Unnamed: 6\": null, \"Unnamed: 7\": null, \"Unnamed: 8\": null, \"Unnamed: 9\": null, \"Unnamed: 10\": null, \"Unnamed: 11\": null, \"Unnamed: 12\": null, \"Unnamed: 13\": null}, {\"Year\": 2011, \"Committee Type\": \"Candidate\", \"Amount\": 26609945.81, \"Unnamed: 3\": null, \"Unnamed: 4\": null, \"Unnamed: 5\": null, \"Unnamed: 6\": null, \"Unnamed: 7\": null, \"Unnamed: 8\": null, \"Unnamed: 9\": null, \"Unnamed: 10\": null, \"Unnamed: 11\": null, \"Unnamed: 12\": null, \"Unnamed: 13\": null}, {\"Year\": 2011, \"Committee Type\": \"Debt Service\", \"Amount\": 2341331.06, \"Unnamed: 3\": null, \"Unnamed: 4\": null, \"Unnamed: 5\": null, \"Unnamed: 6\": null, \"Unnamed: 7\": null, \"Unnamed: 8\": null, \"Unnamed: 9\": null, \"Unnamed: 10\": null, \"Unnamed: 11\": null, \"Unnamed: 12\": null, \"Unnamed: 13\": null}, {\"Year\": 2011, \"Committee Type\": \"Exemption\", \"Amount\": 0.0, \"Unnamed: 3\": null, \"Unnamed: 4\": null, \"Unnamed: 5\": null, \"Unnamed: 6\": null, \"Unnamed: 7\": null, \"Unnamed: 8\": null, \"Unnamed: 9\": null, \"Unnamed: 10\": null, \"Unnamed: 11\": null, \"Unnamed: 12\": null, \"Unnamed: 13\": null}, {\"Year\": 2011, \"Committee Type\": \"Exploratory\", \"Amount\": 15759.28, \"Unnamed: 3\": null, \"Unnamed: 4\": null, \"Unnamed: 5\": null, \"Unnamed: 6\": null, \"Unnamed: 7\": null, \"Unnamed: 8\": null, \"Unnamed: 9\": null, \"Unnamed: 10\": null, \"Unnamed: 11\": null, \"Unnamed: 12\": null, \"Unnamed: 13\": null}, {\"Year\": 2011, \"Committee Type\": \"Political Action\", \"Amount\": 12162926.5, \"Unnamed: 3\": null, \"Unnamed: 4\": null, \"Unnamed: 5\": null, \"Unnamed: 6\": null, \"Unnamed: 7\": null, \"Unnamed: 8\": null, \"Unnamed: 9\": null, \"Unnamed: 10\": null, \"Unnamed: 11\": null, \"Unnamed: 12\": null, \"Unnamed: 13\": null}, {\"Year\": 2011, \"Committee Type\": \"Political Party\", \"Amount\": 1434013.85, \"Unnamed: 3\": null, \"Unnamed: 4\": null, \"Unnamed: 5\": null, \"Unnamed: 6\": null, \"Unnamed: 7\": null, \"Unnamed: 8\": null, \"Unnamed: 9\": null, \"Unnamed: 10\": null, \"Unnamed: 11\": null, \"Unnamed: 12\": null, \"Unnamed: 13\": null}, {\"Year\": 2011, \"Committee Type\": \"Total\", \"Amount\": 43136717.85, \"Unnamed: 3\": null, \"Unnamed: 4\": null, \"Unnamed: 5\": null, \"Unnamed: 6\": null, \"Unnamed: 7\": null, \"Unnamed: 8\": null, \"Unnamed: 9\": null, \"Unnamed: 10\": null, \"Unnamed: 11\": null, \"Unnamed: 12\": null, \"Unnamed: 13\": null}, {\"Year\": 2012, \"Committee Type\": \"Campaign\", \"Amount\": 8173521.46, \"Unnamed: 3\": null, \"Unnamed: 4\": null, \"Unnamed: 5\": null, \"Unnamed: 6\": null, \"Unnamed: 7\": null, \"Unnamed: 8\": null, \"Unnamed: 9\": null, \"Unnamed: 10\": null, \"Unnamed: 11\": null, \"Unnamed: 12\": null, \"Unnamed: 13\": null}, {\"Year\": 2012, \"Committee Type\": \"Candidate\", \"Amount\": 43573104.86, \"Unnamed: 3\": null, \"Unnamed: 4\": null, \"Unnamed: 5\": null, \"Unnamed: 6\": null, \"Unnamed: 7\": null, \"Unnamed: 8\": null, \"Unnamed: 9\": null, \"Unnamed: 10\": null, \"Unnamed: 11\": null, \"Unnamed: 12\": null, \"Unnamed: 13\": null}, {\"Year\": 2012, \"Committee Type\": \"Debt Service\", \"Amount\": 5101178.23, \"Unnamed: 3\": null, \"Unnamed: 4\": null, \"Unnamed: 5\": null, \"Unnamed: 6\": null, \"Unnamed: 7\": null, \"Unnamed: 8\": null, \"Unnamed: 9\": null, \"Unnamed: 10\": null, \"Unnamed: 11\": null, \"Unnamed: 12\": null, \"Unnamed: 13\": null}, {\"Year\": 2012, \"Committee Type\": \"Exemption\", \"Amount\": 0.0, \"Unnamed: 3\": null, \"Unnamed: 4\": null, \"Unnamed: 5\": null, \"Unnamed: 6\": null, \"Unnamed: 7\": null, \"Unnamed: 8\": null, \"Unnamed: 9\": null, \"Unnamed: 10\": null, \"Unnamed: 11\": null, \"Unnamed: 12\": null, \"Unnamed: 13\": null}, {\"Year\": 2012, \"Committee Type\": \"Exploratory\", \"Amount\": null, \"Unnamed: 3\": null, \"Unnamed: 4\": null, \"Unnamed: 5\": null, \"Unnamed: 6\": null, \"Unnamed: 7\": null, \"Unnamed: 8\": null, \"Unnamed: 9\": null, \"Unnamed: 10\": null, \"Unnamed: 11\": null, \"Unnamed: 12\": null, \"Unnamed: 13\": null}, {\"Year\": 2012, \"Committee Type\": \"Political Action\", \"Amount\": 19667347.88, \"Unnamed: 3\": null, \"Unnamed: 4\": null, \"Unnamed: 5\": null, \"Unnamed: 6\": null, \"Unnamed: 7\": null, \"Unnamed: 8\": null, \"Unnamed: 9\": null, \"Unnamed: 10\": null, \"Unnamed: 11\": null, \"Unnamed: 12\": null, \"Unnamed: 13\": null}, {\"Year\": 2012, \"Committee Type\": \"Political Party\", \"Amount\": 2964294.45, \"Unnamed: 3\": null, \"Unnamed: 4\": null, \"Unnamed: 5\": null, \"Unnamed: 6\": null, \"Unnamed: 7\": null, \"Unnamed: 8\": null, \"Unnamed: 9\": null, \"Unnamed: 10\": null, \"Unnamed: 11\": null, \"Unnamed: 12\": null, \"Unnamed: 13\": null}, {\"Year\": 2012, \"Committee Type\": \"Total\", \"Amount\": 79479446.88, \"Unnamed: 3\": null, \"Unnamed: 4\": null, \"Unnamed: 5\": null, \"Unnamed: 6\": null, \"Unnamed: 7\": null, \"Unnamed: 8\": null, \"Unnamed: 9\": null, \"Unnamed: 10\": null, \"Unnamed: 11\": null, \"Unnamed: 12\": null, \"Unnamed: 13\": null}, {\"Year\": 2013, \"Committee Type\": \"Campaign\", \"Amount\": 1091705.87, \"Unnamed: 3\": null, \"Unnamed: 4\": null, \"Unnamed: 5\": null, \"Unnamed: 6\": null, \"Unnamed: 7\": null, \"Unnamed: 8\": null, \"Unnamed: 9\": null, \"Unnamed: 10\": null, \"Unnamed: 11\": null, \"Unnamed: 12\": null, \"Unnamed: 13\": null}, {\"Year\": 2013, \"Committee Type\": \"Candidate\", \"Amount\": 15994329.67, \"Unnamed: 3\": null, \"Unnamed: 4\": null, \"Unnamed: 5\": null, \"Unnamed: 6\": null, \"Unnamed: 7\": null, \"Unnamed: 8\": null, \"Unnamed: 9\": null, \"Unnamed: 10\": null, \"Unnamed: 11\": null, \"Unnamed: 12\": null, \"Unnamed: 13\": null}, {\"Year\": 2013, \"Committee Type\": \"Debt Service\", \"Amount\": 3017634.18, \"Unnamed: 3\": null, \"Unnamed: 4\": null, \"Unnamed: 5\": null, \"Unnamed: 6\": null, \"Unnamed: 7\": null, \"Unnamed: 8\": null, \"Unnamed: 9\": null, \"Unnamed: 10\": null, \"Unnamed: 11\": null, \"Unnamed: 12\": null, \"Unnamed: 13\": null}, {\"Year\": 2013, \"Committee Type\": \"Exemption\", \"Amount\": 0.0, \"Unnamed: 3\": null, \"Unnamed: 4\": null, \"Unnamed: 5\": null, \"Unnamed: 6\": null, \"Unnamed: 7\": null, \"Unnamed: 8\": null, \"Unnamed: 9\": null, \"Unnamed: 10\": null, \"Unnamed: 11\": null, \"Unnamed: 12\": null, \"Unnamed: 13\": null}, {\"Year\": 2013, \"Committee Type\": \"Exploratory\", \"Amount\": 0.0, \"Unnamed: 3\": null, \"Unnamed: 4\": null, \"Unnamed: 5\": null, \"Unnamed: 6\": null, \"Unnamed: 7\": null, \"Unnamed: 8\": null, \"Unnamed: 9\": null, \"Unnamed: 10\": null, \"Unnamed: 11\": null, \"Unnamed: 12\": null, \"Unnamed: 13\": null}, {\"Year\": 2013, \"Committee Type\": \"Political Action\", \"Amount\": 21636718.92, \"Unnamed: 3\": null, \"Unnamed: 4\": null, \"Unnamed: 5\": null, \"Unnamed: 6\": null, \"Unnamed: 7\": null, \"Unnamed: 8\": null, \"Unnamed: 9\": null, \"Unnamed: 10\": null, \"Unnamed: 11\": null, \"Unnamed: 12\": null, \"Unnamed: 13\": null}, {\"Year\": 2013, \"Committee Type\": \"Political Party\", \"Amount\": 1408190.2, \"Unnamed: 3\": null, \"Unnamed: 4\": null, \"Unnamed: 5\": null, \"Unnamed: 6\": null, \"Unnamed: 7\": null, \"Unnamed: 8\": null, \"Unnamed: 9\": null, \"Unnamed: 10\": null, \"Unnamed: 11\": null, \"Unnamed: 12\": null, \"Unnamed: 13\": null}, {\"Year\": 2013, \"Committee Type\": \"Total\", \"Amount\": 43148578.84, \"Unnamed: 3\": null, \"Unnamed: 4\": null, \"Unnamed: 5\": null, \"Unnamed: 6\": null, \"Unnamed: 7\": null, \"Unnamed: 8\": null, \"Unnamed: 9\": null, \"Unnamed: 10\": null, \"Unnamed: 11\": null, \"Unnamed: 12\": null, \"Unnamed: 13\": null}, {\"Year\": 2014, \"Committee Type\": \"Campaign\", \"Amount\": 2736554.1, \"Unnamed: 3\": null, \"Unnamed: 4\": null, \"Unnamed: 5\": null, \"Unnamed: 6\": null, \"Unnamed: 7\": null, \"Unnamed: 8\": null, \"Unnamed: 9\": null, \"Unnamed: 10\": null, \"Unnamed: 11\": null, \"Unnamed: 12\": null, \"Unnamed: 13\": null}, {\"Year\": 2014, \"Committee Type\": \"Candidate\", \"Amount\": 28286404.82, \"Unnamed: 3\": null, \"Unnamed: 4\": null, \"Unnamed: 5\": null, \"Unnamed: 6\": null, \"Unnamed: 7\": null, \"Unnamed: 8\": null, \"Unnamed: 9\": null, \"Unnamed: 10\": null, \"Unnamed: 11\": null, \"Unnamed: 12\": null, \"Unnamed: 13\": null}, {\"Year\": 2014, \"Committee Type\": \"Debt Service\", \"Amount\": 2446955.7, \"Unnamed: 3\": null, \"Unnamed: 4\": null, \"Unnamed: 5\": null, \"Unnamed: 6\": null, \"Unnamed: 7\": null, \"Unnamed: 8\": null, \"Unnamed: 9\": null, \"Unnamed: 10\": null, \"Unnamed: 11\": null, \"Unnamed: 12\": null, \"Unnamed: 13\": null}, {\"Year\": 2014, \"Committee Type\": \"Exemption\", \"Amount\": 0.0, \"Unnamed: 3\": null, \"Unnamed: 4\": null, \"Unnamed: 5\": null, \"Unnamed: 6\": null, \"Unnamed: 7\": null, \"Unnamed: 8\": null, \"Unnamed: 9\": null, \"Unnamed: 10\": null, \"Unnamed: 11\": null, \"Unnamed: 12\": null, \"Unnamed: 13\": null}, {\"Year\": 2014, \"Committee Type\": \"Exploratory\", \"Amount\": null, \"Unnamed: 3\": null, \"Unnamed: 4\": null, \"Unnamed: 5\": null, \"Unnamed: 6\": null, \"Unnamed: 7\": null, \"Unnamed: 8\": null, \"Unnamed: 9\": null, \"Unnamed: 10\": null, \"Unnamed: 11\": null, \"Unnamed: 12\": null, \"Unnamed: 13\": null}, {\"Year\": 2014, \"Committee Type\": \"Political Action\", \"Amount\": 27747251.97, \"Unnamed: 3\": null, \"Unnamed: 4\": null, \"Unnamed: 5\": null, \"Unnamed: 6\": null, \"Unnamed: 7\": null, \"Unnamed: 8\": null, \"Unnamed: 9\": null, \"Unnamed: 10\": null, \"Unnamed: 11\": null, \"Unnamed: 12\": null, \"Unnamed: 13\": null}, {\"Year\": 2014, \"Committee Type\": \"Political Party\", \"Amount\": 2401236.89, \"Unnamed: 3\": null, \"Unnamed: 4\": null, \"Unnamed: 5\": null, \"Unnamed: 6\": null, \"Unnamed: 7\": null, \"Unnamed: 8\": null, \"Unnamed: 9\": null, \"Unnamed: 10\": null, \"Unnamed: 11\": null, \"Unnamed: 12\": null, \"Unnamed: 13\": null}, {\"Year\": 2014, \"Committee Type\": \"Total\", \"Amount\": 63618403.48, \"Unnamed: 3\": null, \"Unnamed: 4\": null, \"Unnamed: 5\": null, \"Unnamed: 6\": null, \"Unnamed: 7\": null, \"Unnamed: 8\": null, \"Unnamed: 9\": null, \"Unnamed: 10\": null, \"Unnamed: 11\": null, \"Unnamed: 12\": null, \"Unnamed: 13\": null}, {\"Year\": 2015, \"Committee Type\": \"Campaign\", \"Amount\": 1453996.56, \"Unnamed: 3\": null, \"Unnamed: 4\": null, \"Unnamed: 5\": null, \"Unnamed: 6\": null, \"Unnamed: 7\": null, \"Unnamed: 8\": null, \"Unnamed: 9\": null, \"Unnamed: 10\": null, \"Unnamed: 11\": null, \"Unnamed: 12\": null, \"Unnamed: 13\": null}, {\"Year\": 2015, \"Committee Type\": \"Candidate\", \"Amount\": 27292848.45, \"Unnamed: 3\": null, \"Unnamed: 4\": null, \"Unnamed: 5\": null, \"Unnamed: 6\": null, \"Unnamed: 7\": null, \"Unnamed: 8\": null, \"Unnamed: 9\": null, \"Unnamed: 10\": null, \"Unnamed: 11\": null, \"Unnamed: 12\": null, \"Unnamed: 13\": null}, {\"Year\": 2015, \"Committee Type\": \"Debt Service\", \"Amount\": 2685141.55, \"Unnamed: 3\": null, \"Unnamed: 4\": null, \"Unnamed: 5\": null, \"Unnamed: 6\": null, \"Unnamed: 7\": null, \"Unnamed: 8\": null, \"Unnamed: 9\": null, \"Unnamed: 10\": null, \"Unnamed: 11\": null, \"Unnamed: 12\": null, \"Unnamed: 13\": null}, {\"Year\": 2015, \"Committee Type\": \"Exemption\", \"Amount\": 0.0, \"Unnamed: 3\": null, \"Unnamed: 4\": null, \"Unnamed: 5\": null, \"Unnamed: 6\": null, \"Unnamed: 7\": null, \"Unnamed: 8\": null, \"Unnamed: 9\": null, \"Unnamed: 10\": null, \"Unnamed: 11\": null, \"Unnamed: 12\": null, \"Unnamed: 13\": null}, {\"Year\": 2015, \"Committee Type\": \"Exploratory\", \"Amount\": null, \"Unnamed: 3\": null, \"Unnamed: 4\": null, \"Unnamed: 5\": null, \"Unnamed: 6\": null, \"Unnamed: 7\": null, \"Unnamed: 8\": null, \"Unnamed: 9\": null, \"Unnamed: 10\": null, \"Unnamed: 11\": null, \"Unnamed: 12\": null, \"Unnamed: 13\": null}, {\"Year\": 2015, \"Committee Type\": \"Political Action\", \"Amount\": 13931730.45, \"Unnamed: 3\": null, \"Unnamed: 4\": null, \"Unnamed: 5\": null, \"Unnamed: 6\": null, \"Unnamed: 7\": null, \"Unnamed: 8\": null, \"Unnamed: 9\": null, \"Unnamed: 10\": null, \"Unnamed: 11\": null, \"Unnamed: 12\": null, \"Unnamed: 13\": null}, {\"Year\": 2015, \"Committee Type\": \"Political Party\", \"Amount\": 1368331.91, \"Unnamed: 3\": null, \"Unnamed: 4\": null, \"Unnamed: 5\": null, \"Unnamed: 6\": null, \"Unnamed: 7\": null, \"Unnamed: 8\": null, \"Unnamed: 9\": null, \"Unnamed: 10\": null, \"Unnamed: 11\": null, \"Unnamed: 12\": null, \"Unnamed: 13\": null}, {\"Year\": 2015, \"Committee Type\": \"Total\", \"Amount\": 46732048.92, \"Unnamed: 3\": null, \"Unnamed: 4\": null, \"Unnamed: 5\": null, \"Unnamed: 6\": null, \"Unnamed: 7\": null, \"Unnamed: 8\": null, \"Unnamed: 9\": null, \"Unnamed: 10\": null, \"Unnamed: 11\": null, \"Unnamed: 12\": null, \"Unnamed: 13\": null}, {\"Year\": 2016, \"Committee Type\": \"Campaign\", \"Amount\": 8585109.04, \"Unnamed: 3\": null, \"Unnamed: 4\": null, \"Unnamed: 5\": null, \"Unnamed: 6\": null, \"Unnamed: 7\": null, \"Unnamed: 8\": null, \"Unnamed: 9\": null, \"Unnamed: 10\": null, \"Unnamed: 11\": null, \"Unnamed: 12\": null, \"Unnamed: 13\": null}, {\"Year\": 2016, \"Committee Type\": \"Candidate\", \"Amount\": 77828766.54, \"Unnamed: 3\": null, \"Unnamed: 4\": null, \"Unnamed: 5\": null, \"Unnamed: 6\": null, \"Unnamed: 7\": null, \"Unnamed: 8\": null, \"Unnamed: 9\": null, \"Unnamed: 10\": null, \"Unnamed: 11\": null, \"Unnamed: 12\": null, \"Unnamed: 13\": null}, {\"Year\": 2016, \"Committee Type\": \"Debt Service\", \"Amount\": 9308596.65, \"Unnamed: 3\": null, \"Unnamed: 4\": null, \"Unnamed: 5\": null, \"Unnamed: 6\": null, \"Unnamed: 7\": null, \"Unnamed: 8\": null, \"Unnamed: 9\": null, \"Unnamed: 10\": null, \"Unnamed: 11\": null, \"Unnamed: 12\": null, \"Unnamed: 13\": null}, {\"Year\": 2016, \"Committee Type\": \"Exemption\", \"Amount\": 0.0, \"Unnamed: 3\": null, \"Unnamed: 4\": null, \"Unnamed: 5\": null, \"Unnamed: 6\": null, \"Unnamed: 7\": null, \"Unnamed: 8\": null, \"Unnamed: 9\": null, \"Unnamed: 10\": null, \"Unnamed: 11\": null, \"Unnamed: 12\": null, \"Unnamed: 13\": null}, {\"Year\": 2016, \"Committee Type\": \"Exploratory\", \"Amount\": null, \"Unnamed: 3\": null, \"Unnamed: 4\": null, \"Unnamed: 5\": null, \"Unnamed: 6\": null, \"Unnamed: 7\": null, \"Unnamed: 8\": null, \"Unnamed: 9\": null, \"Unnamed: 10\": null, \"Unnamed: 11\": null, \"Unnamed: 12\": null, \"Unnamed: 13\": null}, {\"Year\": 2016, \"Committee Type\": \"Political Action\", \"Amount\": 40382735.33, \"Unnamed: 3\": null, \"Unnamed: 4\": null, \"Unnamed: 5\": null, \"Unnamed: 6\": null, \"Unnamed: 7\": null, \"Unnamed: 8\": null, \"Unnamed: 9\": null, \"Unnamed: 10\": null, \"Unnamed: 11\": null, \"Unnamed: 12\": null, \"Unnamed: 13\": null}, {\"Year\": 2016, \"Committee Type\": \"Political Party\", \"Amount\": 3034716.21, \"Unnamed: 3\": null, \"Unnamed: 4\": null, \"Unnamed: 5\": null, \"Unnamed: 6\": null, \"Unnamed: 7\": null, \"Unnamed: 8\": null, \"Unnamed: 9\": null, \"Unnamed: 10\": null, \"Unnamed: 11\": null, \"Unnamed: 12\": null, \"Unnamed: 13\": null}, {\"Year\": 2016, \"Committee Type\": \"Total\", \"Amount\": 139139923.8, \"Unnamed: 3\": null, \"Unnamed: 4\": null, \"Unnamed: 5\": null, \"Unnamed: 6\": null, \"Unnamed: 7\": null, \"Unnamed: 8\": null, \"Unnamed: 9\": null, \"Unnamed: 10\": null, \"Unnamed: 11\": null, \"Unnamed: 12\": null, \"Unnamed: 13\": null}, {\"Year\": 2017, \"Committee Type\": \"Campaign\", \"Amount\": 3219151.87, \"Unnamed: 3\": null, \"Unnamed: 4\": null, \"Unnamed: 5\": null, \"Unnamed: 6\": null, \"Unnamed: 7\": null, \"Unnamed: 8\": null, \"Unnamed: 9\": null, \"Unnamed: 10\": null, \"Unnamed: 11\": null, \"Unnamed: 12\": null, \"Unnamed: 13\": null}, {\"Year\": 2017, \"Committee Type\": \"Candidate\", \"Amount\": 52372683.45, \"Unnamed: 3\": null, \"Unnamed: 4\": null, \"Unnamed: 5\": null, \"Unnamed: 6\": null, \"Unnamed: 7\": null, \"Unnamed: 8\": null, \"Unnamed: 9\": null, \"Unnamed: 10\": null, \"Unnamed: 11\": null, \"Unnamed: 12\": null, \"Unnamed: 13\": null}, {\"Year\": 2017, \"Committee Type\": \"Debt Service\", \"Amount\": 647633.56, \"Unnamed: 3\": null, \"Unnamed: 4\": null, \"Unnamed: 5\": null, \"Unnamed: 6\": null, \"Unnamed: 7\": null, \"Unnamed: 8\": null, \"Unnamed: 9\": null, \"Unnamed: 10\": null, \"Unnamed: 11\": null, \"Unnamed: 12\": null, \"Unnamed: 13\": null}, {\"Year\": 2017, \"Committee Type\": \"Exemption\", \"Amount\": 0.0, \"Unnamed: 3\": null, \"Unnamed: 4\": null, \"Unnamed: 5\": null, \"Unnamed: 6\": null, \"Unnamed: 7\": null, \"Unnamed: 8\": null, \"Unnamed: 9\": null, \"Unnamed: 10\": null, \"Unnamed: 11\": null, \"Unnamed: 12\": null, \"Unnamed: 13\": null}, {\"Year\": 2017, \"Committee Type\": \"Exploratory\", \"Amount\": null, \"Unnamed: 3\": null, \"Unnamed: 4\": null, \"Unnamed: 5\": null, \"Unnamed: 6\": null, \"Unnamed: 7\": null, \"Unnamed: 8\": null, \"Unnamed: 9\": null, \"Unnamed: 10\": null, \"Unnamed: 11\": null, \"Unnamed: 12\": null, \"Unnamed: 13\": null}, {\"Year\": 2017, \"Committee Type\": \"Political Action\", \"Amount\": 19478111.3, \"Unnamed: 3\": null, \"Unnamed: 4\": null, \"Unnamed: 5\": null, \"Unnamed: 6\": null, \"Unnamed: 7\": null, \"Unnamed: 8\": null, \"Unnamed: 9\": null, \"Unnamed: 10\": null, \"Unnamed: 11\": null, \"Unnamed: 12\": null, \"Unnamed: 13\": null}, {\"Year\": 2017, \"Committee Type\": \"Political Party\", \"Amount\": 1521362.35, \"Unnamed: 3\": null, \"Unnamed: 4\": null, \"Unnamed: 5\": null, \"Unnamed: 6\": null, \"Unnamed: 7\": null, \"Unnamed: 8\": null, \"Unnamed: 9\": null, \"Unnamed: 10\": null, \"Unnamed: 11\": null, \"Unnamed: 12\": null, \"Unnamed: 13\": null}, {\"Year\": 2017, \"Committee Type\": \"Total\", \"Amount\": 77238942.53, \"Unnamed: 3\": null, \"Unnamed: 4\": null, \"Unnamed: 5\": null, \"Unnamed: 6\": null, \"Unnamed: 7\": null, \"Unnamed: 8\": null, \"Unnamed: 9\": null, \"Unnamed: 10\": null, \"Unnamed: 11\": null, \"Unnamed: 12\": null, \"Unnamed: 13\": null}, {\"Year\": 2018, \"Committee Type\": \"Campaign\", \"Amount\": 4629676.83, \"Unnamed: 3\": null, \"Unnamed: 4\": null, \"Unnamed: 5\": null, \"Unnamed: 6\": null, \"Unnamed: 7\": null, \"Unnamed: 8\": null, \"Unnamed: 9\": null, \"Unnamed: 10\": null, \"Unnamed: 11\": null, \"Unnamed: 12\": null, \"Unnamed: 13\": null}, {\"Year\": 2018, \"Committee Type\": \"Candidate\", \"Amount\": 68047396.05, \"Unnamed: 3\": null, \"Unnamed: 4\": null, \"Unnamed: 5\": null, \"Unnamed: 6\": null, \"Unnamed: 7\": null, \"Unnamed: 8\": null, \"Unnamed: 9\": null, \"Unnamed: 10\": null, \"Unnamed: 11\": null, \"Unnamed: 12\": null, \"Unnamed: 13\": null}, {\"Year\": 2018, \"Committee Type\": \"Debt Service\", \"Amount\": 913453.91, \"Unnamed: 3\": null, \"Unnamed: 4\": null, \"Unnamed: 5\": null, \"Unnamed: 6\": null, \"Unnamed: 7\": null, \"Unnamed: 8\": null, \"Unnamed: 9\": null, \"Unnamed: 10\": null, \"Unnamed: 11\": null, \"Unnamed: 12\": null, \"Unnamed: 13\": null}, {\"Year\": 2018, \"Committee Type\": \"Exemption\", \"Amount\": 0.0, \"Unnamed: 3\": null, \"Unnamed: 4\": null, \"Unnamed: 5\": null, \"Unnamed: 6\": null, \"Unnamed: 7\": null, \"Unnamed: 8\": null, \"Unnamed: 9\": null, \"Unnamed: 10\": null, \"Unnamed: 11\": null, \"Unnamed: 12\": null, \"Unnamed: 13\": null}, {\"Year\": 2018, \"Committee Type\": \"Exploratory\", \"Amount\": null, \"Unnamed: 3\": null, \"Unnamed: 4\": null, \"Unnamed: 5\": null, \"Unnamed: 6\": null, \"Unnamed: 7\": null, \"Unnamed: 8\": null, \"Unnamed: 9\": null, \"Unnamed: 10\": null, \"Unnamed: 11\": null, \"Unnamed: 12\": null, \"Unnamed: 13\": null}, {\"Year\": 2018, \"Committee Type\": \"Political Action\", \"Amount\": 34971337.09, \"Unnamed: 3\": null, \"Unnamed: 4\": null, \"Unnamed: 5\": null, \"Unnamed: 6\": null, \"Unnamed: 7\": null, \"Unnamed: 8\": null, \"Unnamed: 9\": null, \"Unnamed: 10\": null, \"Unnamed: 11\": null, \"Unnamed: 12\": null, \"Unnamed: 13\": null}, {\"Year\": 2018, \"Committee Type\": \"Political Party\", \"Amount\": 2047529.53, \"Unnamed: 3\": null, \"Unnamed: 4\": null, \"Unnamed: 5\": null, \"Unnamed: 6\": null, \"Unnamed: 7\": null, \"Unnamed: 8\": null, \"Unnamed: 9\": null, \"Unnamed: 10\": null, \"Unnamed: 11\": null, \"Unnamed: 12\": null, \"Unnamed: 13\": null}, {\"Year\": 2018, \"Committee Type\": \"Total\", \"Amount\": 110609393.4, \"Unnamed: 3\": null, \"Unnamed: 4\": null, \"Unnamed: 5\": null, \"Unnamed: 6\": null, \"Unnamed: 7\": null, \"Unnamed: 8\": null, \"Unnamed: 9\": null, \"Unnamed: 10\": null, \"Unnamed: 11\": null, \"Unnamed: 12\": null, \"Unnamed: 13\": null}, {\"Year\": 2019, \"Committee Type\": \"Campaign\", \"Amount\": 6990136.16, \"Unnamed: 3\": null, \"Unnamed: 4\": null, \"Unnamed: 5\": null, \"Unnamed: 6\": null, \"Unnamed: 7\": null, \"Unnamed: 8\": null, \"Unnamed: 9\": null, \"Unnamed: 10\": null, \"Unnamed: 11\": null, \"Unnamed: 12\": null, \"Unnamed: 13\": null}, {\"Year\": 2019, \"Committee Type\": \"Candidate\", \"Amount\": 49158700.28, \"Unnamed: 3\": null, \"Unnamed: 4\": null, \"Unnamed: 5\": null, \"Unnamed: 6\": null, \"Unnamed: 7\": null, \"Unnamed: 8\": null, \"Unnamed: 9\": null, \"Unnamed: 10\": null, \"Unnamed: 11\": null, \"Unnamed: 12\": null, \"Unnamed: 13\": null}, {\"Year\": 2019, \"Committee Type\": \"Debt Service\", \"Amount\": 403990.59, \"Unnamed: 3\": null, \"Unnamed: 4\": null, \"Unnamed: 5\": null, \"Unnamed: 6\": null, \"Unnamed: 7\": null, \"Unnamed: 8\": null, \"Unnamed: 9\": null, \"Unnamed: 10\": null, \"Unnamed: 11\": null, \"Unnamed: 12\": null, \"Unnamed: 13\": null}, {\"Year\": 2019, \"Committee Type\": \"Exemption\", \"Amount\": 0.0, \"Unnamed: 3\": null, \"Unnamed: 4\": null, \"Unnamed: 5\": null, \"Unnamed: 6\": null, \"Unnamed: 7\": null, \"Unnamed: 8\": null, \"Unnamed: 9\": null, \"Unnamed: 10\": null, \"Unnamed: 11\": null, \"Unnamed: 12\": null, \"Unnamed: 13\": null}, {\"Year\": 2019, \"Committee Type\": \"Exploratory\", \"Amount\": 1178.95, \"Unnamed: 3\": null, \"Unnamed: 4\": null, \"Unnamed: 5\": null, \"Unnamed: 6\": null, \"Unnamed: 7\": null, \"Unnamed: 8\": null, \"Unnamed: 9\": null, \"Unnamed: 10\": null, \"Unnamed: 11\": null, \"Unnamed: 12\": null, \"Unnamed: 13\": null}, {\"Year\": 2019, \"Committee Type\": \"Political Action\", \"Amount\": 25962960.09, \"Unnamed: 3\": null, \"Unnamed: 4\": null, \"Unnamed: 5\": null, \"Unnamed: 6\": null, \"Unnamed: 7\": null, \"Unnamed: 8\": null, \"Unnamed: 9\": null, \"Unnamed: 10\": null, \"Unnamed: 11\": null, \"Unnamed: 12\": null, \"Unnamed: 13\": null}, {\"Year\": 2019, \"Committee Type\": \"Political Party\", \"Amount\": 1506486.12, \"Unnamed: 3\": null, \"Unnamed: 4\": null, \"Unnamed: 5\": null, \"Unnamed: 6\": null, \"Unnamed: 7\": null, \"Unnamed: 8\": null, \"Unnamed: 9\": null, \"Unnamed: 10\": null, \"Unnamed: 11\": null, \"Unnamed: 12\": null, \"Unnamed: 13\": null}, {\"Year\": 2019, \"Committee Type\": \"Total\", \"Amount\": 84023452.19, \"Unnamed: 3\": null, \"Unnamed: 4\": null, \"Unnamed: 5\": null, \"Unnamed: 6\": null, \"Unnamed: 7\": null, \"Unnamed: 8\": null, \"Unnamed: 9\": null, \"Unnamed: 10\": null, \"Unnamed: 11\": null, \"Unnamed: 12\": null, \"Unnamed: 13\": null}, {\"Year\": 2020, \"Committee Type\": \"Campaign\", \"Amount\": 4259939.46, \"Unnamed: 3\": null, \"Unnamed: 4\": null, \"Unnamed: 5\": null, \"Unnamed: 6\": null, \"Unnamed: 7\": null, \"Unnamed: 8\": null, \"Unnamed: 9\": null, \"Unnamed: 10\": null, \"Unnamed: 11\": null, \"Unnamed: 12\": null, \"Unnamed: 13\": null}, {\"Year\": 2020, \"Committee Type\": \"Candidate\", \"Amount\": 38198375.92, \"Unnamed: 3\": null, \"Unnamed: 4\": null, \"Unnamed: 5\": null, \"Unnamed: 6\": null, \"Unnamed: 7\": null, \"Unnamed: 8\": null, \"Unnamed: 9\": null, \"Unnamed: 10\": null, \"Unnamed: 11\": null, \"Unnamed: 12\": null, \"Unnamed: 13\": null}, {\"Year\": 2020, \"Committee Type\": \"Debt Service\", \"Amount\": 944137.62, \"Unnamed: 3\": null, \"Unnamed: 4\": null, \"Unnamed: 5\": null, \"Unnamed: 6\": null, \"Unnamed: 7\": null, \"Unnamed: 8\": null, \"Unnamed: 9\": null, \"Unnamed: 10\": null, \"Unnamed: 11\": null, \"Unnamed: 12\": null, \"Unnamed: 13\": null}, {\"Year\": 2020, \"Committee Type\": \"Exemption\", \"Amount\": 0.0, \"Unnamed: 3\": null, \"Unnamed: 4\": null, \"Unnamed: 5\": null, \"Unnamed: 6\": null, \"Unnamed: 7\": null, \"Unnamed: 8\": null, \"Unnamed: 9\": null, \"Unnamed: 10\": null, \"Unnamed: 11\": null, \"Unnamed: 12\": null, \"Unnamed: 13\": null}, {\"Year\": 2020, \"Committee Type\": \"Exploratory\", \"Amount\": 857.55, \"Unnamed: 3\": null, \"Unnamed: 4\": null, \"Unnamed: 5\": null, \"Unnamed: 6\": null, \"Unnamed: 7\": null, \"Unnamed: 8\": null, \"Unnamed: 9\": null, \"Unnamed: 10\": null, \"Unnamed: 11\": null, \"Unnamed: 12\": null, \"Unnamed: 13\": null}, {\"Year\": 2020, \"Committee Type\": \"Political Action\", \"Amount\": 67290642.88, \"Unnamed: 3\": null, \"Unnamed: 4\": null, \"Unnamed: 5\": null, \"Unnamed: 6\": null, \"Unnamed: 7\": null, \"Unnamed: 8\": null, \"Unnamed: 9\": null, \"Unnamed: 10\": null, \"Unnamed: 11\": null, \"Unnamed: 12\": null, \"Unnamed: 13\": null}, {\"Year\": 2020, \"Committee Type\": \"Political Party\", \"Amount\": 3399384.37, \"Unnamed: 3\": null, \"Unnamed: 4\": null, \"Unnamed: 5\": null, \"Unnamed: 6\": null, \"Unnamed: 7\": null, \"Unnamed: 8\": null, \"Unnamed: 9\": null, \"Unnamed: 10\": null, \"Unnamed: 11\": null, \"Unnamed: 12\": null, \"Unnamed: 13\": null}, {\"Year\": 2020, \"Committee Type\": \"Total\", \"Amount\": 114093337.8, \"Unnamed: 3\": null, \"Unnamed: 4\": null, \"Unnamed: 5\": null, \"Unnamed: 6\": null, \"Unnamed: 7\": null, \"Unnamed: 8\": null, \"Unnamed: 9\": null, \"Unnamed: 10\": null, \"Unnamed: 11\": null, \"Unnamed: 12\": null, \"Unnamed: 13\": null}]}}, {\"mode\": \"vega-lite\"});\n",
       "</script>"
      ],
      "text/plain": [
       "alt.Chart(...)"
      ]
     },
     "execution_count": 8,
     "metadata": {},
     "output_type": "execute_result"
    }
   ],
   "source": [
    "alt.Chart(committee_types).mark_line().encode(\n",
    "    x='Year',\n",
    "    y='Amount',\n",
    "    color='Committee Type'\n",
    ")"
   ]
  },
  {
   "cell_type": "markdown",
   "metadata": {},
   "source": [
    "In more recent reports, such as the one titled \"30 Day After General Election-November 3, 2020\" and due December 3, PACs make up an even higher percentage of the total contributions received. However, it is likely that they are overrepresented because not all candidates filed that report. Some instead filed to terminate their committees or a combination termination/30 Day After General Election report. "
   ]
  },
  {
   "cell_type": "code",
   "execution_count": 9,
   "metadata": {},
   "outputs": [],
   "source": [
    "thirty_day_reports = pd.read_csv(\"data/analysis/30_day.csv\")"
   ]
  },
  {
   "cell_type": "code",
   "execution_count": 10,
   "metadata": {},
   "outputs": [
    {
     "data": {
      "text/html": [
       "\n",
       "<div id=\"altair-viz-72b4ebf9f78c4e37982b328b1ab13735\"></div>\n",
       "<script type=\"text/javascript\">\n",
       "  (function(spec, embedOpt){\n",
       "    let outputDiv = document.currentScript.previousElementSibling;\n",
       "    if (outputDiv.id !== \"altair-viz-72b4ebf9f78c4e37982b328b1ab13735\") {\n",
       "      outputDiv = document.getElementById(\"altair-viz-72b4ebf9f78c4e37982b328b1ab13735\");\n",
       "    }\n",
       "    const paths = {\n",
       "      \"vega\": \"https://cdn.jsdelivr.net/npm//vega@5?noext\",\n",
       "      \"vega-lib\": \"https://cdn.jsdelivr.net/npm//vega-lib?noext\",\n",
       "      \"vega-lite\": \"https://cdn.jsdelivr.net/npm//vega-lite@4.8.1?noext\",\n",
       "      \"vega-embed\": \"https://cdn.jsdelivr.net/npm//vega-embed@6?noext\",\n",
       "    };\n",
       "\n",
       "    function loadScript(lib) {\n",
       "      return new Promise(function(resolve, reject) {\n",
       "        var s = document.createElement('script');\n",
       "        s.src = paths[lib];\n",
       "        s.async = true;\n",
       "        s.onload = () => resolve(paths[lib]);\n",
       "        s.onerror = () => reject(`Error loading script: ${paths[lib]}`);\n",
       "        document.getElementsByTagName(\"head\")[0].appendChild(s);\n",
       "      });\n",
       "    }\n",
       "\n",
       "    function showError(err) {\n",
       "      outputDiv.innerHTML = `<div class=\"error\" style=\"color:red;\">${err}</div>`;\n",
       "      throw err;\n",
       "    }\n",
       "\n",
       "    function displayChart(vegaEmbed) {\n",
       "      vegaEmbed(outputDiv, spec, embedOpt)\n",
       "        .catch(err => showError(`Javascript Error: ${err.message}<br>This usually means there's a typo in your chart specification. See the javascript console for the full traceback.`));\n",
       "    }\n",
       "\n",
       "    if(typeof define === \"function\" && define.amd) {\n",
       "      requirejs.config({paths});\n",
       "      require([\"vega-embed\"], displayChart, err => showError(`Error loading script: ${err.message}`));\n",
       "    } else if (typeof vegaEmbed === \"function\") {\n",
       "      displayChart(vegaEmbed);\n",
       "    } else {\n",
       "      loadScript(\"vega\")\n",
       "        .then(() => loadScript(\"vega-lite\"))\n",
       "        .then(() => loadScript(\"vega-embed\"))\n",
       "        .catch(showError)\n",
       "        .then(() => displayChart(vegaEmbed));\n",
       "    }\n",
       "  })({\"config\": {\"view\": {\"continuousWidth\": 400, \"continuousHeight\": 300}}, \"data\": {\"name\": \"data-73e91cc2c9699b7b26cb4bc0eddbf57b\"}, \"mark\": \"bar\", \"encoding\": {\"color\": {\"type\": \"nominal\", \"field\": \"comm_type\"}, \"x\": {\"type\": \"quantitative\", \"aggregate\": \"sum\", \"field\": \"total_receipts_this_election\"}}, \"$schema\": \"https://vega.github.io/schema/vega-lite/v4.8.1.json\", \"datasets\": {\"data-73e91cc2c9699b7b26cb4bc0eddbf57b\": [{\"comm_type\": \"Campaign\", \"total_receipts_this_election\": 1967705.26}, {\"comm_type\": \"Candidate\", \"total_receipts_this_election\": 32666090.9}, {\"comm_type\": \"Exemption\", \"total_receipts_this_election\": 0.0}, {\"comm_type\": \"Political Action\", \"total_receipts_this_election\": 101262869.5}, {\"comm_type\": \"Political Party\", \"total_receipts_this_election\": 3272736.43}]}}, {\"mode\": \"vega-lite\"});\n",
       "</script>"
      ],
      "text/plain": [
       "alt.Chart(...)"
      ]
     },
     "execution_count": 10,
     "metadata": {},
     "output_type": "execute_result"
    }
   ],
   "source": [
    "alt.Chart(thirty_day_reports).mark_bar().encode(x='sum(total_receipts_this_election)', y='state' color='comm_type')"
   ]
  },
  {
   "cell_type": "markdown",
   "metadata": {},
   "source": [
    "Committees are also required to report an itemized list of donations from individuals that exceed 100, or any donations from other committees. Since that list isn't tied to a specific report title, it's perhaps a better way to make comparisons across all committees. However, the totals listed below are incomplete because smaller donations are not included. The top 10 committees reporting the highest totals of itemized donations are:"
   ]
  },
  {
   "cell_type": "code",
   "execution_count": 11,
   "metadata": {},
   "outputs": [],
   "source": [
    "highest_committees = pd.read_csv(\"data/analysis/highest_committees.csv\")"
   ]
  },
  {
   "cell_type": "code",
   "execution_count": 12,
   "metadata": {},
   "outputs": [
    {
     "data": {
      "text/html": [
       "\n",
       "<div id=\"altair-viz-cfe92aa82a5e41a4ac219cfd78ed531e\"></div>\n",
       "<script type=\"text/javascript\">\n",
       "  (function(spec, embedOpt){\n",
       "    let outputDiv = document.currentScript.previousElementSibling;\n",
       "    if (outputDiv.id !== \"altair-viz-cfe92aa82a5e41a4ac219cfd78ed531e\") {\n",
       "      outputDiv = document.getElementById(\"altair-viz-cfe92aa82a5e41a4ac219cfd78ed531e\");\n",
       "    }\n",
       "    const paths = {\n",
       "      \"vega\": \"https://cdn.jsdelivr.net/npm//vega@5?noext\",\n",
       "      \"vega-lib\": \"https://cdn.jsdelivr.net/npm//vega-lib?noext\",\n",
       "      \"vega-lite\": \"https://cdn.jsdelivr.net/npm//vega-lite@4.8.1?noext\",\n",
       "      \"vega-embed\": \"https://cdn.jsdelivr.net/npm//vega-embed@6?noext\",\n",
       "    };\n",
       "\n",
       "    function loadScript(lib) {\n",
       "      return new Promise(function(resolve, reject) {\n",
       "        var s = document.createElement('script');\n",
       "        s.src = paths[lib];\n",
       "        s.async = true;\n",
       "        s.onload = () => resolve(paths[lib]);\n",
       "        s.onerror = () => reject(`Error loading script: ${paths[lib]}`);\n",
       "        document.getElementsByTagName(\"head\")[0].appendChild(s);\n",
       "      });\n",
       "    }\n",
       "\n",
       "    function showError(err) {\n",
       "      outputDiv.innerHTML = `<div class=\"error\" style=\"color:red;\">${err}</div>`;\n",
       "      throw err;\n",
       "    }\n",
       "\n",
       "    function displayChart(vegaEmbed) {\n",
       "      vegaEmbed(outputDiv, spec, embedOpt)\n",
       "        .catch(err => showError(`Javascript Error: ${err.message}<br>This usually means there's a typo in your chart specification. See the javascript console for the full traceback.`));\n",
       "    }\n",
       "\n",
       "    if(typeof define === \"function\" && define.amd) {\n",
       "      requirejs.config({paths});\n",
       "      require([\"vega-embed\"], displayChart, err => showError(`Error loading script: ${err.message}`));\n",
       "    } else if (typeof vegaEmbed === \"function\") {\n",
       "      displayChart(vegaEmbed);\n",
       "    } else {\n",
       "      loadScript(\"vega\")\n",
       "        .then(() => loadScript(\"vega-lite\"))\n",
       "        .then(() => loadScript(\"vega-embed\"))\n",
       "        .catch(showError)\n",
       "        .then(() => displayChart(vegaEmbed));\n",
       "    }\n",
       "  })({\"config\": {\"view\": {\"continuousWidth\": 400, \"continuousHeight\": 300}}, \"data\": {\"name\": \"data-a7f0c883706c4afaf17ac6985d172db7\"}, \"mark\": \"bar\", \"encoding\": {\"color\": {\"type\": \"nominal\", \"field\": \"comm_type\"}, \"x\": {\"type\": \"quantitative\", \"field\": \"amount\"}, \"y\": {\"type\": \"nominal\", \"field\": \"committee_name\", \"sort\": \"-x\"}}, \"$schema\": \"https://vega.github.io/schema/vega-lite/v4.8.1.json\", \"datasets\": {\"data-a7f0c883706c4afaf17ac6985d172db7\": [{\"index\": 2019, \"comm_type\": \"Political Action\", \"committee_name\": \"Uniting Missouri PAC\", \"amount\": 18527737.37}, {\"index\": 1904, \"comm_type\": \"Political Action\", \"committee_name\": \"Republican Governors Association - Missouri 2020\", \"amount\": 14850207.28}, {\"index\": 1396, \"comm_type\": \"Political Action\", \"committee_name\": \"A Stronger Missouri\", \"amount\": 13771222.55}, {\"index\": 1504, \"comm_type\": \"Political Action\", \"committee_name\": \"Democratic Governors Association - Missouri\", \"amount\": 9022789.55}, {\"index\": 32, \"comm_type\": \"Campaign\", \"committee_name\": \"Missourians for Healthcare\", \"amount\": 8661555.100000001}, {\"index\": 1449, \"comm_type\": \"Political Action\", \"committee_name\": \"CLEAN Missouri\", \"amount\": 7346869.039999999}, {\"index\": 1154, \"comm_type\": \"Candidate\", \"committee_name\": \"Nicole Galloway For Missouri\", \"amount\": 4798754.360000007}, {\"index\": 1168, \"comm_type\": \"Candidate\", \"committee_name\": \"Parson For Missouri\", \"amount\": 3886013.4399999985}, {\"index\": 1633, \"comm_type\": \"Political Action\", \"committee_name\": \"Keep Government Accountable\", \"amount\": 2743373.14}, {\"index\": 1792, \"comm_type\": \"Political Action\", \"committee_name\": \"Missouri Forward PAC\", \"amount\": 2305094.0300000003}]}}, {\"mode\": \"vega-lite\"});\n",
       "</script>"
      ],
      "text/plain": [
       "alt.Chart(...)"
      ]
     },
     "execution_count": 12,
     "metadata": {},
     "output_type": "execute_result"
    }
   ],
   "source": [
    "alt.Chart(highest_committees.head(10)).mark_bar().encode(x='amount', y=alt.Y('committee_name', sort='-x'), color='comm_type')"
   ]
  },
  {
   "cell_type": "markdown",
   "metadata": {},
   "source": [
    "Of those committees, 7 are PACs. When looking at the 10 largest single donations, PACs make up the entire list. In fact, half of the donations are from the Republican Governors Association to a PAC called Republican Governors Association-Missouri 2020. The PAC lists Gov. Mike Parson as the candidate it supports. The other half are from that Missouri 2020 PAC to the Uniting Missouri PAC. Both the Republican Governors Association and the Republican Governors Association-Missouri 2020 committee are listed at the same D.C. address. Missouri tried to outlaw donations from PACs to other PACs, but a federal court declared it unconstitutional under the U.S. constitution. "
   ]
  },
  {
   "cell_type": "code",
   "execution_count": 14,
   "metadata": {},
   "outputs": [],
   "source": [
    "top_10 = pd.read_csv(\"data/analysis/top_10_donations.csv\")"
   ]
  },
  {
   "cell_type": "code",
   "execution_count": 18,
   "metadata": {},
   "outputs": [
    {
     "data": {
      "text/html": [
       "\n",
       "<div id=\"altair-viz-53f72ce6acd64b8dbbc3102a4955116f\"></div>\n",
       "<script type=\"text/javascript\">\n",
       "  (function(spec, embedOpt){\n",
       "    let outputDiv = document.currentScript.previousElementSibling;\n",
       "    if (outputDiv.id !== \"altair-viz-53f72ce6acd64b8dbbc3102a4955116f\") {\n",
       "      outputDiv = document.getElementById(\"altair-viz-53f72ce6acd64b8dbbc3102a4955116f\");\n",
       "    }\n",
       "    const paths = {\n",
       "      \"vega\": \"https://cdn.jsdelivr.net/npm//vega@5?noext\",\n",
       "      \"vega-lib\": \"https://cdn.jsdelivr.net/npm//vega-lib?noext\",\n",
       "      \"vega-lite\": \"https://cdn.jsdelivr.net/npm//vega-lite@4.8.1?noext\",\n",
       "      \"vega-embed\": \"https://cdn.jsdelivr.net/npm//vega-embed@6?noext\",\n",
       "    };\n",
       "\n",
       "    function loadScript(lib) {\n",
       "      return new Promise(function(resolve, reject) {\n",
       "        var s = document.createElement('script');\n",
       "        s.src = paths[lib];\n",
       "        s.async = true;\n",
       "        s.onload = () => resolve(paths[lib]);\n",
       "        s.onerror = () => reject(`Error loading script: ${paths[lib]}`);\n",
       "        document.getElementsByTagName(\"head\")[0].appendChild(s);\n",
       "      });\n",
       "    }\n",
       "\n",
       "    function showError(err) {\n",
       "      outputDiv.innerHTML = `<div class=\"error\" style=\"color:red;\">${err}</div>`;\n",
       "      throw err;\n",
       "    }\n",
       "\n",
       "    function displayChart(vegaEmbed) {\n",
       "      vegaEmbed(outputDiv, spec, embedOpt)\n",
       "        .catch(err => showError(`Javascript Error: ${err.message}<br>This usually means there's a typo in your chart specification. See the javascript console for the full traceback.`));\n",
       "    }\n",
       "\n",
       "    if(typeof define === \"function\" && define.amd) {\n",
       "      requirejs.config({paths});\n",
       "      require([\"vega-embed\"], displayChart, err => showError(`Error loading script: ${err.message}`));\n",
       "    } else if (typeof vegaEmbed === \"function\") {\n",
       "      displayChart(vegaEmbed);\n",
       "    } else {\n",
       "      loadScript(\"vega\")\n",
       "        .then(() => loadScript(\"vega-lite\"))\n",
       "        .then(() => loadScript(\"vega-embed\"))\n",
       "        .catch(showError)\n",
       "        .then(() => displayChart(vegaEmbed));\n",
       "    }\n",
       "  })({\"config\": {\"view\": {\"continuousWidth\": 400, \"continuousHeight\": 300}}, \"data\": {\"name\": \"data-616152d04836279a60413530d51039fd\"}, \"mark\": \"bar\", \"encoding\": {\"color\": {\"type\": \"nominal\", \"field\": \"committee_name\"}, \"x\": {\"type\": \"quantitative\", \"field\": \"amount\"}, \"y\": {\"type\": \"nominal\", \"field\": \"date\", \"sort\": \"-x\"}}, \"$schema\": \"https://vega.github.io/schema/vega-lite/v4.8.1.json\", \"datasets\": {\"data-616152d04836279a60413530d51039fd\": [{\"cd1_a_id\": 1531035, \"mecid\": \"C201214\", \"committee_name\": \"Republican Governors Association - Missouri 2020\", \"committee\": null, \"company\": \"Republican Governors Association\", \"first_name\": null, \"last_name\": null, \"address_1\": \"1747 Pennsylvania Avenue, NW\", \"address_2\": \"Suite 250\", \"city\": \"Washington\", \"state\": \"DC\", \"zip\": 20006, \"employer\": null, \"occupation\": null, \"date\": \"10/8/2020 0:00\", \"amount\": 4000000, \"contribution_type\": \"M\", \"report\": \"8 Day Before General Election-11/3/2020\"}, {\"cd1_a_id\": 1523919, \"mecid\": \"C180490\", \"committee_name\": \"Uniting Missouri PAC\", \"committee\": \"REPUBLICAN GOVERNORS ASSOCIATION - MISSOURI 2020\", \"company\": null, \"first_name\": null, \"last_name\": null, \"address_1\": \"1747 PENNSYLVANIA AVE NW\", \"address_2\": \"SUITE 250\", \"city\": \"WASHINGTON\", \"state\": \"DC\", \"zip\": 20006, \"employer\": null, \"occupation\": null, \"date\": \"10/9/2020 0:00\", \"amount\": 3000000, \"contribution_type\": \"M\", \"report\": \"8 Day Before General Election-11/3/2020\"}, {\"cd1_a_id\": 1523892, \"mecid\": \"C180490\", \"committee_name\": \"Uniting Missouri PAC\", \"committee\": \"REPUBLICAN GOVERNORS ASSOCIATION - MISSOURI 2020\", \"company\": null, \"first_name\": null, \"last_name\": null, \"address_1\": \"1747 PENNSYLVANIA AVE NW\", \"address_2\": \"SUITE 250\", \"city\": \"WASHINGTON\", \"state\": \"DC\", \"zip\": 20006, \"employer\": null, \"occupation\": null, \"date\": \"10/1/2020 0:00\", \"amount\": 3000000, \"contribution_type\": \"M\", \"report\": \"8 Day Before General Election-11/3/2020\"}, {\"cd1_a_id\": 1488932, \"mecid\": \"C201214\", \"committee_name\": \"Republican Governors Association - Missouri 2020\", \"committee\": null, \"company\": \"Republican Governors Association\", \"first_name\": null, \"last_name\": null, \"address_1\": \"1747 Pennsylvania Avenue, NW\", \"address_2\": \"Suite 250\", \"city\": \"Washington\", \"state\": \"DC\", \"zip\": 20006, \"employer\": null, \"occupation\": null, \"date\": \"9/30/2020 0:00\", \"amount\": 2500000, \"contribution_type\": \"M\", \"report\": \"October Quarterly Report\"}, {\"cd1_a_id\": 1488928, \"mecid\": \"C201214\", \"committee_name\": \"Republican Governors Association - Missouri 2020\", \"committee\": null, \"company\": \"Republican Governors Association\", \"first_name\": null, \"last_name\": null, \"address_1\": \"1747 Pennsylvania Avenue, NW\", \"address_2\": \"Suite 250\", \"city\": \"Washington\", \"state\": \"DC\", \"zip\": 20006, \"employer\": null, \"occupation\": null, \"date\": \"8/31/2020 0:00\", \"amount\": 2500000, \"contribution_type\": \"M\", \"report\": \"October Quarterly Report\"}, {\"cd1_a_id\": 1464448, \"mecid\": \"C201214\", \"committee_name\": \"Republican Governors Association - Missouri 2020\", \"committee\": null, \"company\": \"Republican Governors Association\", \"first_name\": null, \"last_name\": null, \"address_1\": \"1747 Pennsylvania Avenue, NW\", \"address_2\": \"Suite 250\", \"city\": \"Washington\", \"state\": \"DC\", \"zip\": 20006, \"employer\": null, \"occupation\": null, \"date\": \"8/3/2020 0:00\", \"amount\": 2500000, \"contribution_type\": \"M\", \"report\": \"30 Day After Primary Election-8/4/2020\"}, {\"cd1_a_id\": 1508342, \"mecid\": \"C180490\", \"committee_name\": \"Uniting Missouri PAC\", \"committee\": \"REPUBLICAN GOVERNORS ASSOCIATION - MISSOURI 2020\", \"company\": null, \"first_name\": null, \"last_name\": null, \"address_1\": \"1747 PENNSYLVANIA AVE NW\", \"address_2\": \"SUITE 250\", \"city\": \"WASHINGTON\", \"state\": \"DC\", \"zip\": 20006, \"employer\": null, \"occupation\": null, \"date\": \"9/15/2020 0:00\", \"amount\": 2000000, \"contribution_type\": \"M\", \"report\": \"October Quarterly Report\"}, {\"cd1_a_id\": 1464167, \"mecid\": \"C180490\", \"committee_name\": \"Uniting Missouri PAC\", \"committee\": \"REPUBLICAN GOVERNORS ASSOCIATION - MISSOURI 2020\", \"company\": null, \"first_name\": null, \"last_name\": null, \"address_1\": \"1747 PENNSYLVANIA AVE NW\", \"address_2\": \"SUITE 250\", \"city\": \"WASHINGTON\", \"state\": \"DC\", \"zip\": 20006, \"employer\": null, \"occupation\": null, \"date\": \"8/5/2020 0:00\", \"amount\": 2000000, \"contribution_type\": \"M\", \"report\": \"30 Day After Primary Election-8/4/2020\"}, {\"cd1_a_id\": 1541565, \"mecid\": \"C180490\", \"committee_name\": \"Uniting Missouri PAC\", \"committee\": \"REPUBLICAN GOVERNORS ASSOCIATION - MISSOURI 2020\", \"company\": null, \"first_name\": null, \"last_name\": null, \"address_1\": \"1747 PENNSYLVANIA AVE NW\", \"address_2\": \"SUITE 250\", \"city\": \"WASHINGTON\", \"state\": \"DC\", \"zip\": 20006, \"employer\": null, \"occupation\": null, \"date\": \"10/26/2020 0:00\", \"amount\": 1700000, \"contribution_type\": \"M\", \"report\": \"24 Hour Expenditure Report-11/3/2020 General\"}, {\"cd1_a_id\": 1541677, \"mecid\": \"C201214\", \"committee_name\": \"Republican Governors Association - Missouri 2020\", \"committee\": null, \"company\": \"Republican Governors Association\", \"first_name\": null, \"last_name\": null, \"address_1\": \"1747 Pennsylvania Avenue, NW\", \"address_2\": \"Suite 250\", \"city\": \"Washington\", \"state\": \"DC\", \"zip\": 20006, \"employer\": null, \"occupation\": null, \"date\": \"10/23/2020 0:00\", \"amount\": 1600000, \"contribution_type\": \"M\", \"report\": \"24 Hour Expenditure Report-11/3/2020 General\"}]}}, {\"mode\": \"vega-lite\"});\n",
       "</script>"
      ],
      "text/plain": [
       "alt.Chart(...)"
      ]
     },
     "execution_count": 18,
     "metadata": {},
     "output_type": "execute_result"
    }
   ],
   "source": [
    "alt.Chart(top_10).mark_bar().encode(x='amount', y=alt.Y('date', sort='-x'), color='committee_name')"
   ]
  },
  {
   "cell_type": "markdown",
   "metadata": {},
   "source": [
    "If we examine itemized donations once again, we can find out how common it is for donations to come from Washington, D.C., or from other out-of-state sources. The resulting chart shows that Missouri and D.C. dominate itemized Missouri campaign contributions. While donations to PACs make up barely over half of donations from Missouri, they are the vast majority of donations from D.C. Illinois, Texas and Kansas also make the top five lists,"
   ]
  },
  {
   "cell_type": "code",
   "execution_count": 23,
   "metadata": {},
   "outputs": [],
   "source": [
    "top_5 = pd.read_csv(\"data/analysis/top_5_states.csv\")"
   ]
  },
  {
   "cell_type": "code",
   "execution_count": 26,
   "metadata": {},
   "outputs": [
    {
     "data": {
      "text/html": [
       "\n",
       "<div id=\"altair-viz-84054f8545ac421596cd53238da09968\"></div>\n",
       "<script type=\"text/javascript\">\n",
       "  (function(spec, embedOpt){\n",
       "    let outputDiv = document.currentScript.previousElementSibling;\n",
       "    if (outputDiv.id !== \"altair-viz-84054f8545ac421596cd53238da09968\") {\n",
       "      outputDiv = document.getElementById(\"altair-viz-84054f8545ac421596cd53238da09968\");\n",
       "    }\n",
       "    const paths = {\n",
       "      \"vega\": \"https://cdn.jsdelivr.net/npm//vega@5?noext\",\n",
       "      \"vega-lib\": \"https://cdn.jsdelivr.net/npm//vega-lib?noext\",\n",
       "      \"vega-lite\": \"https://cdn.jsdelivr.net/npm//vega-lite@4.8.1?noext\",\n",
       "      \"vega-embed\": \"https://cdn.jsdelivr.net/npm//vega-embed@6?noext\",\n",
       "    };\n",
       "\n",
       "    function loadScript(lib) {\n",
       "      return new Promise(function(resolve, reject) {\n",
       "        var s = document.createElement('script');\n",
       "        s.src = paths[lib];\n",
       "        s.async = true;\n",
       "        s.onload = () => resolve(paths[lib]);\n",
       "        s.onerror = () => reject(`Error loading script: ${paths[lib]}`);\n",
       "        document.getElementsByTagName(\"head\")[0].appendChild(s);\n",
       "      });\n",
       "    }\n",
       "\n",
       "    function showError(err) {\n",
       "      outputDiv.innerHTML = `<div class=\"error\" style=\"color:red;\">${err}</div>`;\n",
       "      throw err;\n",
       "    }\n",
       "\n",
       "    function displayChart(vegaEmbed) {\n",
       "      vegaEmbed(outputDiv, spec, embedOpt)\n",
       "        .catch(err => showError(`Javascript Error: ${err.message}<br>This usually means there's a typo in your chart specification. See the javascript console for the full traceback.`));\n",
       "    }\n",
       "\n",
       "    if(typeof define === \"function\" && define.amd) {\n",
       "      requirejs.config({paths});\n",
       "      require([\"vega-embed\"], displayChart, err => showError(`Error loading script: ${err.message}`));\n",
       "    } else if (typeof vegaEmbed === \"function\") {\n",
       "      displayChart(vegaEmbed);\n",
       "    } else {\n",
       "      loadScript(\"vega\")\n",
       "        .then(() => loadScript(\"vega-lite\"))\n",
       "        .then(() => loadScript(\"vega-embed\"))\n",
       "        .catch(showError)\n",
       "        .then(() => displayChart(vegaEmbed));\n",
       "    }\n",
       "  })({\"config\": {\"view\": {\"continuousWidth\": 400, \"continuousHeight\": 300}}, \"data\": {\"name\": \"data-ca9860fe3b8fbbbf61ffe6dd2bcf162c\"}, \"mark\": \"bar\", \"encoding\": {\"color\": {\"type\": \"nominal\", \"field\": \"committee type\"}, \"x\": {\"type\": \"quantitative\", \"aggregate\": \"sum\", \"field\": \"amount\"}, \"y\": {\"type\": \"nominal\", \"field\": \"state\", \"sort\": \"-x\"}}, \"$schema\": \"https://vega.github.io/schema/vega-lite/v4.8.1.json\", \"datasets\": {\"data-ca9860fe3b8fbbbf61ffe6dd2bcf162c\": [{\"state\": \"MO\", \"committee type\": \"pacs\", \"amount\": 45089523.99}, {\"state\": \"DC\", \"committee type\": \"pacs\", \"amount\": 59328764.2}, {\"state\": \"IL\", \"committee type\": \"pacs\", \"amount\": 2021105.08}, {\"state\": \"TX\", \"committee type\": \"pacs\", \"amount\": 1888559.62}, {\"state\": \"KS\", \"committee type\": \"pacs\", \"amount\": 964519.98}, {\"state\": \"MO\", \"committee type\": \"candidates\", \"amount\": 33140672.14}, {\"state\": \"DC\", \"committee type\": \"candidates\", \"amount\": 408748.93}, {\"state\": \"IL\", \"committee type\": \"candidates\", \"amount\": 350146.79}, {\"state\": \"TX\", \"committee type\": \"candidates\", \"amount\": 230867.98}, {\"state\": \"KS\", \"committee type\": \"candidates\", \"amount\": 642276.87}, {\"state\": \"MO\", \"committee type\": \"all_other\", \"amount\": 10498595.75}, {\"state\": \"DC\", \"committee type\": \"all_other\", \"amount\": 2824744.45}, {\"state\": \"IL\", \"committee type\": \"all_other\", \"amount\": 63297.8}, {\"state\": \"TX\", \"committee type\": \"all_other\", \"amount\": 7607.0}, {\"state\": \"KS\", \"committee type\": \"all_other\", \"amount\": 100565.87}]}}, {\"mode\": \"vega-lite\"});\n",
       "</script>"
      ],
      "text/plain": [
       "alt.Chart(...)"
      ]
     },
     "execution_count": 26,
     "metadata": {},
     "output_type": "execute_result"
    }
   ],
   "source": [
    "alt.Chart(top_5).mark_bar().encode(x='sum(amount)', y=alt.Y('state', sort=\"-x\"), color=\"committee type\")"
   ]
  },
  {
   "cell_type": "markdown",
   "metadata": {},
   "source": [
    "Committees are required to report how they spent their money, including some itemized entries, but it's difficult to draw any overall conclusions because the line for donation purpose is so open-ended. 8,234 of total purposes were listed, with the biggest being \"media buy\", \"advertising - media placement\" and \"advertising\". As the chart below shows, many of the top purposes have only slight wording differences to distinguish them. "
   ]
  },
  {
   "cell_type": "code",
   "execution_count": 27,
   "metadata": {},
   "outputs": [],
   "source": [
    "top_spending = pd.read_csv(\"data/analysis/expenditure_purpose.csv\")"
   ]
  },
  {
   "cell_type": "code",
   "execution_count": 33,
   "metadata": {},
   "outputs": [
    {
     "data": {
      "text/html": [
       "\n",
       "<div id=\"altair-viz-130f559f252f44df92ed87684b10a59d\"></div>\n",
       "<script type=\"text/javascript\">\n",
       "  (function(spec, embedOpt){\n",
       "    let outputDiv = document.currentScript.previousElementSibling;\n",
       "    if (outputDiv.id !== \"altair-viz-130f559f252f44df92ed87684b10a59d\") {\n",
       "      outputDiv = document.getElementById(\"altair-viz-130f559f252f44df92ed87684b10a59d\");\n",
       "    }\n",
       "    const paths = {\n",
       "      \"vega\": \"https://cdn.jsdelivr.net/npm//vega@5?noext\",\n",
       "      \"vega-lib\": \"https://cdn.jsdelivr.net/npm//vega-lib?noext\",\n",
       "      \"vega-lite\": \"https://cdn.jsdelivr.net/npm//vega-lite@4.8.1?noext\",\n",
       "      \"vega-embed\": \"https://cdn.jsdelivr.net/npm//vega-embed@6?noext\",\n",
       "    };\n",
       "\n",
       "    function loadScript(lib) {\n",
       "      return new Promise(function(resolve, reject) {\n",
       "        var s = document.createElement('script');\n",
       "        s.src = paths[lib];\n",
       "        s.async = true;\n",
       "        s.onload = () => resolve(paths[lib]);\n",
       "        s.onerror = () => reject(`Error loading script: ${paths[lib]}`);\n",
       "        document.getElementsByTagName(\"head\")[0].appendChild(s);\n",
       "      });\n",
       "    }\n",
       "\n",
       "    function showError(err) {\n",
       "      outputDiv.innerHTML = `<div class=\"error\" style=\"color:red;\">${err}</div>`;\n",
       "      throw err;\n",
       "    }\n",
       "\n",
       "    function displayChart(vegaEmbed) {\n",
       "      vegaEmbed(outputDiv, spec, embedOpt)\n",
       "        .catch(err => showError(`Javascript Error: ${err.message}<br>This usually means there's a typo in your chart specification. See the javascript console for the full traceback.`));\n",
       "    }\n",
       "\n",
       "    if(typeof define === \"function\" && define.amd) {\n",
       "      requirejs.config({paths});\n",
       "      require([\"vega-embed\"], displayChart, err => showError(`Error loading script: ${err.message}`));\n",
       "    } else if (typeof vegaEmbed === \"function\") {\n",
       "      displayChart(vegaEmbed);\n",
       "    } else {\n",
       "      loadScript(\"vega\")\n",
       "        .then(() => loadScript(\"vega-lite\"))\n",
       "        .then(() => loadScript(\"vega-embed\"))\n",
       "        .catch(showError)\n",
       "        .then(() => displayChart(vegaEmbed));\n",
       "    }\n",
       "  })({\"config\": {\"view\": {\"continuousWidth\": 400, \"continuousHeight\": 300}}, \"data\": {\"name\": \"data-99ec8d96eca9e329d7a62b0ac9f6f0aa\"}, \"mark\": \"bar\", \"encoding\": {\"x\": {\"type\": \"quantitative\", \"field\": \"amount\"}, \"y\": {\"type\": \"nominal\", \"field\": \"purpose\", \"sort\": \"-x\"}}, \"$schema\": \"https://vega.github.io/schema/vega-lite/v4.8.1.json\", \"datasets\": {\"data-99ec8d96eca9e329d7a62b0ac9f6f0aa\": [{\"Unnamed: 0\": 4552, \"purpose\": \"media buy\", \"amount\": 19812048.66}, {\"Unnamed: 0\": 417, \"purpose\": \"advertising - media placement\", \"amount\": 14540244.74}, {\"Unnamed: 0\": 402, \"purpose\": \"advertising\", \"amount\": 6448780.339999997}, {\"Unnamed: 0\": 4556, \"purpose\": \"media buys\", \"amount\": 5093093.72}, {\"Unnamed: 0\": 2333, \"purpose\": \"direct mail\", \"amount\": 2334806.85}, {\"Unnamed: 0\": 4551, \"purpose\": \"media advertising\", \"amount\": 2285096.4}, {\"Unnamed: 0\": 1488, \"purpose\": \"campaign worker\", \"amount\": 1857596.2999999973}, {\"Unnamed: 0\": 4564, \"purpose\": \"media placement advertising\", \"amount\": 1689096.35}, {\"Unnamed: 0\": 2249, \"purpose\": \"digital advertising\", \"amount\": 1540166.8}, {\"Unnamed: 0\": 4566, \"purpose\": \"media production\", \"amount\": 1467046.7300000002}, {\"Unnamed: 0\": 6879, \"purpose\": \"signature collection & mgmt fee\", \"amount\": 1402464.48}, {\"Unnamed: 0\": 7700, \"purpose\": \"tv ads\", \"amount\": 1149765.5}, {\"Unnamed: 0\": 5709, \"purpose\": \"printing\", \"amount\": 1125674.42}, {\"Unnamed: 0\": 4279, \"purpose\": \"mail\", \"amount\": 1036887.64}, {\"Unnamed: 0\": 6581, \"purpose\": \"research\", \"amount\": 1027394.75}, {\"Unnamed: 0\": 5897, \"purpose\": \"production and digital media buy\", \"amount\": 991389.0}, {\"Unnamed: 0\": 5456, \"purpose\": \"polling\", \"amount\": 985763.2}, {\"Unnamed: 0\": 1939, \"purpose\": \"consulting\", \"amount\": 936552.35}, {\"Unnamed: 0\": 5204, \"purpose\": \"payroll\", \"amount\": 813294.3599999999}, {\"Unnamed: 0\": 4569, \"purpose\": \"media purchase\", \"amount\": 786604.0}]}}, {\"mode\": \"vega-lite\"});\n",
       "</script>"
      ],
      "text/plain": [
       "alt.Chart(...)"
      ]
     },
     "execution_count": 33,
     "metadata": {},
     "output_type": "execute_result"
    }
   ],
   "source": [
    "alt.Chart(top_spending.head(20)).mark_bar().encode(x='amount', y=alt.Y('purpose', sort='-x'))"
   ]
  },
  {
   "cell_type": "markdown",
   "metadata": {},
   "source": [
    "For PACs specifically the list looks like this: "
   ]
  },
  {
   "cell_type": "code",
   "execution_count": 34,
   "metadata": {},
   "outputs": [],
   "source": [
    "top_pac_spending = pd.read_csv(\"data/analysis/pac_expenditures.csv\")"
   ]
  },
  {
   "cell_type": "code",
   "execution_count": 35,
   "metadata": {},
   "outputs": [
    {
     "data": {
      "text/html": [
       "\n",
       "<div id=\"altair-viz-180274044d8c47fcba19433ae5f377e5\"></div>\n",
       "<script type=\"text/javascript\">\n",
       "  (function(spec, embedOpt){\n",
       "    let outputDiv = document.currentScript.previousElementSibling;\n",
       "    if (outputDiv.id !== \"altair-viz-180274044d8c47fcba19433ae5f377e5\") {\n",
       "      outputDiv = document.getElementById(\"altair-viz-180274044d8c47fcba19433ae5f377e5\");\n",
       "    }\n",
       "    const paths = {\n",
       "      \"vega\": \"https://cdn.jsdelivr.net/npm//vega@5?noext\",\n",
       "      \"vega-lib\": \"https://cdn.jsdelivr.net/npm//vega-lib?noext\",\n",
       "      \"vega-lite\": \"https://cdn.jsdelivr.net/npm//vega-lite@4.8.1?noext\",\n",
       "      \"vega-embed\": \"https://cdn.jsdelivr.net/npm//vega-embed@6?noext\",\n",
       "    };\n",
       "\n",
       "    function loadScript(lib) {\n",
       "      return new Promise(function(resolve, reject) {\n",
       "        var s = document.createElement('script');\n",
       "        s.src = paths[lib];\n",
       "        s.async = true;\n",
       "        s.onload = () => resolve(paths[lib]);\n",
       "        s.onerror = () => reject(`Error loading script: ${paths[lib]}`);\n",
       "        document.getElementsByTagName(\"head\")[0].appendChild(s);\n",
       "      });\n",
       "    }\n",
       "\n",
       "    function showError(err) {\n",
       "      outputDiv.innerHTML = `<div class=\"error\" style=\"color:red;\">${err}</div>`;\n",
       "      throw err;\n",
       "    }\n",
       "\n",
       "    function displayChart(vegaEmbed) {\n",
       "      vegaEmbed(outputDiv, spec, embedOpt)\n",
       "        .catch(err => showError(`Javascript Error: ${err.message}<br>This usually means there's a typo in your chart specification. See the javascript console for the full traceback.`));\n",
       "    }\n",
       "\n",
       "    if(typeof define === \"function\" && define.amd) {\n",
       "      requirejs.config({paths});\n",
       "      require([\"vega-embed\"], displayChart, err => showError(`Error loading script: ${err.message}`));\n",
       "    } else if (typeof vegaEmbed === \"function\") {\n",
       "      displayChart(vegaEmbed);\n",
       "    } else {\n",
       "      loadScript(\"vega\")\n",
       "        .then(() => loadScript(\"vega-lite\"))\n",
       "        .then(() => loadScript(\"vega-embed\"))\n",
       "        .catch(showError)\n",
       "        .then(() => displayChart(vegaEmbed));\n",
       "    }\n",
       "  })({\"config\": {\"view\": {\"continuousWidth\": 400, \"continuousHeight\": 300}}, \"data\": {\"name\": \"data-035a0c3fe2c3f650bcf78ea1e11cbfb5\"}, \"mark\": \"bar\", \"encoding\": {\"x\": {\"type\": \"quantitative\", \"field\": \"amount\"}, \"y\": {\"type\": \"nominal\", \"field\": \"purpose\", \"sort\": \"-x\"}}, \"$schema\": \"https://vega.github.io/schema/vega-lite/v4.8.1.json\", \"datasets\": {\"data-035a0c3fe2c3f650bcf78ea1e11cbfb5\": [{\"purpose\": \"media buy\", \"amount\": 15375634.0}, {\"purpose\": \"advertising - media placement\", \"amount\": 14540244.74}, {\"purpose\": \"advertising\", \"amount\": 4200694.16}, {\"purpose\": \"media advertising\", \"amount\": 2284983.0}, {\"purpose\": \"direct mail\", \"amount\": 1844355.37}, {\"purpose\": \"media placement advertising\", \"amount\": 1689096.35}, {\"purpose\": \"digital advertising\", \"amount\": 1018689.88}, {\"purpose\": \"production and digital media buy\", \"amount\": 991389.0}, {\"purpose\": \"tv ads\", \"amount\": 970000.0}, {\"purpose\": \"polling\", \"amount\": 757536.25}, {\"purpose\": \"mail\", \"amount\": 753376.4400000002}, {\"purpose\": \"advertising - direct mail\", \"amount\": 750640.0}, {\"purpose\": \"consulting\", \"amount\": 707427.49}, {\"purpose\": \"independent expenditures - direct mail\", \"amount\": 636605.3099999998}, {\"purpose\": \"research\", \"amount\": 558842.4}, {\"purpose\": \"campaign worker\", \"amount\": 533490.0799999986}, {\"purpose\": \"signature gathering \", \"amount\": 510000.0}, {\"purpose\": \"digital ads\", \"amount\": 476356.81}, {\"purpose\": \"payroll\", \"amount\": 473554.25}, {\"purpose\": \"contribution\", \"amount\": 417411.08}]}}, {\"mode\": \"vega-lite\"});\n",
       "</script>"
      ],
      "text/plain": [
       "alt.Chart(...)"
      ]
     },
     "execution_count": 35,
     "metadata": {},
     "output_type": "execute_result"
    }
   ],
   "source": [
    "alt.Chart(top_pac_spending.head(20)).mark_bar().encode(x='amount', y=alt.Y('purpose', sort='-x'))"
   ]
  },
  {
   "cell_type": "markdown",
   "metadata": {},
   "source": [
    "The committees below spent the most money when totaling itemized reports of spending. Seven of them are PACs."
   ]
  },
  {
   "cell_type": "code",
   "execution_count": 36,
   "metadata": {},
   "outputs": [],
   "source": [
    "top_spenders = pd.read_csv(\"data/analysis/top_spenders.csv\")"
   ]
  },
  {
   "cell_type": "code",
   "execution_count": 37,
   "metadata": {},
   "outputs": [
    {
     "data": {
      "text/html": [
       "\n",
       "<div id=\"altair-viz-3cef4540a5884c2793d3d61d72afcd1c\"></div>\n",
       "<script type=\"text/javascript\">\n",
       "  (function(spec, embedOpt){\n",
       "    let outputDiv = document.currentScript.previousElementSibling;\n",
       "    if (outputDiv.id !== \"altair-viz-3cef4540a5884c2793d3d61d72afcd1c\") {\n",
       "      outputDiv = document.getElementById(\"altair-viz-3cef4540a5884c2793d3d61d72afcd1c\");\n",
       "    }\n",
       "    const paths = {\n",
       "      \"vega\": \"https://cdn.jsdelivr.net/npm//vega@5?noext\",\n",
       "      \"vega-lib\": \"https://cdn.jsdelivr.net/npm//vega-lib?noext\",\n",
       "      \"vega-lite\": \"https://cdn.jsdelivr.net/npm//vega-lite@4.8.1?noext\",\n",
       "      \"vega-embed\": \"https://cdn.jsdelivr.net/npm//vega-embed@6?noext\",\n",
       "    };\n",
       "\n",
       "    function loadScript(lib) {\n",
       "      return new Promise(function(resolve, reject) {\n",
       "        var s = document.createElement('script');\n",
       "        s.src = paths[lib];\n",
       "        s.async = true;\n",
       "        s.onload = () => resolve(paths[lib]);\n",
       "        s.onerror = () => reject(`Error loading script: ${paths[lib]}`);\n",
       "        document.getElementsByTagName(\"head\")[0].appendChild(s);\n",
       "      });\n",
       "    }\n",
       "\n",
       "    function showError(err) {\n",
       "      outputDiv.innerHTML = `<div class=\"error\" style=\"color:red;\">${err}</div>`;\n",
       "      throw err;\n",
       "    }\n",
       "\n",
       "    function displayChart(vegaEmbed) {\n",
       "      vegaEmbed(outputDiv, spec, embedOpt)\n",
       "        .catch(err => showError(`Javascript Error: ${err.message}<br>This usually means there's a typo in your chart specification. See the javascript console for the full traceback.`));\n",
       "    }\n",
       "\n",
       "    if(typeof define === \"function\" && define.amd) {\n",
       "      requirejs.config({paths});\n",
       "      require([\"vega-embed\"], displayChart, err => showError(`Error loading script: ${err.message}`));\n",
       "    } else if (typeof vegaEmbed === \"function\") {\n",
       "      displayChart(vegaEmbed);\n",
       "    } else {\n",
       "      loadScript(\"vega\")\n",
       "        .then(() => loadScript(\"vega-lite\"))\n",
       "        .then(() => loadScript(\"vega-embed\"))\n",
       "        .catch(showError)\n",
       "        .then(() => displayChart(vegaEmbed));\n",
       "    }\n",
       "  })({\"config\": {\"view\": {\"continuousWidth\": 400, \"continuousHeight\": 300}}, \"data\": {\"name\": \"data-ba001bd92ad2697f19962a333b984103\"}, \"mark\": \"bar\", \"encoding\": {\"color\": {\"type\": \"nominal\", \"field\": \"comm_type\"}, \"x\": {\"type\": \"quantitative\", \"field\": \"amount\"}, \"y\": {\"type\": \"nominal\", \"field\": \"committee_name\", \"sort\": \"-x\"}}, \"$schema\": \"https://vega.github.io/schema/vega-lite/v4.8.1.json\", \"datasets\": {\"data-ba001bd92ad2697f19962a333b984103\": [{\"index\": 1937, \"comm_type\": \"Political Action\", \"committee_name\": \"Uniting Missouri PAC\", \"amount\": 22313214.16000001}, {\"index\": 1459, \"comm_type\": \"Political Action\", \"committee_name\": \"A Stronger Missouri\", \"amount\": 11718712.05}, {\"index\": 33, \"comm_type\": \"Campaign\", \"committee_name\": \"Missourians for Healthcare\", \"amount\": 8998765.259999994}, {\"index\": 1208, \"comm_type\": \"Candidate\", \"committee_name\": \"Nicole Galloway For Missouri\", \"amount\": 6207279.520000002}, {\"index\": 1500, \"comm_type\": \"Political Action\", \"committee_name\": \"CLEAN Missouri\", \"amount\": 5161579.37}, {\"index\": 1222, \"comm_type\": \"Candidate\", \"committee_name\": \"Parson For Missouri\", \"amount\": 4100017.0499999993}, {\"index\": 1725, \"comm_type\": \"Political Action\", \"committee_name\": \"MO Opportunity PAC\", \"amount\": 2624548.94}, {\"index\": 1619, \"comm_type\": \"Political Action\", \"committee_name\": \"House Republican Campaign Committee, Inc\", \"amount\": 2285581.02}, {\"index\": 1762, \"comm_type\": \"Political Action\", \"committee_name\": \"Missouri Forward PAC\", \"amount\": 1580378.19}, {\"index\": 1820, \"comm_type\": \"Political Action\", \"committee_name\": \"Page PAC\", \"amount\": 1385192.66}]}}, {\"mode\": \"vega-lite\"});\n",
       "</script>"
      ],
      "text/plain": [
       "alt.Chart(...)"
      ]
     },
     "execution_count": 37,
     "metadata": {},
     "output_type": "execute_result"
    }
   ],
   "source": [
    "alt.Chart(top_spenders.head(10)).mark_bar().encode(x='amount', y=alt.Y('committee_name', sort='-x'), color='comm_type')"
   ]
  },
  {
   "cell_type": "markdown",
   "metadata": {},
   "source": [
    "In conclusion, while Missouri residents have voted to keep money out of politics multiple times in just the past five years, they have had a hard time targeting a type of campaign finance committee that has been growing in importance. PACs make up the majority of the top ten receivers and spenders among all committees when totaling itemized donations received and spending reports, they outstripped candidate committees in their October quarterly reports of total money received this election cycle in 2020, and the sheer number of PACs has been growing since 2016.\n",
    "\n",
    "Yet it some ways it is more difficult to track the source of PACs' money. PACs receive more money from out of state (primarily Washington, D.C.) compared to candidate committees. They are allowed to pass money from PAC to PAC, making it difficult to trace the path of donations. And spending categories reported don't provide a lot of information about which candidates or issues PACs actually support, though some PACs do declare support for specific candidates. \n",
    "\n",
    "Federal court decisions, including Citizens United, have made it difficult to restrict PACs. But Missourians should at least understand the full landscape of campaign finance committees -- including PACs -- to better make informed decisions on campaign finance restrictions. "
   ]
  }
 ],
 "metadata": {
  "kernelspec": {
   "display_name": "Python 3",
   "language": "python",
   "name": "python3"
  },
  "language_info": {
   "codemirror_mode": {
    "name": "ipython",
    "version": 3
   },
   "file_extension": ".py",
   "mimetype": "text/x-python",
   "name": "python",
   "nbconvert_exporter": "python",
   "pygments_lexer": "ipython3",
   "version": "3.8.5"
  }
 },
 "nbformat": 4,
 "nbformat_minor": 4
}
